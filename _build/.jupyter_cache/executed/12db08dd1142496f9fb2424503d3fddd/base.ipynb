{
 "cells": [
  {
   "cell_type": "code",
   "execution_count": 1,
   "id": "426ae38d",
   "metadata": {},
   "outputs": [
    {
     "data": {
      "text/plain": [
       "(2, 1)"
      ]
     },
     "execution_count": 1,
     "metadata": {},
     "output_type": "execute_result"
    }
   ],
   "source": [
    "a = 1\n",
    "b = a\n",
    "a = 2   # on modifie a\n",
    "a, b    # b n'a pas ete modifiée"
   ]
  },
  {
   "cell_type": "code",
   "execution_count": 2,
   "id": "3f5b1162",
   "metadata": {},
   "outputs": [
    {
     "data": {
      "text/plain": [
       "(['foo', 2, 3], ['foo', 2, 3])"
      ]
     },
     "execution_count": 2,
     "metadata": {},
     "output_type": "execute_result"
    }
   ],
   "source": [
    "a = [1, 2, 3]\n",
    "b = a\n",
    "a[0] = 'foo'    # on modifie la liste a\n",
    "a, b            # la liste b a aussi ete modifiée !"
   ]
  },
  {
   "cell_type": "code",
   "execution_count": 3,
   "id": "e91f5a43",
   "metadata": {},
   "outputs": [
    {
     "data": {
      "text/plain": [
       "(2190221770992, 2190221770992)"
      ]
     },
     "execution_count": 3,
     "metadata": {},
     "output_type": "execute_result"
    }
   ],
   "source": [
    "a = 1\n",
    "b = a\n",
    "id(a), id(b)    # les variables a et b pointent vers le même emplacement en mémoire"
   ]
  },
  {
   "cell_type": "code",
   "execution_count": 4,
   "id": "536bbc0a",
   "metadata": {},
   "outputs": [
    {
     "data": {
      "text/plain": [
       "(2190221771024, 2190221770992)"
      ]
     },
     "execution_count": 4,
     "metadata": {},
     "output_type": "execute_result"
    }
   ],
   "source": [
    "a = 2\n",
    "id(a), id(b)    # la variable b pointe toujours vers le même emplacement mais plus la variable a"
   ]
  },
  {
   "cell_type": "code",
   "execution_count": 5,
   "id": "26966c18",
   "metadata": {},
   "outputs": [
    {
     "data": {
      "text/plain": [
       "(2190299538112, 2190299538112)"
      ]
     },
     "execution_count": 5,
     "metadata": {},
     "output_type": "execute_result"
    }
   ],
   "source": [
    "a = [1, 2, 3]\n",
    "b = a\n",
    "id(a), id(b)    # les variables a et b pointent vers le même emplacement en mémoire"
   ]
  },
  {
   "cell_type": "code",
   "execution_count": 6,
   "id": "a06737a7",
   "metadata": {},
   "outputs": [
    {
     "data": {
      "text/plain": [
       "(2190299538112, 2190299538112)"
      ]
     },
     "execution_count": 6,
     "metadata": {},
     "output_type": "execute_result"
    }
   ],
   "source": [
    "a[0] = 'foo'\n",
    "id(a), id(b)    # les variables a et b pointent toujours vers le même emplacement"
   ]
  },
  {
   "cell_type": "code",
   "execution_count": 7,
   "id": "e03ce463",
   "metadata": {},
   "outputs": [
    {
     "data": {
      "text/plain": [
       "(([1, 1000, 3], 'toto', 'tata'), ([1, 1000, 3], 'toto', 'tata'))"
      ]
     },
     "execution_count": 7,
     "metadata": {},
     "output_type": "execute_result"
    }
   ],
   "source": [
    "a = ([1, 2, 3], 'toto', 'tata')\n",
    "b = a\n",
    "a[0][1] = 1000\n",
    "a, b                # b a egalement ete modifié"
   ]
  },
  {
   "cell_type": "code",
   "execution_count": 8,
   "id": "d423ad9e",
   "metadata": {},
   "outputs": [
    {
     "data": {
      "text/plain": [
       "(2190299368384, 2190299368384)"
      ]
     },
     "execution_count": 8,
     "metadata": {},
     "output_type": "execute_result"
    }
   ],
   "source": [
    "id(a[0]), id(b[0])  # le premier élément du tuple est toujours le même"
   ]
  },
  {
   "cell_type": "code",
   "execution_count": 9,
   "id": "a57bc122",
   "metadata": {},
   "outputs": [
    {
     "data": {
      "text/plain": [
       "(2190299794560, 2190299787840, 2190299785984, 2190299746432)"
      ]
     },
     "execution_count": 9,
     "metadata": {},
     "output_type": "execute_result"
    }
   ],
   "source": [
    "liste1 = [1, 2, 3]\n",
    "liste2 = liste1[:]\n",
    "liste3 = liste1.copy()\n",
    "liste4 = list(liste1)\n",
    "id(liste1), id(liste2), id(liste3), id(liste4)  # les objets sont bien distincts"
   ]
  },
  {
   "cell_type": "code",
   "execution_count": 10,
   "id": "f8ba45cd",
   "metadata": {},
   "outputs": [
    {
     "data": {
      "text/plain": [
       "(['toto', 2, 3], [1, 2, 3], [1, 2, 3], [1, 2, 3])"
      ]
     },
     "execution_count": 10,
     "metadata": {},
     "output_type": "execute_result"
    }
   ],
   "source": [
    "liste1[0] = 'toto'\n",
    "liste1, liste2, liste3, liste4                  # liste1 a ete modifiée mais pas les autres listes"
   ]
  },
  {
   "cell_type": "code",
   "execution_count": 11,
   "id": "91e9ce4b",
   "metadata": {},
   "outputs": [],
   "source": [
    "eleve  = { 'nom': 'Pierrette', 'notes': [14, 8, 15]}"
   ]
  },
  {
   "cell_type": "code",
   "execution_count": 12,
   "id": "a3fbe915",
   "metadata": {},
   "outputs": [
    {
     "data": {
      "text/plain": [
       "{'nom': 'Pierrette', 'notes': [14, 8, 15]}"
      ]
     },
     "execution_count": 12,
     "metadata": {},
     "output_type": "execute_result"
    }
   ],
   "source": [
    "eleve2 = eleve.copy()\n",
    "eleve2"
   ]
  },
  {
   "cell_type": "code",
   "execution_count": 13,
   "id": "8b672cd5",
   "metadata": {},
   "outputs": [],
   "source": [
    "eleve['nom'] = 'Alphonse'\n",
    "eleve['notes'].append(20)"
   ]
  },
  {
   "cell_type": "code",
   "execution_count": 14,
   "id": "3122dc1c",
   "metadata": {},
   "outputs": [
    {
     "data": {
      "text/plain": [
       "({'nom': 'Alphonse', 'notes': [14, 8, 15, 20]},\n",
       " {'nom': 'Pierrette', 'notes': [14, 8, 15, 20]})"
      ]
     },
     "execution_count": 14,
     "metadata": {},
     "output_type": "execute_result"
    }
   ],
   "source": [
    "eleve, eleve2"
   ]
  },
  {
   "cell_type": "code",
   "execution_count": 15,
   "id": "2e4fcada",
   "metadata": {},
   "outputs": [
    {
     "data": {
      "text/plain": [
       "2190299712256"
      ]
     },
     "execution_count": 15,
     "metadata": {},
     "output_type": "execute_result"
    }
   ],
   "source": [
    "t = (1, 2, 3)\n",
    "id(t)"
   ]
  },
  {
   "cell_type": "code",
   "execution_count": 16,
   "id": "1ae45826",
   "metadata": {},
   "outputs": [
    {
     "data": {
      "text/plain": [
       "2190299354896"
      ]
     },
     "execution_count": 16,
     "metadata": {},
     "output_type": "execute_result"
    }
   ],
   "source": [
    "t = t + (4, 5)\n",
    "id(t)"
   ]
  },
  {
   "cell_type": "code",
   "execution_count": 17,
   "id": "85afefd5",
   "metadata": {},
   "outputs": [
    {
     "data": {
      "text/plain": [
       "2190272406896"
      ]
     },
     "execution_count": 17,
     "metadata": {},
     "output_type": "execute_result"
    }
   ],
   "source": [
    "t += (6, 7, 8)\n",
    "id(t)"
   ]
  },
  {
   "cell_type": "code",
   "execution_count": 18,
   "id": "709a4a49",
   "metadata": {},
   "outputs": [
    {
     "data": {
      "text/plain": [
       "([1, 2, 3, 4, 5], [1, 2, 3])"
      ]
     },
     "execution_count": 18,
     "metadata": {},
     "output_type": "execute_result"
    }
   ],
   "source": [
    "liste1 = [1, 2, 3]\n",
    "liste2 = liste1\n",
    "liste1 = liste1 + [4, 5]\n",
    "liste1, liste2          # seule liste1 a ete modifiée"
   ]
  },
  {
   "cell_type": "code",
   "execution_count": 19,
   "id": "9dafbea0",
   "metadata": {},
   "outputs": [
    {
     "data": {
      "text/plain": [
       "(2190299742976, 2190299787776)"
      ]
     },
     "execution_count": 19,
     "metadata": {},
     "output_type": "execute_result"
    }
   ],
   "source": [
    "id(liste1), id(liste2)  # c'est normal : liste1 et liste2 pointent vers des objets distincts"
   ]
  },
  {
   "cell_type": "code",
   "execution_count": 20,
   "id": "266d6d23",
   "metadata": {},
   "outputs": [
    {
     "data": {
      "text/plain": [
       "([1, 2, 3, 4, 5], [1, 2, 3, 4, 5])"
      ]
     },
     "execution_count": 20,
     "metadata": {},
     "output_type": "execute_result"
    }
   ],
   "source": [
    "liste1 = [1, 2, 3]\n",
    "liste2 = liste1\n",
    "liste1 += [4, 5]\n",
    "liste1, liste2          # liste1 et liste2 ont ete modifiées"
   ]
  },
  {
   "cell_type": "code",
   "execution_count": 21,
   "id": "1a5bb156",
   "metadata": {},
   "outputs": [
    {
     "data": {
      "text/plain": [
       "(2190299626688, 2190299626688)"
      ]
     },
     "execution_count": 21,
     "metadata": {},
     "output_type": "execute_result"
    }
   ],
   "source": [
    "id(liste1), id(liste2)  # c'est normal : liste1 et liste2 pointent vers le même objet"
   ]
  },
  {
   "cell_type": "code",
   "execution_count": 22,
   "id": "678a0a65",
   "metadata": {},
   "outputs": [
    {
     "data": {
      "text/plain": [
       "({'nom': 'toto', 'age': 43},\n",
       " {'nom': 'toto', 'age': 43},\n",
       " {'nom': 'toto', 'age': 43})"
      ]
     },
     "execution_count": 22,
     "metadata": {},
     "output_type": "execute_result"
    }
   ],
   "source": [
    "dict1 = {'nom': 'toto', 'age': 43}\n",
    "dict2 = dict1\n",
    "dict3 = dict1.copy()\n",
    "dict1, dict2, dict3"
   ]
  },
  {
   "cell_type": "code",
   "execution_count": 23,
   "id": "47643307",
   "metadata": {},
   "outputs": [
    {
     "data": {
      "text/plain": [
       "(2190299803648, 2190299803648, 2190299801920)"
      ]
     },
     "execution_count": 23,
     "metadata": {},
     "output_type": "execute_result"
    }
   ],
   "source": [
    "id(dict1), id(dict2), id(dict3)"
   ]
  },
  {
   "cell_type": "code",
   "execution_count": 24,
   "id": "52bc4fdd",
   "metadata": {},
   "outputs": [
    {
     "data": {
      "text/plain": [
       "(True, True)"
      ]
     },
     "execution_count": 24,
     "metadata": {},
     "output_type": "execute_result"
    }
   ],
   "source": [
    "dict2 == dict1, dict3 == dict1"
   ]
  },
  {
   "cell_type": "code",
   "execution_count": 25,
   "id": "fcf5287b",
   "metadata": {},
   "outputs": [
    {
     "data": {
      "text/plain": [
       "(True, False)"
      ]
     },
     "execution_count": 25,
     "metadata": {},
     "output_type": "execute_result"
    }
   ],
   "source": [
    "dict2 is dict1, dict3 is dict1"
   ]
  },
  {
   "cell_type": "code",
   "execution_count": 26,
   "id": "9db3be68",
   "metadata": {},
   "outputs": [
    {
     "data": {
      "text/plain": [
       "True"
      ]
     },
     "execution_count": 26,
     "metadata": {},
     "output_type": "execute_result"
    }
   ],
   "source": [
    "[1, 2, 3] == [1, 2, 3]"
   ]
  },
  {
   "cell_type": "code",
   "execution_count": 27,
   "id": "7169986f",
   "metadata": {},
   "outputs": [
    {
     "data": {
      "text/plain": [
       "False"
      ]
     },
     "execution_count": 27,
     "metadata": {},
     "output_type": "execute_result"
    }
   ],
   "source": [
    "[1, 2, 3] is [1, 2, 3]"
   ]
  },
  {
   "cell_type": "code",
   "execution_count": 28,
   "id": "cdfcef6e",
   "metadata": {},
   "outputs": [
    {
     "data": {
      "text/plain": [
       "[[0, 0, 0], [0, 0, 0], [0, 0, 0], [0, 0, 0]]"
      ]
     },
     "execution_count": 28,
     "metadata": {},
     "output_type": "execute_result"
    }
   ],
   "source": [
    "a = [[0] * 3] * 4\n",
    "a"
   ]
  },
  {
   "cell_type": "code",
   "execution_count": 29,
   "id": "6e2945aa",
   "metadata": {},
   "outputs": [
    {
     "data": {
      "text/plain": [
       "[[1, 0, 0], [1, 0, 0], [1, 0, 0], [1, 0, 0]]"
      ]
     },
     "execution_count": 29,
     "metadata": {},
     "output_type": "execute_result"
    }
   ],
   "source": [
    "a[0][0] = 1     # on pense n'avoir modifié qu'un élément de la liste de listes a\n",
    "a               # en fait non..."
   ]
  }
 ],
 "metadata": {
  "jupytext": {
   "cell_metadata_filter": "-all",
   "formats": "md:myst",
   "text_representation": {
    "extension": ".md",
    "format_name": "myst",
    "format_version": 0.13,
    "jupytext_version": "1.11.5"
   }
  },
  "kernelspec": {
   "display_name": "Python 3",
   "language": "python",
   "name": "python3"
  },
  "language_info": {
   "codemirror_mode": {
    "name": "ipython",
    "version": 3
   },
   "file_extension": ".py",
   "mimetype": "text/x-python",
   "name": "python",
   "nbconvert_exporter": "python",
   "pygments_lexer": "ipython3",
   "version": "3.10.4"
  },
  "source_map": [
   14,
   24,
   29,
   33,
   38,
   42,
   48,
   51,
   77,
   83,
   86,
   127,
   134,
   136,
   146,
   154,
   157,
   165,
   167,
   171,
   174,
   178,
   181,
   185,
   187,
   193,
   198,
   203,
   206,
   210,
   217,
   221,
   228,
   230,
   238,
   245,
   249,
   253,
   255,
   259,
   263,
   265,
   273,
   278
  ]
 },
 "nbformat": 4,
 "nbformat_minor": 5
}