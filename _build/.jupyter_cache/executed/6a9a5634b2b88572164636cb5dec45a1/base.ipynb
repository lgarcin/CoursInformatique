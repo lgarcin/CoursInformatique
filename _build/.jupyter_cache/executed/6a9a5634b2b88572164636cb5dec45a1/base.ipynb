{
 "cells": [
  {
   "cell_type": "code",
   "execution_count": 1,
   "id": "5eaad8fc",
   "metadata": {
    "tags": [
     "remove-input"
    ]
   },
   "outputs": [],
   "source": [
    "import networkx as nx\n",
    "from IPython.display import Latex\n",
    "edges=[(1,2), (3,1), (2,3), (1,4), (2,4), (3,3), (5,3)]"
   ]
  },
  {
   "cell_type": "code",
   "execution_count": 2,
   "id": "5b60a6e4",
   "metadata": {
    "tags": [
     "remove-input"
    ]
   },
   "outputs": [
    {
     "data": {
      "image/png": "[encoded data removed]",
      "text/plain": [
       "<Figure size 432x288 with 1 Axes>"
      ]
     },
     "metadata": {},
     "output_type": "display_data"
    }
   ],
   "source": [
    "G = nx.DiGraph()\n",
    "G.add_edges_from(edges)\n",
    "nx.draw_circular(G, with_labels=True, font_weight=\"bold\", font_size=20, node_size=600)"
   ]
  },
  {
   "cell_type": "code",
   "execution_count": 3,
   "id": "774776c8",
   "metadata": {
    "tags": [
     "remove-input"
    ]
   },
   "outputs": [
    {
     "data": {
      "text/latex": [
       "1,\\;2,\\;3,\\;4,\\;5"
      ],
      "text/plain": [
       "<IPython.core.display.Latex object>"
      ]
     },
     "execution_count": 3,
     "metadata": {},
     "output_type": "execute_result"
    }
   ],
   "source": [
    "Latex(\",\\;\".join([str(n) for n in G.nodes]))"
   ]
  },
  {
   "cell_type": "code",
   "execution_count": 4,
   "id": "87fa589a",
   "metadata": {
    "tags": [
     "remove-input"
    ]
   },
   "outputs": [
    {
     "data": {
      "text/latex": [
       "1\\rightarrow 2,\\;1\\rightarrow 4,\\;2\\rightarrow 3,\\;2\\rightarrow 4,\\;3\\rightarrow 1,\\;3\\rightarrow 3,\\;5\\rightarrow 3"
      ],
      "text/plain": [
       "<IPython.core.display.Latex object>"
      ]
     },
     "execution_count": 4,
     "metadata": {},
     "output_type": "execute_result"
    }
   ],
   "source": [
    "Latex(\",\\;\".join([str(e[0])+r\"\\rightarrow \"+str(e[1]) for e in G.edges]))"
   ]
  },
  {
   "cell_type": "code",
   "execution_count": 5,
   "id": "cf9a080e",
   "metadata": {
    "tags": [
     "remove-input"
    ]
   },
   "outputs": [
    {
     "data": {
      "text/latex": [
       "S=\\left\\{1,\\;2,\\;3,\\;4,\\;5\\right\\}"
      ],
      "text/plain": [
       "<IPython.core.display.Latex object>"
      ]
     },
     "execution_count": 5,
     "metadata": {},
     "output_type": "execute_result"
    }
   ],
   "source": [
    "Latex(\"S=\\left\\{\"+\",\\;\".join([str(n) for n in G.nodes])+r\"\\right\\}\")"
   ]
  },
  {
   "cell_type": "code",
   "execution_count": 6,
   "id": "0f9db27a",
   "metadata": {
    "tags": [
     "remove-input"
    ]
   },
   "outputs": [
    {
     "data": {
      "text/latex": [
       "A=\\left\\{(1,2),\\;(1,4),\\;(2,3),\\;(2,4),\\;(3,1),\\;(3,3),\\;(5,3)\\right\\}"
      ],
      "text/plain": [
       "<IPython.core.display.Latex object>"
      ]
     },
     "execution_count": 6,
     "metadata": {},
     "output_type": "execute_result"
    }
   ],
   "source": [
    "Latex(\"A=\\left\\{\"+\",\\;\".join([\"(\"+str(e[0])+\",\"+str(e[1])+\")\" for e in G.edges])+r\"\\right\\}\")"
   ]
  },
  {
   "cell_type": "code",
   "execution_count": 7,
   "id": "10d8ac29",
   "metadata": {
    "tags": [
     "remove-input"
    ]
   },
   "outputs": [
    {
     "data": {
      "text/latex": [
       "d_-(1)=1,\\;d_-(2)=1,\\;d_-(3)=3,\\;d_-(4)=2,\\;d_-(5)=0"
      ],
      "text/plain": [
       "<IPython.core.display.Latex object>"
      ]
     },
     "execution_count": 7,
     "metadata": {},
     "output_type": "execute_result"
    }
   ],
   "source": [
    "Latex(\",\\;\".join([\"d_-(\"+str(s)+\")=\"+str(d) for (s,d) in G.in_degree()]))"
   ]
  },
  {
   "cell_type": "code",
   "execution_count": 8,
   "id": "adf3db47",
   "metadata": {
    "tags": [
     "remove-input"
    ]
   },
   "outputs": [
    {
     "data": {
      "text/latex": [
       "d_+(1)=2,\\;d_+(2)=2,\\;d_+(3)=2,\\;d_+(4)=0,\\;d_+(5)=1"
      ],
      "text/plain": [
       "<IPython.core.display.Latex object>"
      ]
     },
     "execution_count": 8,
     "metadata": {},
     "output_type": "execute_result"
    }
   ],
   "source": [
    "Latex(\",\\;\".join([\"d_+(\"+str(s)+\")=\"+str(d) for (s,d) in G.out_degree()]))"
   ]
  }
 ],
 "metadata": {
  "jupytext": {
   "cell_metadata_filter": "-all",
   "formats": "md:myst",
   "text_representation": {
    "extension": ".md",
    "format_name": "myst",
    "format_version": 0.13,
    "jupytext_version": "1.11.5"
   }
  },
  "kernelspec": {
   "display_name": "Python 3",
   "language": "python",
   "name": "python3"
  },
  "language_info": {
   "codemirror_mode": {
    "name": "ipython",
    "version": 3
   },
   "file_extension": ".py",
   "mimetype": "text/x-python",
   "name": "python",
   "nbconvert_exporter": "python",
   "pygments_lexer": "ipython3",
   "version": "3.10.4"
  },
  "source_map": [
   14,
   18,
   23,
   28,
   33,
   37,
   40,
   44,
   47,
   62,
   67,
   70,
   80,
   85
  ]
 },
 "nbformat": 4,
 "nbformat_minor": 5
}