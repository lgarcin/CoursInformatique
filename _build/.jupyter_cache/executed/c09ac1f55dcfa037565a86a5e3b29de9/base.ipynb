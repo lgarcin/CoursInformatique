{
 "cells": [
  {
   "cell_type": "code",
   "execution_count": 1,
   "id": "aba6b773",
   "metadata": {},
   "outputs": [
    {
     "data": {
      "text/plain": [
       "list"
      ]
     },
     "execution_count": 1,
     "metadata": {},
     "output_type": "execute_result"
    }
   ],
   "source": [
    "type([1,2,3])"
   ]
  },
  {
   "cell_type": "code",
   "execution_count": 2,
   "id": "fb41071e",
   "metadata": {},
   "outputs": [
    {
     "data": {
      "text/plain": [
       "[1.23, 'abc', 45]"
      ]
     },
     "execution_count": 2,
     "metadata": {},
     "output_type": "execute_result"
    }
   ],
   "source": [
    "[1.23, 'abc', 45]"
   ]
  },
  {
   "cell_type": "code",
   "execution_count": 3,
   "id": "84e51f79",
   "metadata": {},
   "outputs": [
    {
     "data": {
      "text/plain": [
       "[1.23, ['abc', 'def', 'ghi'], [45, 67]]"
      ]
     },
     "execution_count": 3,
     "metadata": {},
     "output_type": "execute_result"
    }
   ],
   "source": [
    "[1.23, ['abc', 'def', 'ghi'], [45, 67]]"
   ]
  },
  {
   "cell_type": "code",
   "execution_count": 4,
   "id": "39e61a67",
   "metadata": {},
   "outputs": [
    {
     "data": {
      "text/plain": [
       "[1.23, 'abc', 45, 6, 'def', 'ghi', 7.89]"
      ]
     },
     "execution_count": 4,
     "metadata": {},
     "output_type": "execute_result"
    }
   ],
   "source": [
    "[1.23, 'abc', 45] + [6, 'def', 'ghi', 7.89]"
   ]
  },
  {
   "cell_type": "code",
   "execution_count": 5,
   "id": "e45ef8f3",
   "metadata": {},
   "outputs": [
    {
     "data": {
      "text/plain": [
       "[1.23, 'abc', 45, 1.23, 'abc', 45, 1.23, 'abc', 45]"
      ]
     },
     "execution_count": 5,
     "metadata": {},
     "output_type": "execute_result"
    }
   ],
   "source": [
    "[1.23, 'abc', 45] * 3"
   ]
  },
  {
   "cell_type": "code",
   "execution_count": 6,
   "id": "98fa131b",
   "metadata": {},
   "outputs": [
    {
     "data": {
      "text/plain": [
       "3"
      ]
     },
     "execution_count": 6,
     "metadata": {},
     "output_type": "execute_result"
    }
   ],
   "source": [
    "len([1.23, 'abc', 45])"
   ]
  },
  {
   "cell_type": "code",
   "execution_count": 7,
   "id": "3fd1ed25",
   "metadata": {},
   "outputs": [
    {
     "data": {
      "text/plain": [
       "48"
      ]
     },
     "execution_count": 7,
     "metadata": {},
     "output_type": "execute_result"
    }
   ],
   "source": [
    "ma_liste = [25, 34, 48, 67]\n",
    "ma_liste[2]"
   ]
  },
  {
   "cell_type": "code",
   "execution_count": 8,
   "id": "a1491f77",
   "metadata": {},
   "outputs": [
    {
     "data": {
      "text/plain": [
       "'ghi'"
      ]
     },
     "execution_count": 8,
     "metadata": {},
     "output_type": "execute_result"
    }
   ],
   "source": [
    "ma_liste = [1.23, [\"abc\", \"def\", \"ghi\"], [45, 67]]\n",
    "ma_liste[1][2]"
   ]
  },
  {
   "cell_type": "code",
   "execution_count": 9,
   "id": "32805458",
   "metadata": {},
   "outputs": [
    {
     "data": {
      "text/plain": [
       "('e', 'c')"
      ]
     },
     "execution_count": 9,
     "metadata": {},
     "output_type": "execute_result"
    }
   ],
   "source": [
    "ma_liste = ['a', 'b', 'c', 'd', 'e']\n",
    "ma_liste[-1], ma_liste[-3]"
   ]
  },
  {
   "cell_type": "code",
   "execution_count": 10,
   "id": "83203abb",
   "metadata": {},
   "outputs": [
    {
     "ename": "IndexError",
     "evalue": "list index out of range",
     "output_type": "error",
     "traceback": [
      "\u001b[1;31m---------------------------------------------------------------------------\u001b[0m",
      "\u001b[1;31mIndexError\u001b[0m                                Traceback (most recent call last)",
      "Input \u001b[1;32mIn [10]\u001b[0m, in \u001b[0;36m<cell line: 1>\u001b[1;34m()\u001b[0m\n\u001b[1;32m----> 1\u001b[0m \u001b[43mma_liste\u001b[49m\u001b[43m[\u001b[49m\u001b[38;5;241;43m10\u001b[39;49m\u001b[43m]\u001b[49m\n",
      "\u001b[1;31mIndexError\u001b[0m: list index out of range"
     ]
    }
   ],
   "source": [
    "ma_liste[10]"
   ]
  },
  {
   "cell_type": "code",
   "execution_count": 11,
   "id": "9583d99e",
   "metadata": {},
   "outputs": [
    {
     "data": {
      "text/plain": [
       "[25, 34, 666, 67]"
      ]
     },
     "execution_count": 11,
     "metadata": {},
     "output_type": "execute_result"
    }
   ],
   "source": [
    "ma_liste = [25, 34, 48, 67]\n",
    "ma_liste[2] = 666\n",
    "ma_liste"
   ]
  },
  {
   "cell_type": "code",
   "execution_count": 12,
   "id": "398505f8",
   "metadata": {},
   "outputs": [
    {
     "data": {
      "text/plain": [
       "[1.23, ['abc', 'def', 'toto'], [45, 67]]"
      ]
     },
     "execution_count": 12,
     "metadata": {},
     "output_type": "execute_result"
    }
   ],
   "source": [
    "ma_liste = [1.23, [\"abc\", \"def\", \"ghi\"], [45, 67]]\n",
    "ma_liste[1][2] = \"toto\"\n",
    "ma_liste"
   ]
  },
  {
   "cell_type": "code",
   "execution_count": 13,
   "id": "e93bbc65",
   "metadata": {},
   "outputs": [
    {
     "data": {
      "text/plain": [
       "['a', 1, 'b', 2]"
      ]
     },
     "execution_count": 13,
     "metadata": {},
     "output_type": "execute_result"
    }
   ],
   "source": [
    "ma_liste = ['a', 1, 'b']\n",
    "ma_liste.append(2)\n",
    "ma_liste"
   ]
  },
  {
   "cell_type": "code",
   "execution_count": 14,
   "id": "0558ddce",
   "metadata": {},
   "outputs": [
    {
     "data": {
      "text/plain": [
       "['a', 1, 'toto', 'b', 2]"
      ]
     },
     "execution_count": 14,
     "metadata": {},
     "output_type": "execute_result"
    }
   ],
   "source": [
    "ma_liste.insert(2, 'toto')\n",
    "ma_liste"
   ]
  },
  {
   "cell_type": "code",
   "execution_count": 15,
   "id": "8bd30dbf",
   "metadata": {},
   "outputs": [
    {
     "data": {
      "text/plain": [
       "['a', 1, 'b', 2, 'c', 3, 'd']"
      ]
     },
     "execution_count": 15,
     "metadata": {},
     "output_type": "execute_result"
    }
   ],
   "source": [
    "ma_liste = ['a', 1, 'b', 2]\n",
    "ma_liste = ma_liste + ['c', 3, 'd']\n",
    "ma_liste"
   ]
  },
  {
   "cell_type": "code",
   "execution_count": 16,
   "id": "883f58b1",
   "metadata": {},
   "outputs": [
    {
     "data": {
      "text/plain": [
       "['a', 1, 'b', 2, 'c', 3, 'd', 4, 5]"
      ]
     },
     "execution_count": 16,
     "metadata": {},
     "output_type": "execute_result"
    }
   ],
   "source": [
    "ma_liste += [4, 5]\n",
    "ma_liste"
   ]
  },
  {
   "cell_type": "code",
   "execution_count": 17,
   "id": "66d7e74d",
   "metadata": {},
   "outputs": [
    {
     "data": {
      "text/plain": [
       "['a', 1, 'b', 2, 'c', 3, 'd', 4, 5, 'e', 6, 'f']"
      ]
     },
     "execution_count": 17,
     "metadata": {},
     "output_type": "execute_result"
    }
   ],
   "source": [
    "ma_liste.extend(['e', 6, 'f'])\n",
    "ma_liste"
   ]
  },
  {
   "cell_type": "code",
   "execution_count": 18,
   "id": "9503b8c0",
   "metadata": {},
   "outputs": [
    {
     "data": {
      "text/plain": [
       "['a', 1, 'b', 2, 'c']"
      ]
     },
     "execution_count": 18,
     "metadata": {},
     "output_type": "execute_result"
    }
   ],
   "source": [
    "ma_liste = ['a', 1, 'b', 2, 'c', 3]\n",
    "ma_liste.pop()\n",
    "ma_liste"
   ]
  },
  {
   "cell_type": "code",
   "execution_count": 19,
   "id": "a0a08cac",
   "metadata": {},
   "outputs": [
    {
     "data": {
      "text/plain": [
       "['a', 1, 2, 'c']"
      ]
     },
     "execution_count": 19,
     "metadata": {},
     "output_type": "execute_result"
    }
   ],
   "source": [
    "ma_liste.remove('b')\n",
    "ma_liste"
   ]
  },
  {
   "cell_type": "code",
   "execution_count": 20,
   "id": "e2ddc0cc",
   "metadata": {},
   "outputs": [
    {
     "data": {
      "text/plain": [
       "[1, 3, 2, 4, 2]"
      ]
     },
     "execution_count": 20,
     "metadata": {},
     "output_type": "execute_result"
    }
   ],
   "source": [
    "ma_liste = [1, 2, 3, 2, 4, 2]\n",
    "ma_liste.remove(2)\n",
    "ma_liste"
   ]
  },
  {
   "cell_type": "code",
   "execution_count": 21,
   "id": "3c142935",
   "metadata": {},
   "outputs": [
    {
     "data": {
      "text/plain": [
       "['a', 1, 2, 'c', 3]"
      ]
     },
     "execution_count": 21,
     "metadata": {},
     "output_type": "execute_result"
    }
   ],
   "source": [
    "ma_liste = ['a', 1, 'b', 2, 'c', 3]\n",
    "del ma_liste[2]\n",
    "ma_liste"
   ]
  },
  {
   "cell_type": "code",
   "execution_count": 22,
   "id": "16aa2f81",
   "metadata": {},
   "outputs": [
    {
     "data": {
      "text/plain": [
       "['c', 'd', 'e']"
      ]
     },
     "execution_count": 22,
     "metadata": {},
     "output_type": "execute_result"
    }
   ],
   "source": [
    "ma_liste = ['a', 'b', 'c', 'd', 'e', 'f']\n",
    "ma_liste[2:5]"
   ]
  },
  {
   "cell_type": "code",
   "execution_count": 23,
   "id": "391b5232",
   "metadata": {},
   "outputs": [
    {
     "data": {
      "text/plain": [
       "(['c', 'd', 'e', 'f'], ['a', 'b', 'c', 'd'])"
      ]
     },
     "execution_count": 23,
     "metadata": {},
     "output_type": "execute_result"
    }
   ],
   "source": [
    "ma_liste = ['a', 'b', 'c', 'd', 'e', 'f']\n",
    "ma_liste[2:], ma_liste[:4]"
   ]
  },
  {
   "cell_type": "code",
   "execution_count": 24,
   "id": "5726f336",
   "metadata": {},
   "outputs": [
    {
     "data": {
      "text/plain": [
       "(['c', 'f', 'i'], ['h', 'f', 'd'])"
      ]
     },
     "execution_count": 24,
     "metadata": {},
     "output_type": "execute_result"
    }
   ],
   "source": [
    "ma_liste = ['a', 'b', 'c', 'd', 'e', 'f', 'g', 'h', 'i', 'j', 'k', 'l']\n",
    "ma_liste[2:9:3], ma_liste[7:2:-2]"
   ]
  },
  {
   "cell_type": "code",
   "execution_count": 25,
   "id": "4f4d9352",
   "metadata": {},
   "outputs": [
    {
     "data": {
      "text/plain": [
       "['c', 'f', 'i']"
      ]
     },
     "execution_count": 25,
     "metadata": {},
     "output_type": "execute_result"
    }
   ],
   "source": [
    "ma_liste = ['a', 'b', 'c', 'd', 'e', 'f', 'g', 'h', 'i', 'j', 'k', 'l']\n",
    "ma_liste[2:9:3]"
   ]
  },
  {
   "cell_type": "code",
   "execution_count": 26,
   "id": "bcf26c88",
   "metadata": {},
   "outputs": [
    {
     "data": {
      "text/plain": [
       "['a', 'b', 'toto', 'd', 'e', 'tata', 'g', 'h', 'titi', 'j', 'k', 'l']"
      ]
     },
     "execution_count": 26,
     "metadata": {},
     "output_type": "execute_result"
    }
   ],
   "source": [
    "ma_liste[2:9:3] = 'toto', 'tata', 'titi'\n",
    "ma_liste"
   ]
  },
  {
   "cell_type": "code",
   "execution_count": 27,
   "id": "3e463341",
   "metadata": {},
   "outputs": [
    {
     "data": {
      "text/plain": [
       "['f', 'h', 'j']"
      ]
     },
     "execution_count": 27,
     "metadata": {},
     "output_type": "execute_result"
    }
   ],
   "source": [
    "ma_liste = ['a', 'b', 'c', 'd', 'e', 'f', 'g', 'h', 'i', 'j', 'k', 'l']\n",
    "ma_liste[5:10:2]"
   ]
  },
  {
   "cell_type": "code",
   "execution_count": 28,
   "id": "612af7b3",
   "metadata": {},
   "outputs": [
    {
     "data": {
      "text/plain": [
       "['a', 'b', 'c', 'd', 'e', 'g', 'i', 'k', 'l']"
      ]
     },
     "execution_count": 28,
     "metadata": {},
     "output_type": "execute_result"
    }
   ],
   "source": [
    "del ma_liste[5:10:2]\n",
    "ma_liste"
   ]
  },
  {
   "cell_type": "code",
   "execution_count": 29,
   "id": "74ad6b36",
   "metadata": {},
   "outputs": [
    {
     "data": {
      "text/plain": [
       "[0, 2, 4, 6, 8, 10, 12, 14, 16, 18]"
      ]
     },
     "execution_count": 29,
     "metadata": {},
     "output_type": "execute_result"
    }
   ],
   "source": [
    "[0, 2, 4, 6, 8, 10, 12, 14, 16, 18]"
   ]
  },
  {
   "cell_type": "code",
   "execution_count": 30,
   "id": "c0e9e77f",
   "metadata": {},
   "outputs": [
    {
     "data": {
      "text/plain": [
       "[0, 2, 4, 6, 8, 10, 12, 14, 16, 18]"
      ]
     },
     "execution_count": 30,
     "metadata": {},
     "output_type": "execute_result"
    }
   ],
   "source": [
    "[2*n for n in range(10)]"
   ]
  },
  {
   "cell_type": "code",
   "execution_count": 31,
   "id": "3f2a9e03",
   "metadata": {},
   "outputs": [
    {
     "data": {
      "text/plain": [
       "[0, 2, 4, 6, 8, 10, 12, 14, 16, 18]"
      ]
     },
     "execution_count": 31,
     "metadata": {},
     "output_type": "execute_result"
    }
   ],
   "source": [
    "[n for n in range(20) if n%2==0]"
   ]
  },
  {
   "cell_type": "code",
   "execution_count": 32,
   "id": "e5f4e9cb",
   "metadata": {},
   "outputs": [
    {
     "data": {
      "text/plain": [
       "['TOTO', 'TATA', 'TITI']"
      ]
     },
     "execution_count": 32,
     "metadata": {},
     "output_type": "execute_result"
    }
   ],
   "source": [
    "[s.upper() for s in ('toto', 'tata', 'titi', 'zozo', 'zaza', 'zizi') if s[0]=='t']"
   ]
  }
 ],
 "metadata": {
  "jupytext": {
   "cell_metadata_filter": "-all",
   "formats": "md:myst",
   "text_representation": {
    "extension": ".md",
    "format_name": "myst",
    "format_version": 0.13,
    "jupytext_version": "1.11.5"
   }
  },
  "kernelspec": {
   "display_name": "Python 3",
   "language": "python",
   "name": "python3"
  },
  "language_info": {
   "codemirror_mode": {
    "name": "ipython",
    "version": 3
   },
   "file_extension": ".py",
   "mimetype": "text/x-python",
   "name": "python",
   "nbconvert_exporter": "python",
   "pygments_lexer": "ipython3",
   "version": "3.10.4"
  },
  "source_map": [
   14,
   22,
   24,
   28,
   30,
   34,
   36,
   40,
   42,
   48,
   50,
   58,
   60,
   66,
   69,
   77,
   80,
   84,
   87,
   91,
   93,
   99,
   103,
   107,
   111,
   119,
   125,
   128,
   132,
   138,
   143,
   146,
   152,
   158,
   161,
   167,
   171,
   177,
   181,
   187,
   190,
   196,
   199,
   203,
   206,
   210,
   215,
   218,
   222,
   227,
   230,
   248,
   250,
   254,
   256,
   268,
   270,
   274
  ]
 },
 "nbformat": 4,
 "nbformat_minor": 5
}