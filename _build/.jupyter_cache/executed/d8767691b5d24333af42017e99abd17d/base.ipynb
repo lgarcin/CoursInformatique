{
 "cells": [
  {
   "cell_type": "code",
   "execution_count": 1,
   "id": "1b6b393a",
   "metadata": {},
   "outputs": [
    {
     "data": {
      "text/plain": [
       "dict"
      ]
     },
     "execution_count": 1,
     "metadata": {},
     "output_type": "execute_result"
    }
   ],
   "source": [
    "personne = {'nom': 'Toto', 'age': 10, 'taille': 135}\n",
    "type(personne)"
   ]
  },
  {
   "cell_type": "code",
   "execution_count": 2,
   "id": "9237e6f2",
   "metadata": {},
   "outputs": [
    {
     "data": {
      "text/plain": [
       "{'nom': 'Toto', 'age': 10, 'taille': 140}"
      ]
     },
     "execution_count": 2,
     "metadata": {},
     "output_type": "execute_result"
    }
   ],
   "source": [
    "{'nom': 'Toto', 'age': 10, 'taille': 135, 'taille': 140}"
   ]
  },
  {
   "cell_type": "code",
   "execution_count": 3,
   "id": "355bd9c8",
   "metadata": {},
   "outputs": [
    {
     "data": {
      "text/plain": [
       "({'nom': 'Toto', 'age': 10, 'taille': 135}, 3)"
      ]
     },
     "execution_count": 3,
     "metadata": {},
     "output_type": "execute_result"
    }
   ],
   "source": [
    "personne, len(personne)"
   ]
  },
  {
   "cell_type": "code",
   "execution_count": 4,
   "id": "ca117f0d",
   "metadata": {},
   "outputs": [
    {
     "data": {
      "text/plain": [
       "('Toto', 10)"
      ]
     },
     "execution_count": 4,
     "metadata": {},
     "output_type": "execute_result"
    }
   ],
   "source": [
    "personne['nom'], personne.get('age')"
   ]
  },
  {
   "cell_type": "code",
   "execution_count": 5,
   "id": "a94464bd",
   "metadata": {},
   "outputs": [],
   "source": [
    "d = {'a': 123, 456: 'def', (1,2): 'fgh'}"
   ]
  },
  {
   "cell_type": "code",
   "execution_count": 6,
   "id": "875d607a",
   "metadata": {},
   "outputs": [
    {
     "data": {
      "text/plain": [
       "(123, 'fgh', 'def')"
      ]
     },
     "execution_count": 6,
     "metadata": {},
     "output_type": "execute_result"
    }
   ],
   "source": [
    "d['a'], d[(1,2)], d.get(456)"
   ]
  },
  {
   "cell_type": "code",
   "execution_count": 7,
   "id": "bfa0396f",
   "metadata": {},
   "outputs": [
    {
     "data": {
      "text/plain": [
       "(dict_keys(['a', 456, (1, 2)]), dict_values([123, 'def', 'fgh']))"
      ]
     },
     "execution_count": 7,
     "metadata": {},
     "output_type": "execute_result"
    }
   ],
   "source": [
    "d.keys(), d.values()"
   ]
  },
  {
   "cell_type": "code",
   "execution_count": 8,
   "id": "96f3f9ae",
   "metadata": {},
   "outputs": [
    {
     "ename": "KeyError",
     "evalue": "'amstramgram'",
     "output_type": "error",
     "traceback": [
      "\u001b[1;31m---------------------------------------------------------------------------\u001b[0m",
      "\u001b[1;31mKeyError\u001b[0m                                  Traceback (most recent call last)",
      "Input \u001b[1;32mIn [8]\u001b[0m, in \u001b[0;36m<cell line: 1>\u001b[1;34m()\u001b[0m\n\u001b[1;32m----> 1\u001b[0m \u001b[43md\u001b[49m\u001b[43m[\u001b[49m\u001b[38;5;124;43m'\u001b[39;49m\u001b[38;5;124;43mamstramgram\u001b[39;49m\u001b[38;5;124;43m'\u001b[39;49m\u001b[43m]\u001b[49m, d\u001b[38;5;241m.\u001b[39mget(\u001b[38;5;241m42\u001b[39m)\n",
      "\u001b[1;31mKeyError\u001b[0m: 'amstramgram'"
     ]
    }
   ],
   "source": [
    "d['amstramgram'], d.get(42)"
   ]
  },
  {
   "cell_type": "code",
   "execution_count": 9,
   "id": "14505422",
   "metadata": {},
   "outputs": [
    {
     "data": {
      "text/plain": [
       "{'nom': 'Toto', 'age': 10, 'taille': 135}"
      ]
     },
     "execution_count": 9,
     "metadata": {},
     "output_type": "execute_result"
    }
   ],
   "source": [
    "personne"
   ]
  },
  {
   "cell_type": "code",
   "execution_count": 10,
   "id": "34f931e9",
   "metadata": {},
   "outputs": [
    {
     "data": {
      "text/plain": [
       "{'nom': 'Toto', 'age': 10, 'taille': 135, 'poids': 40}"
      ]
     },
     "execution_count": 10,
     "metadata": {},
     "output_type": "execute_result"
    }
   ],
   "source": [
    "personne['poids'] = 40\n",
    "personne"
   ]
  },
  {
   "cell_type": "code",
   "execution_count": 11,
   "id": "688dde40",
   "metadata": {},
   "outputs": [
    {
     "data": {
      "text/plain": [
       "{'nom': 'Titi', 'age': 10, 'taille': 135, 'poids': 40}"
      ]
     },
     "execution_count": 11,
     "metadata": {},
     "output_type": "execute_result"
    }
   ],
   "source": [
    "personne['nom'] = 'Titi'\n",
    "personne"
   ]
  }
 ],
 "metadata": {
  "jupytext": {
   "cell_metadata_filter": "-all",
   "formats": "md:myst",
   "text_representation": {
    "extension": ".md",
    "format_name": "myst",
    "format_version": 0.13,
    "jupytext_version": "1.11.5"
   }
  },
  "kernelspec": {
   "display_name": "Python 3",
   "language": "python",
   "name": "python3"
  },
  "language_info": {
   "codemirror_mode": {
    "name": "ipython",
    "version": 3
   },
   "file_extension": ".py",
   "mimetype": "text/x-python",
   "name": "python",
   "nbconvert_exporter": "python",
   "pygments_lexer": "ipython3",
   "version": "3.10.4"
  },
  "source_map": [
   14,
   28,
   31,
   35,
   37,
   41,
   43,
   49,
   51,
   57,
   61,
   63,
   67,
   69,
   73,
   75,
   81,
   85,
   90
  ]
 },
 "nbformat": 4,
 "nbformat_minor": 5
}