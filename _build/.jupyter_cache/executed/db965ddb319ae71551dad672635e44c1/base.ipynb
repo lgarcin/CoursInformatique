{
 "cells": [
  {
   "cell_type": "code",
   "execution_count": 1,
   "id": "b2a0a56a",
   "metadata": {
    "tags": [
     "remove-input"
    ]
   },
   "outputs": [],
   "source": [
    "import warnings\n",
    "warnings.filterwarnings(\"ignore\")\n",
    "import networkx as nx"
   ]
  },
  {
   "cell_type": "code",
   "execution_count": 2,
   "id": "964149ff",
   "metadata": {},
   "outputs": [],
   "source": [
    "import collections\n",
    "\n",
    "def parcours_profondeur(G, sommet_initial):\n",
    "    visites = {sommet : False for sommet in G.keys()}\n",
    "    pile = collections.deque()\n",
    "    pile.append(sommet_initial)\n",
    "    visites[sommet_initial] = True\n",
    "    while pile:\n",
    "        sommet = pile.pop()\n",
    "        print(\"Sommet \"+str(sommet)+\" visité\")\n",
    "        for voisin in G[sommet]:\n",
    "            if not visites[voisin]:\n",
    "                pile.append(voisin)\n",
    "                visites[voisin] = True"
   ]
  },
  {
   "cell_type": "code",
   "execution_count": 3,
   "id": "0c36a423",
   "metadata": {},
   "outputs": [],
   "source": [
    "G = {1: [2, 3, 4], 2: [1, 3, 4], 3: [1, 2, 3, 5], 4: [1, 2], 5: [3]}"
   ]
  },
  {
   "cell_type": "code",
   "execution_count": 4,
   "id": "e3c5a2c0",
   "metadata": {
    "load": "../../_scripts/graphe.py",
    "tags": [
     "remove-input"
    ]
   },
   "outputs": [],
   "source": [
    "import matplotlib.pyplot as plt\n",
    "from matplotlib.animation import FuncAnimation\n",
    "from matplotlib import rc\n",
    "import networkx as nx\n",
    "import collections\n",
    "\n",
    "rc('animation', html='jshtml')\n",
    "\n",
    "\n",
    "class Graphe:\n",
    "\n",
    "    def __init__(self, liste_adjacence):\n",
    "        self.G = liste_adjacence\n",
    "        self.fig = plt.figure()\n",
    "        self.gr = nx.Graph(self.G)\n",
    "        pos = nx.spring_layout(self.gr)\n",
    "        self.nodes = nx.draw_networkx_nodes(self.gr, pos)\n",
    "        self.edges = nx.draw_networkx_edges(self.gr, pos)\n",
    "\n",
    "    def parcours_profondeur(self, sommet_initial):\n",
    "        yield\n",
    "\n",
    "        visites = {sommet: False for sommet in self.G.keys()}\n",
    "        pile = collections.deque()\n",
    "        pile.append(sommet_initial)\n",
    "        visites[sommet_initial] = True\n",
    "        while pile:\n",
    "            sommet = pile.pop()\n",
    "            for voisin in self.G[sommet]:\n",
    "                if not visites[voisin]:\n",
    "                    pile.append(voisin)\n",
    "                    visites[voisin] = True\n",
    "                    self.nodes.set_array(\n",
    "                        ['r' if visites[s] else 'b' for s in self.G.keys()])\n",
    "                    yield\n",
    "\n",
    "    def animate(self, i):\n",
    "        pass\n",
    "\n",
    "    def get_parcours_profondeur_animation(self, sommet_initial):\n",
    "        ani = FuncAnimation(\n",
    "            self.fig, self.animate, frames=lambda _: self.parcours_profondeur(sommet_initial), save_count=len(self.G))\n",
    "        plt.close()\n",
    "        return ani\n"
   ]
  },
  {
   "cell_type": "code",
   "execution_count": 5,
   "id": "007e812e",
   "metadata": {
    "tags": [
     "remove-input"
    ]
   },
   "outputs": [
    {
     "ename": "TypeError",
     "evalue": "Graphe.get_parcours_profondeur_animation.<locals>.<lambda>() missing 1 required positional argument: '_'",
     "output_type": "error",
     "traceback": [
      "\u001b[1;31m---------------------------------------------------------------------------\u001b[0m",
      "\u001b[1;31mTypeError\u001b[0m                                 Traceback (most recent call last)",
      "Input \u001b[1;32mIn [5]\u001b[0m, in \u001b[0;36m<cell line: 1>\u001b[1;34m()\u001b[0m\n\u001b[1;32m----> 1\u001b[0m \u001b[43mGraphe\u001b[49m\u001b[43m(\u001b[49m\u001b[43mG\u001b[49m\u001b[43m)\u001b[49m\u001b[38;5;241;43m.\u001b[39;49m\u001b[43mget_parcours_profondeur_animation\u001b[49m\u001b[43m(\u001b[49m\u001b[38;5;241;43m1\u001b[39;49m\u001b[43m)\u001b[49m\n",
      "Input \u001b[1;32mIn [4]\u001b[0m, in \u001b[0;36mGraphe.get_parcours_profondeur_animation\u001b[1;34m(self, sommet_initial)\u001b[0m\n\u001b[0;32m     40\u001b[0m \u001b[38;5;28;01mdef\u001b[39;00m \u001b[38;5;21mget_parcours_profondeur_animation\u001b[39m(\u001b[38;5;28mself\u001b[39m, sommet_initial):\n\u001b[1;32m---> 41\u001b[0m     ani \u001b[38;5;241m=\u001b[39m \u001b[43mFuncAnimation\u001b[49m\u001b[43m(\u001b[49m\n\u001b[0;32m     42\u001b[0m \u001b[43m        \u001b[49m\u001b[38;5;28;43mself\u001b[39;49m\u001b[38;5;241;43m.\u001b[39;49m\u001b[43mfig\u001b[49m\u001b[43m,\u001b[49m\u001b[43m \u001b[49m\u001b[38;5;28;43mself\u001b[39;49m\u001b[38;5;241;43m.\u001b[39;49m\u001b[43manimate\u001b[49m\u001b[43m,\u001b[49m\u001b[43m \u001b[49m\u001b[43mframes\u001b[49m\u001b[38;5;241;43m=\u001b[39;49m\u001b[38;5;28;43;01mlambda\u001b[39;49;00m\u001b[43m \u001b[49m\u001b[43m_\u001b[49m\u001b[43m:\u001b[49m\u001b[43m \u001b[49m\u001b[38;5;28;43mself\u001b[39;49m\u001b[38;5;241;43m.\u001b[39;49m\u001b[43mparcours_profondeur\u001b[49m\u001b[43m(\u001b[49m\u001b[43msommet_initial\u001b[49m\u001b[43m)\u001b[49m\u001b[43m,\u001b[49m\u001b[43m \u001b[49m\u001b[43msave_count\u001b[49m\u001b[38;5;241;43m=\u001b[39;49m\u001b[38;5;28;43mlen\u001b[39;49m\u001b[43m(\u001b[49m\u001b[38;5;28;43mself\u001b[39;49m\u001b[38;5;241;43m.\u001b[39;49m\u001b[43mG\u001b[49m\u001b[43m)\u001b[49m\u001b[43m)\u001b[49m\n\u001b[0;32m     43\u001b[0m     plt\u001b[38;5;241m.\u001b[39mclose()\n\u001b[0;32m     44\u001b[0m     \u001b[38;5;28;01mreturn\u001b[39;00m ani\n",
      "File \u001b[1;32mE:\\Documents\\GitHub\\CoursInformatique\\env\\lib\\site-packages\\matplotlib\\animation.py:1634\u001b[0m, in \u001b[0;36mFuncAnimation.__init__\u001b[1;34m(self, fig, func, frames, init_func, fargs, save_count, cache_frame_data, **kwargs)\u001b[0m\n\u001b[0;32m   1631\u001b[0m \u001b[38;5;66;03m# Needs to be initialized so the draw functions work without checking\u001b[39;00m\n\u001b[0;32m   1632\u001b[0m \u001b[38;5;28mself\u001b[39m\u001b[38;5;241m.\u001b[39m_save_seq \u001b[38;5;241m=\u001b[39m []\n\u001b[1;32m-> 1634\u001b[0m \u001b[38;5;28msuper\u001b[39m()\u001b[38;5;241m.\u001b[39m\u001b[38;5;21m__init__\u001b[39m(fig, \u001b[38;5;241m*\u001b[39m\u001b[38;5;241m*\u001b[39mkwargs)\n\u001b[0;32m   1636\u001b[0m \u001b[38;5;66;03m# Need to reset the saved seq, since right now it will contain data\u001b[39;00m\n\u001b[0;32m   1637\u001b[0m \u001b[38;5;66;03m# for a single frame from init, which is not what we want.\u001b[39;00m\n\u001b[0;32m   1638\u001b[0m \u001b[38;5;28mself\u001b[39m\u001b[38;5;241m.\u001b[39m_save_seq \u001b[38;5;241m=\u001b[39m []\n",
      "File \u001b[1;32mE:\\Documents\\GitHub\\CoursInformatique\\env\\lib\\site-packages\\matplotlib\\animation.py:1396\u001b[0m, in \u001b[0;36mTimedAnimation.__init__\u001b[1;34m(self, fig, interval, repeat_delay, repeat, event_source, *args, **kwargs)\u001b[0m\n\u001b[0;32m   1394\u001b[0m \u001b[38;5;28;01mif\u001b[39;00m event_source \u001b[38;5;129;01mis\u001b[39;00m \u001b[38;5;28;01mNone\u001b[39;00m:\n\u001b[0;32m   1395\u001b[0m     event_source \u001b[38;5;241m=\u001b[39m fig\u001b[38;5;241m.\u001b[39mcanvas\u001b[38;5;241m.\u001b[39mnew_timer(interval\u001b[38;5;241m=\u001b[39m\u001b[38;5;28mself\u001b[39m\u001b[38;5;241m.\u001b[39m_interval)\n\u001b[1;32m-> 1396\u001b[0m \u001b[38;5;28msuper\u001b[39m()\u001b[38;5;241m.\u001b[39m\u001b[38;5;21m__init__\u001b[39m(fig, event_source\u001b[38;5;241m=\u001b[39mevent_source, \u001b[38;5;241m*\u001b[39margs, \u001b[38;5;241m*\u001b[39m\u001b[38;5;241m*\u001b[39mkwargs)\n",
      "File \u001b[1;32mE:\\Documents\\GitHub\\CoursInformatique\\env\\lib\\site-packages\\matplotlib\\animation.py:871\u001b[0m, in \u001b[0;36mAnimation.__init__\u001b[1;34m(self, fig, event_source, blit)\u001b[0m\n\u001b[0;32m    865\u001b[0m \u001b[38;5;28mself\u001b[39m\u001b[38;5;241m.\u001b[39m_blit \u001b[38;5;241m=\u001b[39m blit \u001b[38;5;129;01mand\u001b[39;00m fig\u001b[38;5;241m.\u001b[39mcanvas\u001b[38;5;241m.\u001b[39msupports_blit\n\u001b[0;32m    867\u001b[0m \u001b[38;5;66;03m# These are the basics of the animation.  The frame sequence represents\u001b[39;00m\n\u001b[0;32m    868\u001b[0m \u001b[38;5;66;03m# information for each frame of the animation and depends on how the\u001b[39;00m\n\u001b[0;32m    869\u001b[0m \u001b[38;5;66;03m# drawing is handled by the subclasses. The event source fires events\u001b[39;00m\n\u001b[0;32m    870\u001b[0m \u001b[38;5;66;03m# that cause the frame sequence to be iterated.\u001b[39;00m\n\u001b[1;32m--> 871\u001b[0m \u001b[38;5;28mself\u001b[39m\u001b[38;5;241m.\u001b[39mframe_seq \u001b[38;5;241m=\u001b[39m \u001b[38;5;28;43mself\u001b[39;49m\u001b[38;5;241;43m.\u001b[39;49m\u001b[43mnew_frame_seq\u001b[49m\u001b[43m(\u001b[49m\u001b[43m)\u001b[49m\n\u001b[0;32m    872\u001b[0m \u001b[38;5;28mself\u001b[39m\u001b[38;5;241m.\u001b[39mevent_source \u001b[38;5;241m=\u001b[39m event_source\n\u001b[0;32m    874\u001b[0m \u001b[38;5;66;03m# Instead of starting the event source now, we connect to the figure's\u001b[39;00m\n\u001b[0;32m    875\u001b[0m \u001b[38;5;66;03m# draw_event, so that we only start once the figure has been drawn.\u001b[39;00m\n",
      "File \u001b[1;32mE:\\Documents\\GitHub\\CoursInformatique\\env\\lib\\site-packages\\matplotlib\\animation.py:1642\u001b[0m, in \u001b[0;36mFuncAnimation.new_frame_seq\u001b[1;34m(self)\u001b[0m\n\u001b[0;32m   1640\u001b[0m \u001b[38;5;28;01mdef\u001b[39;00m \u001b[38;5;21mnew_frame_seq\u001b[39m(\u001b[38;5;28mself\u001b[39m):\n\u001b[0;32m   1641\u001b[0m     \u001b[38;5;66;03m# Use the generating function to generate a new frame sequence\u001b[39;00m\n\u001b[1;32m-> 1642\u001b[0m     \u001b[38;5;28;01mreturn\u001b[39;00m \u001b[38;5;28;43mself\u001b[39;49m\u001b[38;5;241;43m.\u001b[39;49m\u001b[43m_iter_gen\u001b[49m\u001b[43m(\u001b[49m\u001b[43m)\u001b[49m\n",
      "\u001b[1;31mTypeError\u001b[0m: Graphe.get_parcours_profondeur_animation.<locals>.<lambda>() missing 1 required positional argument: '_'"
     ]
    },
    {
     "data": {
      "image/png": "[encoded data removed]",
      "text/plain": [
       "<Figure size 432x288 with 1 Axes>"
      ]
     },
     "metadata": {},
     "output_type": "display_data"
    }
   ],
   "source": [
    "Graphe(G).get_parcours_profondeur_animation(1)"
   ]
  },
  {
   "cell_type": "code",
   "execution_count": 6,
   "id": "af6eea53",
   "metadata": {
    "tags": [
     "remove-input"
    ]
   },
   "outputs": [
    {
     "data": {
      "image/png": "[encoded data removed]",
      "text/plain": [
       "<Figure size 432x288 with 1 Axes>"
      ]
     },
     "metadata": {},
     "output_type": "display_data"
    }
   ],
   "source": [
    "nx.draw_planar(nx.Graph(G), with_labels=True, font_weight=\"bold\", font_size=20, node_size=600)"
   ]
  },
  {
   "cell_type": "code",
   "execution_count": 7,
   "id": "8e958dc2",
   "metadata": {},
   "outputs": [
    {
     "name": "stdout",
     "output_type": "stream",
     "text": [
      "Sommet 1 visité\n",
      "Sommet 4 visité\n",
      "Sommet 3 visité\n",
      "Sommet 5 visité\n",
      "Sommet 2 visité\n"
     ]
    }
   ],
   "source": [
    "parcours_profondeur(G, 1)"
   ]
  },
  {
   "cell_type": "code",
   "execution_count": 8,
   "id": "7240c9ad",
   "metadata": {},
   "outputs": [],
   "source": [
    "G = {1: [2, 3], 2: [4, 5], 3: [6, 7], 4: [], 5: [], 6: [], 7:[]}"
   ]
  },
  {
   "cell_type": "code",
   "execution_count": 9,
   "id": "d9d74977",
   "metadata": {
    "tags": [
     "remove-input"
    ]
   },
   "outputs": [
    {
     "data": {
      "image/png": "[encoded data removed]",
      "text/plain": [
       "<Figure size 432x288 with 1 Axes>"
      ]
     },
     "metadata": {},
     "output_type": "display_data"
    }
   ],
   "source": [
    "nx.draw_planar(nx.Graph(G), with_labels=True, font_weight=\"bold\", font_size=20, node_size=600)"
   ]
  },
  {
   "cell_type": "code",
   "execution_count": 10,
   "id": "5369e405",
   "metadata": {},
   "outputs": [
    {
     "name": "stdout",
     "output_type": "stream",
     "text": [
      "Sommet 1 visité\n",
      "Sommet 3 visité\n",
      "Sommet 7 visité\n",
      "Sommet 6 visité\n",
      "Sommet 2 visité\n",
      "Sommet 5 visité\n",
      "Sommet 4 visité\n"
     ]
    }
   ],
   "source": [
    "parcours_profondeur(G, 1)"
   ]
  },
  {
   "cell_type": "code",
   "execution_count": 11,
   "id": "326b32db",
   "metadata": {},
   "outputs": [],
   "source": [
    "import collections\n",
    "\n",
    "def parcours_largeur(G, sommet_initial):\n",
    "    visites = {sommet : False for sommet in G.keys()}\n",
    "    file = collections.deque()\n",
    "    file.append(sommet_initial)\n",
    "    visites[sommet_initial] = True\n",
    "    while file:\n",
    "        sommet = file.popleft()\n",
    "        print(\"Sommet \"+str(sommet)+\" visité\")\n",
    "        for voisin in G[sommet]:\n",
    "            if not visites[voisin]:\n",
    "                file.append(voisin)\n",
    "                visites[voisin] = True"
   ]
  },
  {
   "cell_type": "code",
   "execution_count": 12,
   "id": "4994a4bc",
   "metadata": {},
   "outputs": [],
   "source": [
    "G = {1: [2, 3, 4], 2: [1, 3, 4], 3: [1, 2, 3, 5], 4: [1, 2], 5: [3]}"
   ]
  },
  {
   "cell_type": "code",
   "execution_count": 13,
   "id": "1e52dfd5",
   "metadata": {
    "tags": [
     "remove-input"
    ]
   },
   "outputs": [
    {
     "data": {
      "image/png": "[encoded data removed]",
      "text/plain": [
       "<Figure size 432x288 with 1 Axes>"
      ]
     },
     "metadata": {},
     "output_type": "display_data"
    }
   ],
   "source": [
    "nx.draw_planar(nx.Graph(G), with_labels=True, font_weight=\"bold\", font_size=20, node_size=600)"
   ]
  },
  {
   "cell_type": "code",
   "execution_count": 14,
   "id": "cadd2f7a",
   "metadata": {},
   "outputs": [
    {
     "name": "stdout",
     "output_type": "stream",
     "text": [
      "Sommet 1 visité\n",
      "Sommet 2 visité\n",
      "Sommet 3 visité\n",
      "Sommet 4 visité\n",
      "Sommet 5 visité\n"
     ]
    }
   ],
   "source": [
    "parcours_largeur(G, 1)"
   ]
  },
  {
   "cell_type": "code",
   "execution_count": 15,
   "id": "b2ac0e8f",
   "metadata": {},
   "outputs": [],
   "source": [
    "G = {1: [2, 3], 2: [4, 5], 3: [6, 7], 4: [], 5: [], 6: [], 7:[]}"
   ]
  },
  {
   "cell_type": "code",
   "execution_count": 16,
   "id": "2f642f1b",
   "metadata": {
    "tags": [
     "remove-input"
    ]
   },
   "outputs": [
    {
     "data": {
      "image/png": "[encoded data removed]",
      "text/plain": [
       "<Figure size 432x288 with 1 Axes>"
      ]
     },
     "metadata": {},
     "output_type": "display_data"
    }
   ],
   "source": [
    "nx.draw_planar(nx.Graph(G), with_labels=True, font_weight=\"bold\", font_size=20, node_size=600)"
   ]
  },
  {
   "cell_type": "code",
   "execution_count": 17,
   "id": "176e2392",
   "metadata": {},
   "outputs": [
    {
     "name": "stdout",
     "output_type": "stream",
     "text": [
      "Sommet 1 visité\n",
      "Sommet 2 visité\n",
      "Sommet 3 visité\n",
      "Sommet 4 visité\n",
      "Sommet 5 visité\n",
      "Sommet 6 visité\n",
      "Sommet 7 visité\n"
     ]
    }
   ],
   "source": [
    "parcours_largeur(G, 1)"
   ]
  },
  {
   "cell_type": "code",
   "execution_count": 18,
   "id": "ccaf3445",
   "metadata": {},
   "outputs": [],
   "source": [
    "import collections\n",
    "\n",
    "def contient_cycle_profondeur(G, sommet_initial):\n",
    "    visites = {sommet : False for sommet in G.keys()}\n",
    "    pile = collections.deque()\n",
    "    pile.append((sommet_initial, None))\n",
    "    visites[sommet_initial] = True\n",
    "    while pile:\n",
    "        sommet, parent = pile.pop()\n",
    "        print(\"Sommet \"+str(sommet)+\" visité\")\n",
    "        for voisin in G[sommet]:\n",
    "            if not visites[voisin]:\n",
    "                pile.append((voisin, sommet))\n",
    "                visites[voisin] = True\n",
    "            elif parent != voisin:\n",
    "                return True\n",
    "    return False"
   ]
  },
  {
   "cell_type": "code",
   "execution_count": 19,
   "id": "5ab433b7",
   "metadata": {},
   "outputs": [],
   "source": [
    "G = {1: [2, 3, 4], 2: [1, 3, 4], 3: [1, 2, 3, 5], 4: [1, 2], 5: [3]}"
   ]
  },
  {
   "cell_type": "code",
   "execution_count": 20,
   "id": "0e1b0ccf",
   "metadata": {
    "tags": [
     "remove-input"
    ]
   },
   "outputs": [
    {
     "data": {
      "image/png": "[encoded data removed]",
      "text/plain": [
       "<Figure size 432x288 with 1 Axes>"
      ]
     },
     "metadata": {},
     "output_type": "display_data"
    }
   ],
   "source": [
    "nx.draw_planar(nx.Graph(G), with_labels=True, font_weight=\"bold\", font_size=20, node_size=600)"
   ]
  },
  {
   "cell_type": "code",
   "execution_count": 21,
   "id": "97dda0eb",
   "metadata": {},
   "outputs": [
    {
     "name": "stdout",
     "output_type": "stream",
     "text": [
      "Sommet 1 visité\n",
      "Sommet 4 visité\n"
     ]
    },
    {
     "data": {
      "text/plain": [
       "True"
      ]
     },
     "execution_count": 21,
     "metadata": {},
     "output_type": "execute_result"
    }
   ],
   "source": [
    "contient_cycle_profondeur(G, 1)"
   ]
  },
  {
   "cell_type": "code",
   "execution_count": 22,
   "id": "c530169c",
   "metadata": {},
   "outputs": [],
   "source": [
    "G = {1: [2, 3], 2: [4, 5], 3: [6, 7], 4: [], 5: [], 6: [], 7:[]}"
   ]
  },
  {
   "cell_type": "code",
   "execution_count": 23,
   "id": "84725a17",
   "metadata": {
    "tags": [
     "remove-input"
    ]
   },
   "outputs": [
    {
     "data": {
      "image/png": "[encoded data removed]",
      "text/plain": [
       "<Figure size 432x288 with 1 Axes>"
      ]
     },
     "metadata": {},
     "output_type": "display_data"
    }
   ],
   "source": [
    "nx.draw_planar(nx.Graph(G), with_labels=True, font_weight=\"bold\", font_size=20, node_size=600)"
   ]
  },
  {
   "cell_type": "code",
   "execution_count": 24,
   "id": "67317a84",
   "metadata": {},
   "outputs": [
    {
     "name": "stdout",
     "output_type": "stream",
     "text": [
      "Sommet 1 visité\n",
      "Sommet 3 visité\n",
      "Sommet 7 visité\n",
      "Sommet 6 visité\n",
      "Sommet 2 visité\n",
      "Sommet 5 visité\n",
      "Sommet 4 visité\n"
     ]
    },
    {
     "data": {
      "text/plain": [
       "False"
      ]
     },
     "execution_count": 24,
     "metadata": {},
     "output_type": "execute_result"
    }
   ],
   "source": [
    "contient_cycle_profondeur(G, 1)"
   ]
  },
  {
   "cell_type": "code",
   "execution_count": 25,
   "id": "142f0e43",
   "metadata": {},
   "outputs": [
    {
     "name": "stdout",
     "output_type": "stream",
     "text": [
      "Sommet 1 visité\n",
      "Sommet 2 visité\n"
     ]
    },
    {
     "data": {
      "text/plain": [
       "False"
      ]
     },
     "execution_count": 25,
     "metadata": {},
     "output_type": "execute_result"
    },
    {
     "data": {
      "image/png": "[encoded data removed]",
      "text/plain": [
       "<Figure size 432x288 with 1 Axes>"
      ]
     },
     "metadata": {},
     "output_type": "display_data"
    }
   ],
   "source": [
    "import collections\n",
    "\n",
    "def contient_cycle_largeur(G, sommet_initial):\n",
    "    visites = {sommet : False for sommet in G.keys()}\n",
    "    file = collections.deque()\n",
    "    file.append((sommet_initial, None))\n",
    "    visites[sommet_initial] = True\n",
    "    while file:\n",
    "        sommet, parent = file.popleft()\n",
    "        print(\"Sommet \"+str(sommet)+\" visité\")\n",
    "        for voisin in G[sommet]:\n",
    "            if not visites[voisin]:\n",
    "                file.append((voisin, sommet))\n",
    "                visites[voisin] = True\n",
    "            elif parent != voisin:\n",
    "                return True\n",
    "    return False\n",
    "\n",
    "#G = {1: [2, 3, 4], 2: [1, 3, 4], 3: [1, 2, 3, 5], 4: [1, 2], 5: [3]}\n",
    "#G = {1: [2, 3], 2: [4, 5], 3: [6, 7], 4: [], 5: [], 6: [], 7:[]}\n",
    "G={1: [2], 2: [1]}\n",
    "nx.draw_planar(nx.Graph(G), with_labels=True, font_weight=\"bold\", font_size=20, node_size=600)\n",
    "contient_cycle_largeur(G, 1)"
   ]
  },
  {
   "cell_type": "code",
   "execution_count": 26,
   "id": "14d42c07",
   "metadata": {},
   "outputs": [],
   "source": [
    "import collections\n",
    "\n",
    "def connexite_profondeur(G, sommet_initial):\n",
    "    visites = {sommet : False for sommet in G.keys()}\n",
    "    pile = collections.deque()\n",
    "    pile.append(sommet_initial)\n",
    "    visites[sommet_initial] = True\n",
    "    while pile:\n",
    "        sommet = pile.pop()\n",
    "        for voisin in G[sommet]:\n",
    "            if not visites[voisin]:\n",
    "                pile.append(voisin)\n",
    "                visites[voisin] = True\n",
    "    return False not in visites.values()"
   ]
  },
  {
   "cell_type": "code",
   "execution_count": 27,
   "id": "7fa9ef9a",
   "metadata": {},
   "outputs": [],
   "source": [
    "G = {1: [2, 3, 4], 2: [1, 3, 4], 3: [1, 2, 3, 5], 4: [1, 2], 5: [3]}"
   ]
  },
  {
   "cell_type": "code",
   "execution_count": 28,
   "id": "1a3adebe",
   "metadata": {
    "tags": [
     "remove-input"
    ]
   },
   "outputs": [
    {
     "data": {
      "image/png": "[encoded data removed]",
      "text/plain": [
       "<Figure size 432x288 with 1 Axes>"
      ]
     },
     "metadata": {},
     "output_type": "display_data"
    }
   ],
   "source": [
    "nx.draw_planar(nx.Graph(G), with_labels=True, font_weight=\"bold\", font_size=20, node_size=600)"
   ]
  },
  {
   "cell_type": "code",
   "execution_count": 29,
   "id": "9cbb654b",
   "metadata": {},
   "outputs": [
    {
     "data": {
      "text/plain": [
       "True"
      ]
     },
     "execution_count": 29,
     "metadata": {},
     "output_type": "execute_result"
    }
   ],
   "source": [
    "connexite_profondeur(G, 1)"
   ]
  },
  {
   "cell_type": "code",
   "execution_count": 30,
   "id": "4c7080ea",
   "metadata": {},
   "outputs": [
    {
     "data": {
      "text/plain": [
       "False"
      ]
     },
     "execution_count": 30,
     "metadata": {},
     "output_type": "execute_result"
    },
    {
     "data": {
      "image/png": "[encoded data removed]",
      "text/plain": [
       "<Figure size 432x288 with 1 Axes>"
      ]
     },
     "metadata": {},
     "output_type": "display_data"
    }
   ],
   "source": [
    "import scipy\n",
    "G = {1: [2, 3, 4], 2: [1, 3, 4], 3: [1, 2, 3], 4: [1, 2], 5: [6, 7], 6 :[5], 7: [5]}\n",
    "nx.draw_planar(nx.Graph(G), with_labels=True, font_weight=\"bold\", font_size=20, node_size=600)\n",
    "connexite_profondeur(G, 1)"
   ]
  },
  {
   "cell_type": "code",
   "execution_count": 31,
   "id": "4596a613",
   "metadata": {},
   "outputs": [],
   "source": [
    "import collections\n",
    "\n",
    "def connexite_largeur(G, sommet_initial):\n",
    "    visites = {sommet : False for sommet in G.keys()}\n",
    "    file = collections.deque()\n",
    "    file.append(sommet_initial)\n",
    "    visites[sommet_initial] = True\n",
    "    while file:\n",
    "        sommet = file.popleft()\n",
    "        for voisin in G[sommet]:\n",
    "            if not visites[voisin]:\n",
    "                file.append(voisin)\n",
    "                visites[voisin] = True\n",
    "    return False not in visites.values()"
   ]
  }
 ],
 "metadata": {
  "jupytext": {
   "cell_metadata_filter": "-all",
   "formats": "md:myst",
   "text_representation": {
    "extension": ".md",
    "format_name": "myst",
    "format_version": 0.13,
    "jupytext_version": "1.11.5"
   }
  },
  "kernelspec": {
   "display_name": "Python 3",
   "language": "python",
   "name": "python3"
  },
  "language_info": {
   "codemirror_mode": {
    "name": "ipython",
    "version": 3
   },
   "file_extension": ".py",
   "mimetype": "text/x-python",
   "name": "python",
   "nbconvert_exporter": "python",
   "pygments_lexer": "ipython3",
   "version": "3.10.4"
  },
  "source_map": [
   14,
   18,
   23,
   29,
   46,
   50,
   55,
   60,
   65,
   69,
   73,
   78,
   80,
   84,
   101,
   105,
   110,
   114,
   118,
   123,
   125,
   131,
   151,
   155,
   160,
   164,
   168,
   173,
   177,
   201,
   205,
   222,
   226,
   231,
   235,
   242
  ]
 },
 "nbformat": 4,
 "nbformat_minor": 5
}