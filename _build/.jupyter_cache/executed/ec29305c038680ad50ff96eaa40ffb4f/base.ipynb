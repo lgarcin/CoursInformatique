{
 "cells": [
  {
   "cell_type": "code",
   "execution_count": 1,
   "id": "3b9ab99e",
   "metadata": {
    "tags": [
     "remove-input"
    ]
   },
   "outputs": [
    {
     "data": {
      "image/png": "[encoded data removed]",
      "text/plain": [
       "<Figure size 432x288 with 1 Axes>"
      ]
     },
     "metadata": {},
     "output_type": "display_data"
    }
   ],
   "source": [
    "import networkx as nx\n",
    "G = nx.Graph()\n",
    "G.add_edges_from([(1,2), (1,3), (3,5), (2,3), (1,4), (2,4), (3,3)])\n",
    "nx.draw(G, with_labels=True, font_weight=\"bold\", font_size=20, node_size=100)"
   ]
  },
  {
   "cell_type": "code",
   "execution_count": 2,
   "id": "a0daf70d",
   "metadata": {
    "tags": [
     "remove-input"
    ]
   },
   "outputs": [
    {
     "data": {
      "image/svg+xml": [
       "<?xml version=\"1.0\" encoding=\"UTF-8\" standalone=\"no\"?>\n",
       "<!DOCTYPE svg PUBLIC \"-//W3C//DTD SVG 1.1//EN\"\n",
       " \"http://www.w3.org/Graphics/SVG/1.1/DTD/svg11.dtd\">\n",
       "<!-- Generated by graphviz version 2.44.1 (20211215.2258)\n",
       " -->\n",
       "<!-- Pages: 1 -->\n",
       "<svg width=\"422pt\" height=\"80pt\"\n",
       " viewBox=\"0.00 0.00 422.00 79.67\" xmlns=\"http://www.w3.org/2000/svg\" xmlns:xlink=\"http://www.w3.org/1999/xlink\">\n",
       "<g id=\"graph0\" class=\"graph\" transform=\"scale(1 1) rotate(0) translate(4 75.67)\">\n",
       "<polygon fill=\"white\" stroke=\"transparent\" points=\"-4,4 -4,-75.67 418,-75.67 418,4 -4,4\"/>\n",
       "<!-- 1 -->\n",
       "<g id=\"node1\" class=\"node\">\n",
       "<title>1</title>\n",
       "<ellipse fill=\"none\" stroke=\"black\" cx=\"27\" cy=\"-41\" rx=\"27\" ry=\"18\"/>\n",
       "<text text-anchor=\"middle\" x=\"27\" y=\"-37.3\" font-family=\"Times New Roman,serif\" font-size=\"14.00\">1</text>\n",
       "</g>\n",
       "<!-- 2 -->\n",
       "<g id=\"node2\" class=\"node\">\n",
       "<title>2</title>\n",
       "<ellipse fill=\"none\" stroke=\"black\" cx=\"207\" cy=\"-41\" rx=\"27\" ry=\"18\"/>\n",
       "<text text-anchor=\"middle\" x=\"207\" y=\"-37.3\" font-family=\"Times New Roman,serif\" font-size=\"14.00\">2</text>\n",
       "</g>\n",
       "<!-- 1&#45;&gt;2 -->\n",
       "<g id=\"edge1\" class=\"edge\">\n",
       "<title>1&#45;&gt;2</title>\n",
       "<path fill=\"none\" stroke=\"black\" d=\"M48.24,-52.34C60.03,-58.29 75.4,-64.96 90,-68 113.5,-72.89 120.5,-72.89 144,-68 155.06,-65.7 166.57,-61.31 176.62,-56.73\"/>\n",
       "<polygon fill=\"black\" stroke=\"black\" points=\"178.26,-59.83 185.76,-52.34 175.23,-53.52 178.26,-59.83\"/>\n",
       "</g>\n",
       "<!-- 4 -->\n",
       "<g id=\"node5\" class=\"node\">\n",
       "<title>4</title>\n",
       "<ellipse fill=\"none\" stroke=\"black\" cx=\"117\" cy=\"-41\" rx=\"27\" ry=\"18\"/>\n",
       "<text text-anchor=\"middle\" x=\"117\" y=\"-37.3\" font-family=\"Times New Roman,serif\" font-size=\"14.00\">4</text>\n",
       "</g>\n",
       "<!-- 1&#45;&gt;4 -->\n",
       "<g id=\"edge5\" class=\"edge\">\n",
       "<title>1&#45;&gt;4</title>\n",
       "<path fill=\"none\" stroke=\"black\" d=\"M54.4,-41C62.39,-41 71.31,-41 79.82,-41\"/>\n",
       "<polygon fill=\"black\" stroke=\"black\" points=\"79.92,-44.5 89.92,-41 79.92,-37.5 79.92,-44.5\"/>\n",
       "</g>\n",
       "<!-- 3 -->\n",
       "<g id=\"node3\" class=\"node\">\n",
       "<title>3</title>\n",
       "<ellipse fill=\"none\" stroke=\"black\" cx=\"297\" cy=\"-18\" rx=\"27\" ry=\"18\"/>\n",
       "<text text-anchor=\"middle\" x=\"297\" y=\"-14.3\" font-family=\"Times New Roman,serif\" font-size=\"14.00\">3</text>\n",
       "</g>\n",
       "<!-- 2&#45;&gt;3 -->\n",
       "<g id=\"edge4\" class=\"edge\">\n",
       "<title>2&#45;&gt;3</title>\n",
       "<path fill=\"none\" stroke=\"black\" d=\"M232.51,-34.59C241.57,-32.23 252.01,-29.5 261.78,-26.95\"/>\n",
       "<polygon fill=\"black\" stroke=\"black\" points=\"262.83,-30.29 271.62,-24.37 261.06,-23.51 262.83,-30.29\"/>\n",
       "</g>\n",
       "<!-- 3&#45;&gt;1 -->\n",
       "<g id=\"edge2\" class=\"edge\">\n",
       "<title>3&#45;&gt;1</title>\n",
       "<path fill=\"none\" stroke=\"black\" d=\"M270.61,-13.91C231.39,-8.39 153.91,-0.69 90,-14 78.94,-16.3 67.43,-20.69 57.38,-25.27\"/>\n",
       "<polygon fill=\"black\" stroke=\"black\" points=\"55.74,-22.17 48.24,-29.66 58.77,-28.48 55.74,-22.17\"/>\n",
       "</g>\n",
       "<!-- 3&#45;&gt;3 -->\n",
       "<g id=\"edge7\" class=\"edge\">\n",
       "<title>3&#45;&gt;3</title>\n",
       "<path fill=\"none\" stroke=\"black\" d=\"M281.77,-33.17C277.16,-43.66 282.23,-54 297,-54 306.92,-54 312.47,-49.33 313.64,-43.09\"/>\n",
       "<polygon fill=\"black\" stroke=\"black\" points=\"317.1,-42.57 312.23,-33.17 310.17,-43.56 317.1,-42.57\"/>\n",
       "</g>\n",
       "<!-- 5 -->\n",
       "<g id=\"node4\" class=\"node\">\n",
       "<title>5</title>\n",
       "<ellipse fill=\"none\" stroke=\"black\" cx=\"387\" cy=\"-18\" rx=\"27\" ry=\"18\"/>\n",
       "<text text-anchor=\"middle\" x=\"387\" y=\"-14.3\" font-family=\"Times New Roman,serif\" font-size=\"14.00\">5</text>\n",
       "</g>\n",
       "<!-- 3&#45;&gt;5 -->\n",
       "<g id=\"edge3\" class=\"edge\">\n",
       "<title>3&#45;&gt;5</title>\n",
       "<path fill=\"none\" stroke=\"black\" d=\"M324.4,-18C332.39,-18 341.31,-18 349.82,-18\"/>\n",
       "<polygon fill=\"black\" stroke=\"black\" points=\"349.92,-21.5 359.92,-18 349.92,-14.5 349.92,-21.5\"/>\n",
       "</g>\n",
       "<!-- 4&#45;&gt;2 -->\n",
       "<g id=\"edge6\" class=\"edge\">\n",
       "<title>4&#45;&gt;2</title>\n",
       "<path fill=\"none\" stroke=\"black\" d=\"M144.4,-41C152.39,-41 161.31,-41 169.82,-41\"/>\n",
       "<polygon fill=\"black\" stroke=\"black\" points=\"169.92,-44.5 179.92,-41 169.92,-37.5 169.92,-44.5\"/>\n",
       "</g>\n",
       "</g>\n",
       "</svg>\n"
      ],
      "text/plain": [
       "<graphviz.graphs.Digraph at 0x1c1781154b0>"
      ]
     },
     "execution_count": 2,
     "metadata": {},
     "output_type": "execute_result"
    }
   ],
   "source": [
    "from graphviz import Digraph\n",
    "dot = Digraph()\n",
    "dot.attr(rankdir='LR')\n",
    "dot.edges(['12', '31', '35', '23', '14', '42', '33'])\n",
    "dot"
   ]
  }
 ],
 "metadata": {
  "jupytext": {
   "cell_metadata_filter": "-all",
   "formats": "md:myst",
   "text_representation": {
    "extension": ".md",
    "format_name": "myst",
    "format_version": 0.13,
    "jupytext_version": "1.11.5"
   }
  },
  "kernelspec": {
   "display_name": "Python 3",
   "language": "python",
   "name": "python3"
  },
  "language_info": {
   "codemirror_mode": {
    "name": "ipython",
    "version": 3
   },
   "file_extension": ".py",
   "mimetype": "text/x-python",
   "name": "python",
   "nbconvert_exporter": "python",
   "pygments_lexer": "ipython3",
   "version": "3.10.4"
  },
  "source_map": [
   14,
   21,
   27,
   34,
   41
  ]
 },
 "nbformat": 4,
 "nbformat_minor": 5
}