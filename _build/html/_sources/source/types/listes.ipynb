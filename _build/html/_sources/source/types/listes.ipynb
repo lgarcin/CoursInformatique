{
 "cells": [
  {
   "cell_type": "markdown",
   "id": "0244c838",
   "metadata": {},
   "source": [
    "# Listes\n",
    "\n",
    "## Création de listes et opérations de base\n",
    "\n",
    "Une **liste** est tout simplement une collection ordonnée d'objets. En Python, on la déclare en séparant ses éléments par des virgules `,` et en les encadrant par des crochets `[...]`."
   ]
  },
  {
   "cell_type": "code",
   "execution_count": 1,
   "id": "fe9dfa19",
   "metadata": {},
   "outputs": [
    {
     "data": {
      "text/plain": [
       "list"
      ]
     },
     "execution_count": 1,
     "metadata": {},
     "output_type": "execute_result"
    }
   ],
   "source": [
    "type([1,2,3])"
   ]
  },
  {
   "cell_type": "markdown",
   "id": "18444513",
   "metadata": {},
   "source": [
    "Les objets contenus dans une même liste peuvent être de types différents."
   ]
  },
  {
   "cell_type": "code",
   "execution_count": 2,
   "id": "9645bb69",
   "metadata": {},
   "outputs": [
    {
     "data": {
      "text/plain": [
       "[1.23, 'abc', 45]"
      ]
     },
     "execution_count": 2,
     "metadata": {},
     "output_type": "execute_result"
    }
   ],
   "source": [
    "[1.23, 'abc', 45]"
   ]
  },
  {
   "cell_type": "markdown",
   "id": "c89392ff",
   "metadata": {},
   "source": [
    "On peut même imbriquer des listes."
   ]
  },
  {
   "cell_type": "code",
   "execution_count": 3,
   "id": "582343fe",
   "metadata": {},
   "outputs": [
    {
     "data": {
      "text/plain": [
       "[1.23, ['abc', 'def', 'ghi'], [45, 67]]"
      ]
     },
     "execution_count": 3,
     "metadata": {},
     "output_type": "execute_result"
    }
   ],
   "source": [
    "[1.23, ['abc', 'def', 'ghi'], [45, 67]]"
   ]
  },
  {
   "cell_type": "markdown",
   "id": "39886bdb",
   "metadata": {},
   "source": [
    "L'opérateur `+` permet de _concaténer_ des listes."
   ]
  },
  {
   "cell_type": "code",
   "execution_count": 4,
   "id": "3d93ae9c",
   "metadata": {},
   "outputs": [
    {
     "data": {
      "text/plain": [
       "[1.23, 'abc', 45, 6, 'def', 'ghi', 7.89]"
      ]
     },
     "execution_count": 4,
     "metadata": {},
     "output_type": "execute_result"
    }
   ],
   "source": [
    "[1.23, 'abc', 45] + [6, 'def', 'ghi', 7.89]"
   ]
  },
  {
   "cell_type": "markdown",
   "id": "0e66d4a6",
   "metadata": {},
   "source": [
    "On devine alors l'action de l'opérateur `*` [^monoide].\n",
    "\n",
    "[^monoide]: En termes savants, l'ensemble des listes munis de la loi `+` est un _monoïde_. La loi `+` est en effet une loi interne associative et la liste vide `[]` est neutre pour cette loi. Le \"produit\" d'une liste par un entier (positif) n'est autre qu'un _multiple_ de cette liste."
   ]
  },
  {
   "cell_type": "code",
   "execution_count": 5,
   "id": "d39cbffa",
   "metadata": {},
   "outputs": [
    {
     "data": {
      "text/plain": [
       "[1.23, 'abc', 45, 1.23, 'abc', 45, 1.23, 'abc', 45]"
      ]
     },
     "execution_count": 5,
     "metadata": {},
     "output_type": "execute_result"
    }
   ],
   "source": [
    "[1.23, 'abc', 45] * 3"
   ]
  },
  {
   "cell_type": "markdown",
   "id": "1522a73a",
   "metadata": {},
   "source": [
    "```{note}\n",
    "On ne peut évidemment multiplier une liste que par un **entier**.\n",
    "```\n",
    "\n",
    "La fonction `len` permet de récupérer la longueur d'une liste."
   ]
  },
  {
   "cell_type": "code",
   "execution_count": 6,
   "id": "8e8f8033",
   "metadata": {},
   "outputs": [
    {
     "data": {
      "text/plain": [
       "3"
      ]
     },
     "execution_count": 6,
     "metadata": {},
     "output_type": "execute_result"
    }
   ],
   "source": [
    "len([1.23, 'abc', 45])"
   ]
  },
  {
   "cell_type": "markdown",
   "id": "d928e56b",
   "metadata": {},
   "source": [
    "## Accès aux éléments en lecture\n",
    "\n",
    "On peut accéder aux éléments d'une liste via leurs indices et l'opérateur `[...]`."
   ]
  },
  {
   "cell_type": "code",
   "execution_count": 7,
   "id": "18a658b8",
   "metadata": {},
   "outputs": [
    {
     "data": {
      "text/plain": [
       "48"
      ]
     },
     "execution_count": 7,
     "metadata": {},
     "output_type": "execute_result"
    }
   ],
   "source": [
    "ma_liste = [25, 34, 48, 67]\n",
    "ma_liste[2]"
   ]
  },
  {
   "cell_type": "markdown",
   "id": "bd7af895",
   "metadata": {},
   "source": [
    "```{warning}\n",
    "Il est à noter que les indices des listes commencent à 0 et non 1. Le dernier indice d'une liste de $n$ éléments est donc $n-1$ et non $n$.\n",
    "```\n",
    "\n",
    "On peut bien sûr accéder à des éléments de listes imbriquées."
   ]
  },
  {
   "cell_type": "code",
   "execution_count": 8,
   "id": "6cd8b9aa",
   "metadata": {},
   "outputs": [
    {
     "data": {
      "text/plain": [
       "'ghi'"
      ]
     },
     "execution_count": 8,
     "metadata": {},
     "output_type": "execute_result"
    }
   ],
   "source": [
    "ma_liste = [1.23, [\"abc\", \"def\", \"ghi\"], [45, 67]]\n",
    "ma_liste[1][2]"
   ]
  },
  {
   "cell_type": "markdown",
   "id": "ca52686d",
   "metadata": {},
   "source": [
    "On peut également accéder à des éléments d'une liste \"par la fin\"."
   ]
  },
  {
   "cell_type": "code",
   "execution_count": 9,
   "id": "b65d2ee9",
   "metadata": {},
   "outputs": [
    {
     "data": {
      "text/plain": [
       "('e', 'c')"
      ]
     },
     "execution_count": 9,
     "metadata": {},
     "output_type": "execute_result"
    }
   ],
   "source": [
    "ma_liste = ['a', 'b', 'c', 'd', 'e']\n",
    "ma_liste[-1], ma_liste[-3]"
   ]
  },
  {
   "cell_type": "markdown",
   "id": "0ed0f6fd",
   "metadata": {},
   "source": [
    "L'accès à une position non valide déclenche une erreur."
   ]
  },
  {
   "cell_type": "code",
   "execution_count": 10,
   "id": "75afd66b",
   "metadata": {},
   "outputs": [
    {
     "ename": "IndexError",
     "evalue": "list index out of range",
     "output_type": "error",
     "traceback": [
      "\u001b[1;31m---------------------------------------------------------------------------\u001b[0m",
      "\u001b[1;31mIndexError\u001b[0m                                Traceback (most recent call last)",
      "Input \u001b[1;32mIn [10]\u001b[0m, in \u001b[0;36m<cell line: 1>\u001b[1;34m()\u001b[0m\n\u001b[1;32m----> 1\u001b[0m \u001b[43mma_liste\u001b[49m\u001b[43m[\u001b[49m\u001b[38;5;241;43m10\u001b[39;49m\u001b[43m]\u001b[49m\n",
      "\u001b[1;31mIndexError\u001b[0m: list index out of range"
     ]
    }
   ],
   "source": [
    "ma_liste[10]"
   ]
  },
  {
   "cell_type": "markdown",
   "id": "aee046e2",
   "metadata": {},
   "source": [
    "## Accès aux éléments en écriture\n",
    "\n",
    "L'opérateur `[...]` permet également de modifier les éléments d'une liste."
   ]
  },
  {
   "cell_type": "code",
   "execution_count": 11,
   "id": "d8cb5de4",
   "metadata": {},
   "outputs": [
    {
     "data": {
      "text/plain": [
       "[25, 34, 666, 67]"
      ]
     },
     "execution_count": 11,
     "metadata": {},
     "output_type": "execute_result"
    }
   ],
   "source": [
    "ma_liste = [25, 34, 48, 67]\n",
    "ma_liste[2] = 666\n",
    "ma_liste"
   ]
  },
  {
   "cell_type": "markdown",
   "id": "a783a2b8",
   "metadata": {},
   "source": [
    "Bien évidemment, cela fonctionne aussi pour les listes imbriquées."
   ]
  },
  {
   "cell_type": "code",
   "execution_count": 12,
   "id": "c1b43e28",
   "metadata": {},
   "outputs": [
    {
     "data": {
      "text/plain": [
       "[1.23, ['abc', 'def', 'toto'], [45, 67]]"
      ]
     },
     "execution_count": 12,
     "metadata": {},
     "output_type": "execute_result"
    }
   ],
   "source": [
    "ma_liste = [1.23, [\"abc\", \"def\", \"ghi\"], [45, 67]]\n",
    "ma_liste[1][2] = \"toto\"\n",
    "ma_liste"
   ]
  },
  {
   "cell_type": "markdown",
   "id": "64388ed1",
   "metadata": {},
   "source": [
    "## Insertion et suppression d'éléments\n",
    "\n",
    "Il existe plusieurs moyens d'ajouter des éléments à une liste.\n",
    "\n",
    "La première méthode est de les ajouter un par un grâce aux méthodes `append` (insertion en fin de liste) ou `insert` (insertion à un endroit donné)."
   ]
  },
  {
   "cell_type": "code",
   "execution_count": 13,
   "id": "1945dd02",
   "metadata": {},
   "outputs": [
    {
     "data": {
      "text/plain": [
       "['a', 1, 'b', 2]"
      ]
     },
     "execution_count": 13,
     "metadata": {},
     "output_type": "execute_result"
    }
   ],
   "source": [
    "ma_liste = ['a', 1, 'b']\n",
    "ma_liste.append(2)\n",
    "ma_liste"
   ]
  },
  {
   "cell_type": "code",
   "execution_count": 14,
   "id": "625da565",
   "metadata": {},
   "outputs": [
    {
     "data": {
      "text/plain": [
       "['a', 1, 'toto', 'b', 2]"
      ]
     },
     "execution_count": 14,
     "metadata": {},
     "output_type": "execute_result"
    }
   ],
   "source": [
    "ma_liste.insert(2, 'toto')\n",
    "ma_liste"
   ]
  },
  {
   "cell_type": "markdown",
   "id": "c0bce643",
   "metadata": {},
   "source": [
    "Pour ajouter plusieurs éléments d'affilée, on peut utiliser l'opérateur de concaténation `+` ou de concaténation/affectation `+=` ou encore la méthode `append`."
   ]
  },
  {
   "cell_type": "code",
   "execution_count": 15,
   "id": "47241770",
   "metadata": {},
   "outputs": [
    {
     "data": {
      "text/plain": [
       "['a', 1, 'b', 2, 'c', 3, 'd']"
      ]
     },
     "execution_count": 15,
     "metadata": {},
     "output_type": "execute_result"
    }
   ],
   "source": [
    "ma_liste = ['a', 1, 'b', 2]\n",
    "ma_liste = ma_liste + ['c', 3, 'd']\n",
    "ma_liste"
   ]
  },
  {
   "cell_type": "code",
   "execution_count": 16,
   "id": "3c534cd6",
   "metadata": {},
   "outputs": [
    {
     "data": {
      "text/plain": [
       "['a', 1, 'b', 2, 'c', 3, 'd', 4, 5]"
      ]
     },
     "execution_count": 16,
     "metadata": {},
     "output_type": "execute_result"
    }
   ],
   "source": [
    "ma_liste += [4, 5]\n",
    "ma_liste"
   ]
  },
  {
   "cell_type": "code",
   "execution_count": 17,
   "id": "45341c37",
   "metadata": {},
   "outputs": [
    {
     "data": {
      "text/plain": [
       "['a', 1, 'b', 2, 'c', 3, 'd', 4, 5, 'e', 6, 'f']"
      ]
     },
     "execution_count": 17,
     "metadata": {},
     "output_type": "execute_result"
    }
   ],
   "source": [
    "ma_liste.extend(['e', 6, 'f'])\n",
    "ma_liste"
   ]
  },
  {
   "cell_type": "markdown",
   "id": "549feab8",
   "metadata": {},
   "source": [
    "De même, il existe plusieurs façons de supprimer des éléments d'une liste.\n",
    "\n",
    "Pour supprimer des éléments, on peut utiliser les méthodes `pop` (renvoie le dernier élément et le supprime de la liste) ou `remove` (supprime un élément de valeur donnée)."
   ]
  },
  {
   "cell_type": "code",
   "execution_count": 18,
   "id": "040dee9a",
   "metadata": {},
   "outputs": [
    {
     "data": {
      "text/plain": [
       "['a', 1, 'b', 2, 'c']"
      ]
     },
     "execution_count": 18,
     "metadata": {},
     "output_type": "execute_result"
    }
   ],
   "source": [
    "ma_liste = ['a', 1, 'b', 2, 'c', 3]\n",
    "ma_liste.pop()\n",
    "ma_liste"
   ]
  },
  {
   "cell_type": "code",
   "execution_count": 19,
   "id": "64749600",
   "metadata": {},
   "outputs": [
    {
     "data": {
      "text/plain": [
       "['a', 1, 2, 'c']"
      ]
     },
     "execution_count": 19,
     "metadata": {},
     "output_type": "execute_result"
    }
   ],
   "source": [
    "ma_liste.remove('b')\n",
    "ma_liste"
   ]
  },
  {
   "cell_type": "markdown",
   "id": "4aa15194",
   "metadata": {},
   "source": [
    "```{note}\n",
    "La méthode `remove` ne supprime que la *première* occurence d'une valeur donnée.\n",
    "```"
   ]
  },
  {
   "cell_type": "code",
   "execution_count": 20,
   "id": "27a81ea9",
   "metadata": {},
   "outputs": [
    {
     "data": {
      "text/plain": [
       "[1, 3, 2, 4, 2]"
      ]
     },
     "execution_count": 20,
     "metadata": {},
     "output_type": "execute_result"
    }
   ],
   "source": [
    "ma_liste = [1, 2, 3, 2, 4, 2]\n",
    "ma_liste.remove(2)\n",
    "ma_liste"
   ]
  },
  {
   "cell_type": "markdown",
   "id": "44b7cb7b",
   "metadata": {},
   "source": [
    "La suppression d'éléments peut également se faire au moyen du mot-clé `del` [^del].\n",
    "\n",
    "[^del]: De manière générale, le mot-clé `del` \"supprime\" une variable (sans rentrer dans les détails)."
   ]
  },
  {
   "cell_type": "code",
   "execution_count": 21,
   "id": "1850616e",
   "metadata": {},
   "outputs": [
    {
     "data": {
      "text/plain": [
       "['a', 1, 2, 'c', 3]"
      ]
     },
     "execution_count": 21,
     "metadata": {},
     "output_type": "execute_result"
    }
   ],
   "source": [
    "ma_liste = ['a', 1, 'b', 2, 'c', 3]\n",
    "del ma_liste[2]\n",
    "ma_liste"
   ]
  },
  {
   "cell_type": "markdown",
   "id": "b4384320",
   "metadata": {},
   "source": [
    "## Tranches (slicing)\n",
    "\n",
    "Il existe une syntaxe permettant de créer une sous-liste (tranche) d'une liste."
   ]
  },
  {
   "cell_type": "code",
   "execution_count": 22,
   "id": "a8285f14",
   "metadata": {},
   "outputs": [
    {
     "data": {
      "text/plain": [
       "['c', 'd', 'e']"
      ]
     },
     "execution_count": 22,
     "metadata": {},
     "output_type": "execute_result"
    }
   ],
   "source": [
    "ma_liste = ['a', 'b', 'c', 'd', 'e', 'f']\n",
    "ma_liste[2:5]"
   ]
  },
  {
   "cell_type": "markdown",
   "id": "844d5ae4",
   "metadata": {},
   "source": [
    "De manière générale, si `li` est une liste, alors `li[a:b]` renvoie la liste formée des éléments de la liste `li` dont les indices sont compris entre `a` (**inclus**) et `b` (**non inclus**).\n",
    "\n",
    "Si `a` ou `b` sont omis, la sélection s'opére à partir du début ou jusqu'à la fin de la liste."
   ]
  },
  {
   "cell_type": "code",
   "execution_count": 23,
   "id": "3f91488f",
   "metadata": {},
   "outputs": [
    {
     "data": {
      "text/plain": [
       "(['c', 'd', 'e', 'f'], ['a', 'b', 'c', 'd'])"
      ]
     },
     "execution_count": 23,
     "metadata": {},
     "output_type": "execute_result"
    }
   ],
   "source": [
    "ma_liste = ['a', 'b', 'c', 'd', 'e', 'f']\n",
    "ma_liste[2:], ma_liste[:4]"
   ]
  },
  {
   "cell_type": "markdown",
   "id": "899cd03c",
   "metadata": {},
   "source": [
    "On peut encore sélectionner des éléments à intervalles réguliers."
   ]
  },
  {
   "cell_type": "code",
   "execution_count": 24,
   "id": "b545ab37",
   "metadata": {},
   "outputs": [
    {
     "data": {
      "text/plain": [
       "(['c', 'f', 'i'], ['h', 'f', 'd'])"
      ]
     },
     "execution_count": 24,
     "metadata": {},
     "output_type": "execute_result"
    }
   ],
   "source": [
    "ma_liste = ['a', 'b', 'c', 'd', 'e', 'f', 'g', 'h', 'i', 'j', 'k', 'l']\n",
    "ma_liste[2:9:3], ma_liste[7:2:-2]"
   ]
  },
  {
   "cell_type": "markdown",
   "id": "6353ac27",
   "metadata": {},
   "source": [
    "Le slicing permet aussi de modifier les éléments d'une liste."
   ]
  },
  {
   "cell_type": "code",
   "execution_count": 25,
   "id": "1d28d39c",
   "metadata": {},
   "outputs": [
    {
     "data": {
      "text/plain": [
       "['c', 'f', 'i']"
      ]
     },
     "execution_count": 25,
     "metadata": {},
     "output_type": "execute_result"
    }
   ],
   "source": [
    "ma_liste = ['a', 'b', 'c', 'd', 'e', 'f', 'g', 'h', 'i', 'j', 'k', 'l']\n",
    "ma_liste[2:9:3]"
   ]
  },
  {
   "cell_type": "code",
   "execution_count": 26,
   "id": "727ad786",
   "metadata": {},
   "outputs": [
    {
     "data": {
      "text/plain": [
       "['a', 'b', 'toto', 'd', 'e', 'tata', 'g', 'h', 'titi', 'j', 'k', 'l']"
      ]
     },
     "execution_count": 26,
     "metadata": {},
     "output_type": "execute_result"
    }
   ],
   "source": [
    "ma_liste[2:9:3] = 'toto', 'tata', 'titi'\n",
    "ma_liste"
   ]
  },
  {
   "cell_type": "markdown",
   "id": "ce53da7a",
   "metadata": {},
   "source": [
    "On peut combiner le slicing et le mot-clé `del` pour supprimer plusieurs éléments à la fois."
   ]
  },
  {
   "cell_type": "code",
   "execution_count": 27,
   "id": "819dd95b",
   "metadata": {},
   "outputs": [
    {
     "data": {
      "text/plain": [
       "['f', 'h', 'j']"
      ]
     },
     "execution_count": 27,
     "metadata": {},
     "output_type": "execute_result"
    }
   ],
   "source": [
    "ma_liste = ['a', 'b', 'c', 'd', 'e', 'f', 'g', 'h', 'i', 'j', 'k', 'l']\n",
    "ma_liste[5:10:2]"
   ]
  },
  {
   "cell_type": "code",
   "execution_count": 28,
   "id": "c3618e12",
   "metadata": {},
   "outputs": [
    {
     "data": {
      "text/plain": [
       "['a', 'b', 'c', 'd', 'e', 'g', 'i', 'k', 'l']"
      ]
     },
     "execution_count": 28,
     "metadata": {},
     "output_type": "execute_result"
    }
   ],
   "source": [
    "del ma_liste[5:10:2]\n",
    "ma_liste"
   ]
  },
  {
   "cell_type": "markdown",
   "id": "f096ea67",
   "metadata": {},
   "source": [
    "## Listes en compréhension\n",
    "\n",
    "En mathématiques, il existe plusieurs manières de décrire un même ensemble. L'ensemble $\\mathcal{A}$ des entiers pairs compris entre 0 et 19 peut être défini en _extension_ :\n",
    "\n",
    "$$\n",
    "\\mathcal{A}=\\{0,2,4,6,8,10,12,14,16,18\\}\n",
    "$$\n",
    "\n",
    "Il peut également être décrit en _compréhension_ :\n",
    "\n",
    "$$\n",
    "\\mathcal{A}=\\{2n,\\;n\\in[\\![0,9]\\!]\\}\n",
    "$$\n",
    "\n",
    "De la même manière, la liste de ces entiers peut être défini en Python en extension :"
   ]
  },
  {
   "cell_type": "code",
   "execution_count": 29,
   "id": "678f29d3",
   "metadata": {},
   "outputs": [
    {
     "data": {
      "text/plain": [
       "[0, 2, 4, 6, 8, 10, 12, 14, 16, 18]"
      ]
     },
     "execution_count": 29,
     "metadata": {},
     "output_type": "execute_result"
    }
   ],
   "source": [
    "[0, 2, 4, 6, 8, 10, 12, 14, 16, 18]"
   ]
  },
  {
   "cell_type": "markdown",
   "id": "5f52758e",
   "metadata": {},
   "source": [
    "et en compréhension :"
   ]
  },
  {
   "cell_type": "code",
   "execution_count": 30,
   "id": "3bceef32",
   "metadata": {},
   "outputs": [
    {
     "data": {
      "text/plain": [
       "[0, 2, 4, 6, 8, 10, 12, 14, 16, 18]"
      ]
     },
     "execution_count": 30,
     "metadata": {},
     "output_type": "execute_result"
    }
   ],
   "source": [
    "[2*n for n in range(10)]"
   ]
  },
  {
   "cell_type": "markdown",
   "id": "2d587006",
   "metadata": {},
   "source": [
    "On parle alors de _liste en compréhension_.\n",
    "\n",
    "Une autre manière de définir $\\mathcal{A}$ en compréhension est la suivante :\n",
    "\n",
    "$$\n",
    "\\mathcal{A} = \\{x\\in[\\![0,19]\\!],\\;x\\equiv0[2]\\}\n",
    "$$\n",
    "\n",
    "La version correspondante en Python est :"
   ]
  },
  {
   "cell_type": "code",
   "execution_count": 31,
   "id": "327784c6",
   "metadata": {},
   "outputs": [
    {
     "data": {
      "text/plain": [
       "[0, 2, 4, 6, 8, 10, 12, 14, 16, 18]"
      ]
     },
     "execution_count": 31,
     "metadata": {},
     "output_type": "execute_result"
    }
   ],
   "source": [
    "[n for n in range(20) if n%2==0]"
   ]
  },
  {
   "cell_type": "markdown",
   "id": "dd2bd8bb",
   "metadata": {},
   "source": [
    "Bien entendu, on peut utiliser ce type de liste pour d'autres objets que des entiers."
   ]
  },
  {
   "cell_type": "code",
   "execution_count": 32,
   "id": "89f4ca2d",
   "metadata": {},
   "outputs": [
    {
     "data": {
      "text/plain": [
       "['TOTO', 'TATA', 'TITI']"
      ]
     },
     "execution_count": 32,
     "metadata": {},
     "output_type": "execute_result"
    }
   ],
   "source": [
    "[s.upper() for s in ('toto', 'tata', 'titi', 'zozo', 'zaza', 'zizi') if s[0]=='t']"
   ]
  }
 ],
 "metadata": {
  "jupytext": {
   "cell_metadata_filter": "-all",
   "formats": "md:myst",
   "text_representation": {
    "extension": ".md",
    "format_name": "myst",
    "format_version": 0.13,
    "jupytext_version": "1.11.5"
   }
  },
  "kernelspec": {
   "display_name": "Python 3",
   "language": "python",
   "name": "python3"
  },
  "language_info": {
   "codemirror_mode": {
    "name": "ipython",
    "version": 3
   },
   "file_extension": ".py",
   "mimetype": "text/x-python",
   "name": "python",
   "nbconvert_exporter": "python",
   "pygments_lexer": "ipython3",
   "version": "3.10.4"
  },
  "source_map": [
   14,
   22,
   24,
   28,
   30,
   34,
   36,
   40,
   42,
   48,
   50,
   58,
   60,
   66,
   69,
   77,
   80,
   84,
   87,
   91,
   93,
   99,
   103,
   107,
   111,
   119,
   125,
   128,
   132,
   138,
   143,
   146,
   152,
   158,
   161,
   167,
   171,
   177,
   181,
   187,
   190,
   196,
   199,
   203,
   206,
   210,
   215,
   218,
   222,
   227,
   230,
   248,
   250,
   254,
   256,
   268,
   270,
   274
  ]
 },
 "nbformat": 4,
 "nbformat_minor": 5
}