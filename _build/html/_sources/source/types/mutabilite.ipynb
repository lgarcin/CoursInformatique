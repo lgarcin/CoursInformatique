{
 "cells": [
  {
   "cell_type": "markdown",
   "id": "f8fa2092",
   "metadata": {},
   "source": [
    "# Mutabilité\n",
    "\n",
    "## Introduction\n",
    "\n",
    "Il s'agit d'un paragraphe un peu subtil : il s'agit d'expliquer la différence fondamentale qu'il existe en Python entre les objets que l'on peut modifier (listes) ou que l'on ne peut modifier (tuples ou chaînes de caractère).\n",
    "\n",
    "Considérons ce premier exemple où les variables sont des entiers."
   ]
  },
  {
   "cell_type": "code",
   "execution_count": 1,
   "id": "19be9fe3",
   "metadata": {},
   "outputs": [
    {
     "data": {
      "text/plain": [
       "(2, 1)"
      ]
     },
     "execution_count": 1,
     "metadata": {},
     "output_type": "execute_result"
    }
   ],
   "source": [
    "a = 1\n",
    "b = a\n",
    "a = 2   # on modifie a\n",
    "a, b    # b n'a pas ete modifiée"
   ]
  },
  {
   "cell_type": "markdown",
   "id": "18fc606a",
   "metadata": {},
   "source": [
    "Considérons maintenant l'exemple suivant où les variables sont des listes."
   ]
  },
  {
   "cell_type": "code",
   "execution_count": 2,
   "id": "40b88b09",
   "metadata": {},
   "outputs": [
    {
     "data": {
      "text/plain": [
       "(['foo', 2, 3], ['foo', 2, 3])"
      ]
     },
     "execution_count": 2,
     "metadata": {},
     "output_type": "execute_result"
    }
   ],
   "source": [
    "a = [1, 2, 3]\n",
    "b = a\n",
    "a[0] = 'foo'    # on modifie la liste a\n",
    "a, b            # la liste b a aussi ete modifiée !"
   ]
  },
  {
   "cell_type": "markdown",
   "id": "bfe669f9",
   "metadata": {},
   "source": [
    "Pour expliquer la différence entre ces deux exemples, il faut comprendre la représentation des objets Python en mémoire. Pour cela, on va utiliser la fonction `id`. Pour schématiser, celle-ci renvoie l'emplacement en mémoire d'un objet."
   ]
  },
  {
   "cell_type": "code",
   "execution_count": 3,
   "id": "de1556cf",
   "metadata": {},
   "outputs": [
    {
     "data": {
      "text/plain": [
       "(2190221770992, 2190221770992)"
      ]
     },
     "execution_count": 3,
     "metadata": {},
     "output_type": "execute_result"
    }
   ],
   "source": [
    "a = 1\n",
    "b = a\n",
    "id(a), id(b)    # les variables a et b pointent vers le même emplacement en mémoire"
   ]
  },
  {
   "cell_type": "code",
   "execution_count": 4,
   "id": "50d543b5",
   "metadata": {},
   "outputs": [
    {
     "data": {
      "text/plain": [
       "(2190221771024, 2190221770992)"
      ]
     },
     "execution_count": 4,
     "metadata": {},
     "output_type": "execute_result"
    }
   ],
   "source": [
    "a = 2\n",
    "id(a), id(b)    # la variable b pointe toujours vers le même emplacement mais plus la variable a"
   ]
  },
  {
   "cell_type": "markdown",
   "id": "a34d6401",
   "metadata": {},
   "source": [
    "L'instruction `a = 2` a fait pointer la variable `a` vers un autre emplacement en mémoire où est stocké l'entier `2`.\n",
    "\n",
    "```{mermaid}\n",
    "flowchart LR\n",
    "    subgraph before [Avant]\n",
    "    a_before((a))\n",
    "    b_before((b))\n",
    "    1_before(1)\n",
    "    a_before-->1_before\n",
    "    b_before-->1_before\n",
    "    end\n",
    "\n",
    "    subgraph after [Après]\n",
    "    a_after((a))\n",
    "    b_after((b))\n",
    "    1_after(1)\n",
    "    2(2)\n",
    "    a_after-->2\n",
    "    b_after-->1_after\n",
    "    end\n",
    "\n",
    "    before==>after\n",
    "```"
   ]
  },
  {
   "cell_type": "code",
   "execution_count": 5,
   "id": "ef1861c1",
   "metadata": {},
   "outputs": [
    {
     "data": {
      "text/plain": [
       "(2190299538112, 2190299538112)"
      ]
     },
     "execution_count": 5,
     "metadata": {},
     "output_type": "execute_result"
    }
   ],
   "source": [
    "a = [1, 2, 3]\n",
    "b = a\n",
    "id(a), id(b)    # les variables a et b pointent vers le même emplacement en mémoire"
   ]
  },
  {
   "cell_type": "code",
   "execution_count": 6,
   "id": "dfe1c5d8",
   "metadata": {},
   "outputs": [
    {
     "data": {
      "text/plain": [
       "(2190299538112, 2190299538112)"
      ]
     },
     "execution_count": 6,
     "metadata": {},
     "output_type": "execute_result"
    }
   ],
   "source": [
    "a[0] = 'foo'\n",
    "id(a), id(b)    # les variables a et b pointent toujours vers le même emplacement"
   ]
  },
  {
   "cell_type": "markdown",
   "id": "bfd82b30",
   "metadata": {},
   "source": [
    "Ici, l'instruction `a[0] = 'foo'` a modifié l'objet stocké à l'emplacement commun vers lequel pointent les variables `a` et `b`. Comme `a` et `b` pointent toujours le même emplacement en mémoire, la variable `b` est maintenant associée à ce nouvel objet.\n",
    "\n",
    "```{mermaid}\n",
    "flowchart LR\n",
    "    subgraph before [Avant]\n",
    "    a_before((a))\n",
    "    b_before((b))\n",
    "    l_before(\"[1, 2, 3]\")\n",
    "    a_before-->l_before\n",
    "    b_before-->l_before\n",
    "    end\n",
    "\n",
    "    subgraph after [Après]\n",
    "    a_after((a))\n",
    "    b_after((b))\n",
    "    l_after(\"['foo', 2, 3]\")\n",
    "    a_after-->l_after\n",
    "    b_after-->l_after\n",
    "    end\n",
    "\n",
    "    before==>after\n",
    "```\n",
    "\n",
    "## Objets mutables et immutables\n",
    "\n",
    "Mais pourquoi cette différence de comportement ? Il existe en Python deux types d'objets : les objets **mutables** et les objets **immutables**. On peut donner la définition suivante.\n",
    "\n",
    "> Un objet est dit **mutable** si on peut changer sa valeur après sa création. Il est dit **immutable** dans le cas contraire.\n",
    "\n",
    "* Objets immutables : entiers, flottants, complexes, tuples, chaînes de caractères, ...\n",
    "\n",
    "* Objets mutables : listes, dictionnaires, ...\n",
    "\n",
    "Voilà la solution du mystère : toutes les variables pointant vers un même objet mutable sont affectées par la modification de cet objet. Ceci ne peut pas se produire lorsque des variables pointent vers un objet immutable puisque celui-ci ne peut-être modifié.\n",
    "\n",
    "```{note}\n",
    "Ce n'est pas rigoureusement exact. Un objet immutable tel qu'un tuple peut contenir des objets mutables comme des listes. Néanmoins, chaque objet du tuple conserve le même emplacement en mémoire même s'il a été modifié.\n",
    "```"
   ]
  },
  {
   "cell_type": "code",
   "execution_count": 7,
   "id": "d6387c65",
   "metadata": {},
   "outputs": [
    {
     "data": {
      "text/plain": [
       "(([1, 1000, 3], 'toto', 'tata'), ([1, 1000, 3], 'toto', 'tata'))"
      ]
     },
     "execution_count": 7,
     "metadata": {},
     "output_type": "execute_result"
    }
   ],
   "source": [
    "a = ([1, 2, 3], 'toto', 'tata')\n",
    "b = a\n",
    "a[0][1] = 1000\n",
    "a, b                # b a egalement ete modifié"
   ]
  },
  {
   "cell_type": "code",
   "execution_count": 8,
   "id": "6b8cffc6",
   "metadata": {},
   "outputs": [
    {
     "data": {
      "text/plain": [
       "(2190299368384, 2190299368384)"
      ]
     },
     "execution_count": 8,
     "metadata": {},
     "output_type": "execute_result"
    }
   ],
   "source": [
    "id(a[0]), id(b[0])  # le premier élément du tuple est toujours le même"
   ]
  },
  {
   "cell_type": "markdown",
   "id": "fdc2ce8f",
   "metadata": {},
   "source": [
    "## Copie\n",
    "\n",
    "Bien souvent, on veut copier une liste ou un dictionnaire dans un nouvel objet pour qu'il ne subisse pas les modifications de l'objet initial. Pour cela, il ya plusieurs possibilités :\n",
    "\n",
    "* le slicing `[:]` pour les listes ;\n",
    "* l'utilisation de la méthode `copy` ;\n",
    "* l'utilisation du constructeur `list` pour les listes ou du constructeur `dict` pour les dictionnaires."
   ]
  },
  {
   "cell_type": "code",
   "execution_count": 9,
   "id": "f57bf2ed",
   "metadata": {},
   "outputs": [
    {
     "data": {
      "text/plain": [
       "(2190299794560, 2190299787840, 2190299785984, 2190299746432)"
      ]
     },
     "execution_count": 9,
     "metadata": {},
     "output_type": "execute_result"
    }
   ],
   "source": [
    "liste1 = [1, 2, 3]\n",
    "liste2 = liste1[:]\n",
    "liste3 = liste1.copy()\n",
    "liste4 = list(liste1)\n",
    "id(liste1), id(liste2), id(liste3), id(liste4)  # les objets sont bien distincts"
   ]
  },
  {
   "cell_type": "code",
   "execution_count": 10,
   "id": "ed32d2d9",
   "metadata": {},
   "outputs": [
    {
     "data": {
      "text/plain": [
       "(['toto', 2, 3], [1, 2, 3], [1, 2, 3], [1, 2, 3])"
      ]
     },
     "execution_count": 10,
     "metadata": {},
     "output_type": "execute_result"
    }
   ],
   "source": [
    "liste1[0] = 'toto'\n",
    "liste1, liste2, liste3, liste4                  # liste1 a ete modifiée mais pas les autres listes"
   ]
  },
  {
   "cell_type": "markdown",
   "id": "f328890f",
   "metadata": {},
   "source": [
    "___\n",
    "\n",
    "Il faut prendre garde au fait que les copies de listes ou de dictionnaires ne sont que des copies **superficielles**.\n",
    "\n",
    "Créons un dictionnaire `eleve`. Il est important de remarquer que la valeur associé à la clé `'nom'` est un objet immutable (une chaîne de caractères) tandis que la valeur associé à la clé `'notes'` est un objet mutable (une liste)."
   ]
  },
  {
   "cell_type": "code",
   "execution_count": 11,
   "id": "235c88da",
   "metadata": {},
   "outputs": [],
   "source": [
    "eleve  = { 'nom': 'Pierrette', 'notes': [14, 8, 15]}"
   ]
  },
  {
   "cell_type": "markdown",
   "id": "f45006f9",
   "metadata": {},
   "source": [
    "On effectue une copie de `eleve` que l'on stocke dans une variable `eleve2`."
   ]
  },
  {
   "cell_type": "code",
   "execution_count": 12,
   "id": "972790b3",
   "metadata": {},
   "outputs": [
    {
     "data": {
      "text/plain": [
       "{'nom': 'Pierrette', 'notes': [14, 8, 15]}"
      ]
     },
     "execution_count": 12,
     "metadata": {},
     "output_type": "execute_result"
    }
   ],
   "source": [
    "eleve2 = eleve.copy()\n",
    "eleve2"
   ]
  },
  {
   "cell_type": "markdown",
   "id": "4c6b67cb",
   "metadata": {},
   "source": [
    "On modifie le contenu du dictionnaire `eleve` ; on s'attend à ce que le contenu de `eleve2` ne soit pas modifié."
   ]
  },
  {
   "cell_type": "code",
   "execution_count": 13,
   "id": "3914a6cf",
   "metadata": {},
   "outputs": [],
   "source": [
    "eleve['nom'] = 'Alphonse'\n",
    "eleve['notes'].append(20)"
   ]
  },
  {
   "cell_type": "markdown",
   "id": "37376a58",
   "metadata": {},
   "source": [
    "On constate que dans le dictionnaire `eleve2`, la valeur associée à la clé `'nom'` est bien restée inchangée tandis que la valeur associée à la clé `'notes'` a subit la même modifiaction que dans `eleve`."
   ]
  },
  {
   "cell_type": "code",
   "execution_count": 14,
   "id": "bfde0a7a",
   "metadata": {},
   "outputs": [
    {
     "data": {
      "text/plain": [
       "({'nom': 'Alphonse', 'notes': [14, 8, 15, 20]},\n",
       " {'nom': 'Pierrette', 'notes': [14, 8, 15, 20]})"
      ]
     },
     "execution_count": 14,
     "metadata": {},
     "output_type": "execute_result"
    }
   ],
   "source": [
    "eleve, eleve2"
   ]
  },
  {
   "cell_type": "markdown",
   "id": "cf2b5f06",
   "metadata": {},
   "source": [
    "___\n",
    "\n",
    "Le lecteur attentif aura remarqué qu'on semblerait pouvoir modifier un objet immutable telle qu'une chaîne de caractères ou un tuple à l'aide des opérateurs `+` ou `+=`. Mais ces opérateurs ne modifient pas l'objet en question ; ils créent en fait un **nouvel** objet. On peut s'en convaincre à l'aide de la fonction `id`."
   ]
  },
  {
   "cell_type": "code",
   "execution_count": 15,
   "id": "c7d60212",
   "metadata": {},
   "outputs": [
    {
     "data": {
      "text/plain": [
       "2190299712256"
      ]
     },
     "execution_count": 15,
     "metadata": {},
     "output_type": "execute_result"
    }
   ],
   "source": [
    "t = (1, 2, 3)\n",
    "id(t)"
   ]
  },
  {
   "cell_type": "code",
   "execution_count": 16,
   "id": "6a0c7d3f",
   "metadata": {},
   "outputs": [
    {
     "data": {
      "text/plain": [
       "2190299354896"
      ]
     },
     "execution_count": 16,
     "metadata": {},
     "output_type": "execute_result"
    }
   ],
   "source": [
    "t = t + (4, 5)\n",
    "id(t)"
   ]
  },
  {
   "cell_type": "code",
   "execution_count": 17,
   "id": "ddc0f6e1",
   "metadata": {},
   "outputs": [
    {
     "data": {
      "text/plain": [
       "2190272406896"
      ]
     },
     "execution_count": 17,
     "metadata": {},
     "output_type": "execute_result"
    }
   ],
   "source": [
    "t += (6, 7, 8)\n",
    "id(t)"
   ]
  },
  {
   "cell_type": "markdown",
   "id": "a8dde8d3",
   "metadata": {},
   "source": [
    "Pour les objets mutables tels que les listes, les opérateurs `+` et `+=` se comportent de manières différentes : l'opérateur `+` crée un nouvel objet tandis que l'opérateur `+=` modifie l'objet initial."
   ]
  },
  {
   "cell_type": "code",
   "execution_count": 18,
   "id": "bff641d8",
   "metadata": {},
   "outputs": [
    {
     "data": {
      "text/plain": [
       "([1, 2, 3, 4, 5], [1, 2, 3])"
      ]
     },
     "execution_count": 18,
     "metadata": {},
     "output_type": "execute_result"
    }
   ],
   "source": [
    "liste1 = [1, 2, 3]\n",
    "liste2 = liste1\n",
    "liste1 = liste1 + [4, 5]\n",
    "liste1, liste2          # seule liste1 a ete modifiée"
   ]
  },
  {
   "cell_type": "code",
   "execution_count": 19,
   "id": "06a6fa83",
   "metadata": {},
   "outputs": [
    {
     "data": {
      "text/plain": [
       "(2190299742976, 2190299787776)"
      ]
     },
     "execution_count": 19,
     "metadata": {},
     "output_type": "execute_result"
    }
   ],
   "source": [
    "id(liste1), id(liste2)  # c'est normal : liste1 et liste2 pointent vers des objets distincts"
   ]
  },
  {
   "cell_type": "code",
   "execution_count": 20,
   "id": "5a250058",
   "metadata": {},
   "outputs": [
    {
     "data": {
      "text/plain": [
       "([1, 2, 3, 4, 5], [1, 2, 3, 4, 5])"
      ]
     },
     "execution_count": 20,
     "metadata": {},
     "output_type": "execute_result"
    }
   ],
   "source": [
    "liste1 = [1, 2, 3]\n",
    "liste2 = liste1\n",
    "liste1 += [4, 5]\n",
    "liste1, liste2          # liste1 et liste2 ont ete modifiées"
   ]
  },
  {
   "cell_type": "code",
   "execution_count": 21,
   "id": "d0535f05",
   "metadata": {},
   "outputs": [
    {
     "data": {
      "text/plain": [
       "(2190299626688, 2190299626688)"
      ]
     },
     "execution_count": 21,
     "metadata": {},
     "output_type": "execute_result"
    }
   ],
   "source": [
    "id(liste1), id(liste2)  # c'est normal : liste1 et liste2 pointent vers le même objet"
   ]
  },
  {
   "cell_type": "markdown",
   "id": "fe2db391",
   "metadata": {},
   "source": [
    "## Egalité structurelle ou physique\n",
    "\n",
    "On a vu que l'opérateur `==` permettait de tester si deux objets étaient égaux. Mais de quel type d'égalité parle-t-on alors ? L'opérateur `==` teste si deux objets ont la même **valeur** sans pour autant qu'il partage le même emplacement en mémoire. On parle alors d'**égalité structurelle**.\n",
    "\n",
    "Lorsque \"deux\" objets sont en fait identiques (c'est-à-dire lorsqu'ils ont le même emplacement en mémoire), on parle d'**égalité physique**. Pour tester l'égalité physique, on peut comparer les emplacements en mémoire à l'aide de la fonction `id` ou plus simplement utiliser l'opérateur `is`."
   ]
  },
  {
   "cell_type": "code",
   "execution_count": 22,
   "id": "9e889ada",
   "metadata": {},
   "outputs": [
    {
     "data": {
      "text/plain": [
       "({'nom': 'toto', 'age': 43},\n",
       " {'nom': 'toto', 'age': 43},\n",
       " {'nom': 'toto', 'age': 43})"
      ]
     },
     "execution_count": 22,
     "metadata": {},
     "output_type": "execute_result"
    }
   ],
   "source": [
    "dict1 = {'nom': 'toto', 'age': 43}\n",
    "dict2 = dict1\n",
    "dict3 = dict1.copy()\n",
    "dict1, dict2, dict3"
   ]
  },
  {
   "cell_type": "code",
   "execution_count": 23,
   "id": "34ca1760",
   "metadata": {},
   "outputs": [
    {
     "data": {
      "text/plain": [
       "(2190299803648, 2190299803648, 2190299801920)"
      ]
     },
     "execution_count": 23,
     "metadata": {},
     "output_type": "execute_result"
    }
   ],
   "source": [
    "id(dict1), id(dict2), id(dict3)"
   ]
  },
  {
   "cell_type": "code",
   "execution_count": 24,
   "id": "558b83fc",
   "metadata": {},
   "outputs": [
    {
     "data": {
      "text/plain": [
       "(True, True)"
      ]
     },
     "execution_count": 24,
     "metadata": {},
     "output_type": "execute_result"
    }
   ],
   "source": [
    "dict2 == dict1, dict3 == dict1"
   ]
  },
  {
   "cell_type": "code",
   "execution_count": 25,
   "id": "a5196948",
   "metadata": {},
   "outputs": [
    {
     "data": {
      "text/plain": [
       "(True, False)"
      ]
     },
     "execution_count": 25,
     "metadata": {},
     "output_type": "execute_result"
    }
   ],
   "source": [
    "dict2 is dict1, dict3 is dict1"
   ]
  },
  {
   "cell_type": "markdown",
   "id": "e2fedf1c",
   "metadata": {},
   "source": [
    "Un exemple peut-être un peu plus surprenant."
   ]
  },
  {
   "cell_type": "code",
   "execution_count": 26,
   "id": "f2d47969",
   "metadata": {},
   "outputs": [
    {
     "data": {
      "text/plain": [
       "True"
      ]
     },
     "execution_count": 26,
     "metadata": {},
     "output_type": "execute_result"
    }
   ],
   "source": [
    "[1, 2, 3] == [1, 2, 3]"
   ]
  },
  {
   "cell_type": "code",
   "execution_count": 27,
   "id": "85b37711",
   "metadata": {},
   "outputs": [
    {
     "data": {
      "text/plain": [
       "False"
      ]
     },
     "execution_count": 27,
     "metadata": {},
     "output_type": "execute_result"
    }
   ],
   "source": [
    "[1, 2, 3] is [1, 2, 3]"
   ]
  },
  {
   "cell_type": "markdown",
   "id": "3f0e3e94",
   "metadata": {},
   "source": [
    "Python a en fait stocké deux versions de la liste `[1, 2, 3]` dans deux emplacements en mémoire distincts.\n",
    "\n",
    "___\n",
    "\n",
    "On termine par un cas plus vicieux que les deux exemples initiaux et qui peut faire passer des nuits blanches au programmeur débutant en Python."
   ]
  },
  {
   "cell_type": "code",
   "execution_count": 28,
   "id": "3c22361a",
   "metadata": {},
   "outputs": [
    {
     "data": {
      "text/plain": [
       "[[0, 0, 0], [0, 0, 0], [0, 0, 0], [0, 0, 0]]"
      ]
     },
     "execution_count": 28,
     "metadata": {},
     "output_type": "execute_result"
    }
   ],
   "source": [
    "a = [[0] * 3] * 4\n",
    "a"
   ]
  },
  {
   "cell_type": "code",
   "execution_count": 29,
   "id": "993fbb33",
   "metadata": {},
   "outputs": [
    {
     "data": {
      "text/plain": [
       "[[1, 0, 0], [1, 0, 0], [1, 0, 0], [1, 0, 0]]"
      ]
     },
     "execution_count": 29,
     "metadata": {},
     "output_type": "execute_result"
    }
   ],
   "source": [
    "a[0][0] = 1     # on pense n'avoir modifié qu'un élément de la liste de listes a\n",
    "a               # en fait non..."
   ]
  }
 ],
 "metadata": {
  "jupytext": {
   "cell_metadata_filter": "-all",
   "formats": "md:myst",
   "text_representation": {
    "extension": ".md",
    "format_name": "myst",
    "format_version": 0.13,
    "jupytext_version": "1.11.5"
   }
  },
  "kernelspec": {
   "display_name": "Python 3",
   "language": "python",
   "name": "python3"
  },
  "language_info": {
   "codemirror_mode": {
    "name": "ipython",
    "version": 3
   },
   "file_extension": ".py",
   "mimetype": "text/x-python",
   "name": "python",
   "nbconvert_exporter": "python",
   "pygments_lexer": "ipython3",
   "version": "3.10.4"
  },
  "source_map": [
   14,
   24,
   29,
   33,
   38,
   42,
   48,
   51,
   77,
   83,
   86,
   127,
   134,
   136,
   146,
   154,
   157,
   165,
   167,
   171,
   174,
   178,
   181,
   185,
   187,
   193,
   198,
   203,
   206,
   210,
   217,
   221,
   228,
   230,
   238,
   245,
   249,
   253,
   255,
   259,
   263,
   265,
   273,
   278
  ]
 },
 "nbformat": 4,
 "nbformat_minor": 5
}