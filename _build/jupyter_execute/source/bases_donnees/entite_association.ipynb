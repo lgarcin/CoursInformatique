{
 "cells": [
  {
   "cell_type": "markdown",
   "id": "51e3b804",
   "metadata": {},
   "source": [
    "# Modèle entité-association"
   ]
  },
  {
   "cell_type": "code",
   "execution_count": 1,
   "id": "0e0b6f7c",
   "metadata": {
    "tags": [
     "remove-stdout",
     "remove-input"
    ]
   },
   "outputs": [],
   "source": [
    "%load_ext sql\n",
    "%sql sqlite:///../../_databases/dummy.db"
   ]
  },
  {
   "cell_type": "markdown",
   "id": "42608b91",
   "metadata": {},
   "source": [
    "## Entités et associations\n",
    "\n",
    "On cherche à modéliser les différents liens qui existent entre les tables d'une base de données. Une **entité** désigne une table de ces bases de données et une **association** désigne un lien entre deux entités. Par exemple, on manipulera une base de données dont les **entités** sont `REALISATEUR`, `FILM`, `SPECTATEUR` et `SPECTATEUR_DETAILS`.\n",
    "\n",
    "```{mermaid}\n",
    "erDiagram\n",
    "  REALISATEUR ||--|{ FILM : \"réalise\"\n",
    "  SPECTATEUR }o--o{ FILM : \"note\"\n",
    "  SPECTATEUR_RENSEIGNEMENTS ||--|| SPECTATEUR : \"renseigne\"\n",
    "```\n",
    "\n",
    "Les associations entre ces entités sont les suivantes :\n",
    "\n",
    "* Les réalisateurs **réalisent** des films.\n",
    "* Les spectateurs **notent** des films.\n",
    "* Les fiches de renseignements **renseignent** sur les spectateurs.\n",
    "\n",
    "## Clés primaires et étrangères\n",
    "\n",
    "Pour réaliser concrètement des associations entre entités d'une base de données, on utilise la notion de **clé**.\n",
    "\n",
    "Une **clé primaire** est un attribut ou la combinaison de plusieurs attributs d'une table d'une base de données permettant d'identifier chaque enregistrement de la table de manière unique. Considérons par exemple la table `films` suivante.\n",
    "\n",
    "```{mermaid}\n",
    "erDiagram\n",
    "  films {\n",
    "    string  titre\n",
    "    int     annee\n",
    "    int     duree\n",
    "  }\n",
    "```\n",
    "\n",
    "Une clé primaire pourrait être l'attribut `titre` ou encore le couple `(titre, annee)`. Malheureusement, deux films pourraient avoir le même titre ou, encore pire, le même titre et la même année de sortie, ce qui ne permettrait pas d'identifier chaque enregistrement de manière unique. C'est pourquoi l'on rajoute souvent à une table un attribut **identifiant**. Cet identifiant (le plus souvent un entier ou éventuellement une chaîne de caractères) est généré de manière automatique à chaque ajout d'un enregistrement dans la table de telle sorte qu'il soit distinct des identifiants des enregistrements précédents.\n",
    "\n",
    "Dans la table suivante, l'attribut `id` désigne un identifiant qui servira de clé primaire (`PK` signifie **P**rimary **K**ey).\n",
    "\n",
    "```{mermaid}\n",
    "erDiagram\n",
    "  films {\n",
    "    int     id    PK\n",
    "    string  titre\n",
    "    int     annee\n",
    "    int     duree\n",
    "  }\n",
    "```\n",
    "\n",
    "De la même manière, on considère la table `realisateurs` suivante où l'attribut `id` désigne à nouveau un identifiant servant de clé primaire.\n",
    "\n",
    "```{mermaid}\n",
    "erDiagram\n",
    "  realisateurs {\n",
    "    int     id    PK\n",
    "    string  nom\n",
    "    string  pays\n",
    "  }\n",
    "```\n",
    "\n",
    "On peut relier ces deux entités `films` et `realisateurs` par une association à l'aide de ces clés. On utilise pour cela une **clé étrangère**, c'est-à-dire un attribut d'une table faisant référence à une clé primaire d'une autre table.\n",
    "\n",
    "Par exemple, l'attribut `realisateur_id` de la table `films` suivante est une clé étrangère (`FK` signifie **F**oreign **K**ey) faisant référence à l'attribut `id` de la table `realisateurs`.\n",
    "\n",
    "```{mermaid}\n",
    "erDiagram\n",
    "  films {\n",
    "    int     id              PK\n",
    "    string  titre\n",
    "    int     annee\n",
    "    int     duree\n",
    "    int     realisateur_id  FK\n",
    "  }\n",
    "```\n",
    "\n",
    "## Cardinalité d'une association\n",
    "\n",
    "Dans l'exemple donné initialement, on remarque que les associations sont de plusieurs types :\n",
    "\n",
    "* Un réalisateur peut réaliser plusieurs films tandis qu'un film est réalisé par un unique réalisateur : l'association **réalise** `REALISATEUR->FILM` est dite de type `1-*`.\n",
    "* Un spectateur peut noter plusieurs films et un film peut être noté par plusieurs spectateurs : l'association **note** `SPECTATEUR->FILM` est dite de type `*-*`.\n",
    "* Chaque fiche de renseignement est associé à un unique spectateur et chaque spectateur possède une unique fiche de renseignements : la relation **renseigne** `SPECTATEUR_RENSEIGNEMENTS->SPECTATEUR` est dite de type `1-1`.\n",
    "\n",
    "De manière générale :\n",
    "\n",
    "* Une association entre une entité `A` et une entité `B` est dite de type `1-*` si tout élément de `A` est en relation avec plusieurs éléments de `B` et que chaque élément de `B` est en relation avec un unique élément de `A`.\n",
    "* Une association entre une entité `A` et une entité `B` est dite de type `1-1` si tout élément de `A` est en relation un unique élement de `B` et inversement.\n",
    "* Une association entre une entité `A` et une entité `B` est dite de type `*-*` si tout élément de `A` est en relation avec plusieurs éléments de `B` et inversement.\n",
    "\n",
    "### Associations `1-*`\n",
    "\n",
    "L'utilistation d'une clé étrangère permet naturellement de réaliser des associations de type `1-*` comme le montre l'exemple suivant.\n",
    "\n",
    "```{mermaid}\n",
    "erDiagram\n",
    "  realisateurs ||--|{ films : \"réalise\"\n",
    "\n",
    "  films {\n",
    "    int     id              PK\n",
    "    string  titre\n",
    "    int     annee\n",
    "    int     duree\n",
    "    int     realisateur_id  FK\n",
    "  }\n",
    "\n",
    "  realisateurs {\n",
    "    int     id    PK\n",
    "    string  nom\n",
    "    string  pays\n",
    "  }\n",
    "```"
   ]
  },
  {
   "cell_type": "code",
   "execution_count": 2,
   "id": "e6f7e1c4",
   "metadata": {
    "tags": [
     "remove-output",
     "remove-input"
    ]
   },
   "outputs": [
    {
     "data": {
      "text/plain": [
       "5"
      ]
     },
     "metadata": {
      "scrapbook": {
       "mime_prefix": "",
       "name": "id"
      }
     },
     "output_type": "display_data"
    },
    {
     "name": "stdout",
     "output_type": "stream",
     "text": [
      " * sqlite:///../../_databases/dummy.db\n",
      "Done.\n"
     ]
    },
    {
     "data": {
      "text/plain": [
       "'Mes petites amoureuses'"
      ]
     },
     "metadata": {
      "scrapbook": {
       "mime_prefix": "",
       "name": "titre"
      }
     },
     "output_type": "display_data"
    },
    {
     "data": {
      "text/plain": [
       "2"
      ]
     },
     "metadata": {
      "scrapbook": {
       "mime_prefix": "",
       "name": "realisateur_id"
      }
     },
     "output_type": "display_data"
    },
    {
     "name": "stdout",
     "output_type": "stream",
     "text": [
      " * sqlite:///../../_databases/dummy.db\n",
      "Done.\n"
     ]
    },
    {
     "data": {
      "text/plain": [
       "'Jean Eustache'"
      ]
     },
     "metadata": {
      "scrapbook": {
       "mime_prefix": "",
       "name": "nom"
      }
     },
     "output_type": "display_data"
    }
   ],
   "source": [
    "from myst_nb import glue\n",
    "id=5\n",
    "glue(\"id\", id)\n",
    "result_films = %sql SELECT * FROM films WHERE id = :id\n",
    "dicts = next(result_films.dicts())\n",
    "titre = dicts['titre']\n",
    "glue(\"titre\", titre)\n",
    "realisateur_id = dicts['realisateur_id']\n",
    "glue(\"realisateur_id\", realisateur_id)\n",
    "result_realisateurs = %sql SELECT * FROM realisateurs WHERE id = :realisateur_id\n",
    "dicts = next(result_realisateurs.dicts())\n",
    "nom = dicts['nom']\n",
    "glue(\"nom\", nom)"
   ]
  },
  {
   "cell_type": "markdown",
   "id": "54f9a5b0",
   "metadata": {},
   "source": [
    "Examinons par exemple l'enregistrement de la table `films` dont l'identifiant est {glue:}`id`."
   ]
  },
  {
   "cell_type": "code",
   "execution_count": 3,
   "id": "626c5c42",
   "metadata": {
    "tags": [
     "remove-stdout",
     "remove-input"
    ]
   },
   "outputs": [
    {
     "data": {
      "text/html": [
       "<table>\n",
       "    <tr>\n",
       "        <th>id</th>\n",
       "        <th>titre</th>\n",
       "        <th>annee</th>\n",
       "        <th>duree</th>\n",
       "        <th>realisateur_id</th>\n",
       "    </tr>\n",
       "    <tr>\n",
       "        <td>5</td>\n",
       "        <td>Mes petites amoureuses</td>\n",
       "        <td>1974</td>\n",
       "        <td>123</td>\n",
       "        <td>2</td>\n",
       "    </tr>\n",
       "</table>"
      ],
      "text/plain": [
       "[(5, 'Mes petites amoureuses', 1974, 123, 2)]"
      ]
     },
     "execution_count": 3,
     "metadata": {},
     "output_type": "execute_result"
    }
   ],
   "source": [
    "result_films"
   ]
  },
  {
   "cell_type": "markdown",
   "id": "5e405269",
   "metadata": {},
   "source": [
    "Le film {glue:}`titre` a donc été réalisé par le réalisateur dont l'identifiant est {glue:}`realisateur_id`."
   ]
  },
  {
   "cell_type": "code",
   "execution_count": 4,
   "id": "414ac5b5",
   "metadata": {
    "tags": [
     "remove-stdout",
     "remove-input"
    ]
   },
   "outputs": [
    {
     "data": {
      "text/html": [
       "<table>\n",
       "    <tr>\n",
       "        <th>id</th>\n",
       "        <th>nom</th>\n",
       "        <th>pays</th>\n",
       "    </tr>\n",
       "    <tr>\n",
       "        <td>2</td>\n",
       "        <td>Jean Eustache</td>\n",
       "        <td>France</td>\n",
       "    </tr>\n",
       "</table>"
      ],
      "text/plain": [
       "[(2, 'Jean Eustache', 'France')]"
      ]
     },
     "execution_count": 4,
     "metadata": {},
     "output_type": "execute_result"
    }
   ],
   "source": [
    "result_realisateurs"
   ]
  },
  {
   "cell_type": "markdown",
   "id": "8be33b74",
   "metadata": {},
   "source": [
    "Autrement dit, {glue:}`titre` a été réalisé par {glue:}`nom`.\n",
    "\n",
    "### Associations `1-1`\n",
    "\n",
    "Pour réaliser une relation `1-1` entre deux tables, il suffit de définir une clé étrangère sur l'une des tables qui est également une clé primaire.\n",
    "\n",
    "Considérons les deux tables suivantes.\n",
    "\n",
    "```{mermaid}\n",
    "erDiagram\n",
    "  spectateurs_renseignements ||--|| spectateurs : \"renseigne\"\n",
    "\n",
    "  spectateurs {\n",
    "    int     id              PK\n",
    "    string  nom\n",
    "  }\n",
    "\n",
    "  spectateurs_renseignements {\n",
    "    int     spectateur_id    PK \"FK\"\n",
    "    string  ville\n",
    "    int     date_naissance\n",
    "  }\n",
    "```\n",
    "\n",
    "La clé `spectateur_id` de la table `spectateurs_renseignements` est à la fois une clé étrangère est une clé primaire. De cette façon, chaque enregistrement de la table `spectateurs_renseignements` est associé de manière unique à un enregistrement de la table `spectateurs`.\n",
    "\n",
    "```{note}\n",
    "Il ne s'agit pas rigoureusement d'une association `1-1` car un enregistrement de la table `spectateurs` est en fait associé à **au plus un** enregistrement de la table `spectateurs_renseignements`.\n",
    "```\n",
    "\n",
    "Observons le contenu de ces deux tables."
   ]
  },
  {
   "cell_type": "code",
   "execution_count": 5,
   "id": "5296049a",
   "metadata": {
    "tags": [
     "remove-stdout"
    ]
   },
   "outputs": [
    {
     "name": "stdout",
     "output_type": "stream",
     "text": [
      " * sqlite:///../../_databases/dummy.db\n",
      "Done.\n"
     ]
    },
    {
     "data": {
      "text/html": [
       "<table>\n",
       "    <tr>\n",
       "        <th>id</th>\n",
       "        <th>nom</th>\n",
       "    </tr>\n",
       "    <tr>\n",
       "        <td>1</td>\n",
       "        <td>Alain Dupont</td>\n",
       "    </tr>\n",
       "    <tr>\n",
       "        <td>2</td>\n",
       "        <td>Annie Durand</td>\n",
       "    </tr>\n",
       "    <tr>\n",
       "        <td>3</td>\n",
       "        <td>Roger Martin</td>\n",
       "    </tr>\n",
       "    <tr>\n",
       "        <td>4</td>\n",
       "        <td>Valérie Petit</td>\n",
       "    </tr>\n",
       "    <tr>\n",
       "        <td>5</td>\n",
       "        <td>Jean Dubois</td>\n",
       "    </tr>\n",
       "    <tr>\n",
       "        <td>6</td>\n",
       "        <td>Mireille Deschamps</td>\n",
       "    </tr>\n",
       "    <tr>\n",
       "        <td>7</td>\n",
       "        <td>Gérard Bouchard</td>\n",
       "    </tr>\n",
       "</table>"
      ],
      "text/plain": [
       "[(1, 'Alain Dupont'),\n",
       " (2, 'Annie Durand'),\n",
       " (3, 'Roger Martin'),\n",
       " (4, 'Valérie Petit'),\n",
       " (5, 'Jean Dubois'),\n",
       " (6, 'Mireille Deschamps'),\n",
       " (7, 'Gérard Bouchard')]"
      ]
     },
     "execution_count": 5,
     "metadata": {},
     "output_type": "execute_result"
    }
   ],
   "source": [
    "%%sql\n",
    "SELECT * FROM spectateurs"
   ]
  },
  {
   "cell_type": "code",
   "execution_count": 6,
   "id": "67dc16d5",
   "metadata": {
    "tags": [
     "remove-stdout"
    ]
   },
   "outputs": [
    {
     "name": "stdout",
     "output_type": "stream",
     "text": [
      " * sqlite:///../../_databases/dummy.db\n",
      "Done.\n"
     ]
    },
    {
     "data": {
      "text/html": [
       "<table>\n",
       "    <tr>\n",
       "        <th>spectateur_id</th>\n",
       "        <th>ville</th>\n",
       "        <th>date_naissance</th>\n",
       "    </tr>\n",
       "    <tr>\n",
       "        <td>1</td>\n",
       "        <td>Melun</td>\n",
       "        <td>1972</td>\n",
       "    </tr>\n",
       "    <tr>\n",
       "        <td>2</td>\n",
       "        <td>Troyes</td>\n",
       "        <td>1985</td>\n",
       "    </tr>\n",
       "    <tr>\n",
       "        <td>3</td>\n",
       "        <td>Avignon</td>\n",
       "        <td>2005</td>\n",
       "    </tr>\n",
       "    <tr>\n",
       "        <td>4</td>\n",
       "        <td>Brest</td>\n",
       "        <td>1972</td>\n",
       "    </tr>\n",
       "    <tr>\n",
       "        <td>5</td>\n",
       "        <td>Avignon</td>\n",
       "        <td>1993</td>\n",
       "    </tr>\n",
       "    <tr>\n",
       "        <td>6</td>\n",
       "        <td>Paris</td>\n",
       "        <td>1985</td>\n",
       "    </tr>\n",
       "    <tr>\n",
       "        <td>7</td>\n",
       "        <td>Toulon</td>\n",
       "        <td>1992</td>\n",
       "    </tr>\n",
       "</table>"
      ],
      "text/plain": [
       "[(1, 'Melun', 1972),\n",
       " (2, 'Troyes', 1985),\n",
       " (3, 'Avignon', 2005),\n",
       " (4, 'Brest', 1972),\n",
       " (5, 'Avignon', 1993),\n",
       " (6, 'Paris', 1985),\n",
       " (7, 'Toulon', 1992)]"
      ]
     },
     "execution_count": 6,
     "metadata": {},
     "output_type": "execute_result"
    }
   ],
   "source": [
    "%%sql\n",
    "SELECT * FROM spectateurs_renseignements"
   ]
  },
  {
   "cell_type": "code",
   "execution_count": 7,
   "id": "68d0dfbb",
   "metadata": {
    "tags": [
     "remove-output",
     "remove-input"
    ]
   },
   "outputs": [
    {
     "name": "stdout",
     "output_type": "stream",
     "text": [
      " * sqlite:///../../_databases/dummy.db\n",
      "Done.\n"
     ]
    },
    {
     "data": {
      "text/plain": [
       "'Gérard Bouchard'"
      ]
     },
     "metadata": {
      "scrapbook": {
       "mime_prefix": "",
       "name": "nom_spectateur"
      }
     },
     "output_type": "display_data"
    },
    {
     "name": "stdout",
     "output_type": "stream",
     "text": [
      " * sqlite:///../../_databases/dummy.db\n",
      "Done.\n"
     ]
    },
    {
     "data": {
      "text/plain": [
       "'Toulon'"
      ]
     },
     "metadata": {
      "scrapbook": {
       "mime_prefix": "",
       "name": "ville"
      }
     },
     "output_type": "display_data"
    },
    {
     "data": {
      "text/plain": [
       "1992"
      ]
     },
     "metadata": {
      "scrapbook": {
       "mime_prefix": "",
       "name": "date_naissance"
      }
     },
     "output_type": "display_data"
    }
   ],
   "source": [
    "id=7\n",
    "result_spectateurs = %sql SELECT * FROM spectateurs WHERE id = :id\n",
    "dicts = next(result_spectateurs.dicts())\n",
    "nom_spectateur = dicts['nom']\n",
    "glue(\"nom_spectateur\", nom_spectateur)\n",
    "result_spectateurs_renseignements = %sql SELECT * FROM spectateurs_renseignements WHERE spectateur_id = :id\n",
    "dicts = next(result_spectateurs_renseignements.dicts())\n",
    "ville = dicts['ville']\n",
    "glue(\"ville\", ville)\n",
    "date_naissance = dicts['date_naissance']\n",
    "glue(\"date_naissance\", date_naissance)"
   ]
  },
  {
   "cell_type": "markdown",
   "id": "dd0a2c0e",
   "metadata": {},
   "source": [
    "Par exemple, {glue:}`nom_spectateur` habite à {glue:}`ville` et est né en {glue:}`date_naissance`.\n",
    "\n",
    "```{note}\n",
    "Deux entités qui sont en relation `1-1` peuvent toujours être fusionnées.\n",
    "```\n",
    "\n",
    "Par exemple, les tables `spectateurs` et `spectateurs_renseignements` pourraient être fusionnées en l'unique table `spectateurs` suivante.\n",
    "\n",
    "```{mermaid}\n",
    "erDiagram\n",
    "  spectateurs {\n",
    "    int     id              PK\n",
    "    string  nom\n",
    "    string  ville\n",
    "    int     date_naissance\n",
    "  }\n",
    "```\n",
    "\n",
    "### Associations `*-*`\n",
    "\n",
    "On ne peut pas réaliser des associations `*-*` comme on l'a fait précédemment pour les associations `1-*` et `1-1` puisqu'une clé étrangère ne peut faire référence qu'à un seul enregistrement d'une table. L'idée est alors de séparer une assosiaton `*-*` en deux assocations `1-*` à l'aide d'une entité intermédiaire.\n",
    "\n",
    "Dans notre exemple, on peut modéliser l'association `note` entre les entités `FILM` et `SPECTATEUR` à l'aide d'une entité intermédiaire que l'on appelera encore `NOTE`.\n",
    "\n",
    "```{mermaid}\n",
    "erDiagram\n",
    "  FILM ||--|{ NOTE : \"est noté\"\n",
    "  SPECTATEUR ||--|{ NOTE : \"attribue\"\n",
    "```\n",
    "\n",
    "Chaque film peut être associé à plusieurs notes de même que chaque spectateur peut être associé à plusieurs notes.\n",
    "\n",
    "Plus précisément, voici le schéma relationnel entre les tables `films`, `spectateurs` et `notes`.\n",
    "\n",
    "```{mermaid}\n",
    "erDiagram\n",
    "  films ||--|{ notes : \"est noté\"\n",
    "  spectateurs ||--|{ notes : \"attribue\"\n",
    "\n",
    "  films {\n",
    "    int     id              PK\n",
    "    string  titre\n",
    "    int     annee\n",
    "    int     duree\n",
    "    int     realisateur_id  FK\n",
    "  }\n",
    "\n",
    "  spectateurs {\n",
    "    int     id              PK\n",
    "    string  nom\n",
    "  }\n",
    "\n",
    "  notes {\n",
    "    int film_id       FK\n",
    "    int spectateur_id FK\n",
    "    int note\n",
    "  }\n",
    "```"
   ]
  },
  {
   "cell_type": "code",
   "execution_count": 8,
   "id": "7c0cec3a",
   "metadata": {
    "tags": [
     "remove-output",
     "remove-input"
    ]
   },
   "outputs": [
    {
     "name": "stdout",
     "output_type": "stream",
     "text": [
      " * sqlite:///../../_databases/dummy.db\n",
      "Done.\n"
     ]
    },
    {
     "data": {
      "text/plain": [
       "3"
      ]
     },
     "metadata": {
      "scrapbook": {
       "mime_prefix": "",
       "name": "spectateur_id"
      }
     },
     "output_type": "display_data"
    },
    {
     "data": {
      "text/plain": [
       "16"
      ]
     },
     "metadata": {
      "scrapbook": {
       "mime_prefix": "",
       "name": "film_id"
      }
     },
     "output_type": "display_data"
    },
    {
     "data": {
      "text/plain": [
       "1"
      ]
     },
     "metadata": {
      "scrapbook": {
       "mime_prefix": "",
       "name": "note"
      }
     },
     "output_type": "display_data"
    }
   ],
   "source": [
    "result_notes = %sql SELECT * FROM notes ORDER BY RANDOM() LIMIT 1\n",
    "dicts = next(result_notes.dicts())\n",
    "spectateur_id = dicts['spectateur_id']\n",
    "glue(\"spectateur_id\", spectateur_id)\n",
    "film_id = dicts['film_id']\n",
    "glue(\"film_id\", film_id)\n",
    "note = dicts['note']\n",
    "glue(\"note\", note)"
   ]
  },
  {
   "cell_type": "markdown",
   "id": "d0d56105",
   "metadata": {},
   "source": [
    "Examinons un enregistrement particulier de la table `notes`."
   ]
  },
  {
   "cell_type": "code",
   "execution_count": 9,
   "id": "bd3fe305",
   "metadata": {
    "tags": [
     "remove-input"
    ]
   },
   "outputs": [
    {
     "data": {
      "text/html": [
       "<table>\n",
       "    <tr>\n",
       "        <th>film_id</th>\n",
       "        <th>spectateur_id</th>\n",
       "        <th>note</th>\n",
       "    </tr>\n",
       "    <tr>\n",
       "        <td>16</td>\n",
       "        <td>3</td>\n",
       "        <td>1</td>\n",
       "    </tr>\n",
       "</table>"
      ],
      "text/plain": [
       "[(16, 3, 1)]"
      ]
     },
     "execution_count": 9,
     "metadata": {},
     "output_type": "execute_result"
    }
   ],
   "source": [
    "result_notes"
   ]
  },
  {
   "cell_type": "markdown",
   "id": "bb05e3f0",
   "metadata": {},
   "source": [
    "Ceci signifie que la note {glue:}`note` a été attribuée au film dont l'identifiant est {glue:}`film_id` par le spectateur dont l'identifiant est {glue:}`spectateur_id`."
   ]
  },
  {
   "cell_type": "code",
   "execution_count": 10,
   "id": "99d257be",
   "metadata": {
    "tags": [
     "remove-output",
     "remove-input"
    ]
   },
   "outputs": [
    {
     "name": "stdout",
     "output_type": "stream",
     "text": [
      " * sqlite:///../../_databases/dummy.db\n",
      "Done.\n",
      " * sqlite:///../../_databases/dummy.db\n",
      "Done.\n"
     ]
    },
    {
     "data": {
      "text/plain": [
       "'Twin Peaks : Fire Walk with Me'"
      ]
     },
     "metadata": {
      "scrapbook": {
       "mime_prefix": "",
       "name": "titre_notes"
      }
     },
     "output_type": "display_data"
    },
    {
     "data": {
      "text/plain": [
       "'Roger Martin'"
      ]
     },
     "metadata": {
      "scrapbook": {
       "mime_prefix": "",
       "name": "spectateur_notes"
      }
     },
     "output_type": "display_data"
    }
   ],
   "source": [
    "film = %sql SELECT * FROM films WHERE id = :film_id\n",
    "spectateur = %sql SELECT * FROM spectateurs WHERE id = :spectateur_id\n",
    "titre_notes = next(film.dicts())['titre']\n",
    "glue(\"titre_notes\", titre_notes)\n",
    "spectateur_notes = next(spectateur.dicts())['nom']\n",
    "glue(\"spectateur_notes\", spectateur_notes)"
   ]
  },
  {
   "cell_type": "markdown",
   "id": "afb1968f",
   "metadata": {},
   "source": [
    "Regardons les enregistrements correspondants des tables `films` et `spectateurs`."
   ]
  },
  {
   "cell_type": "code",
   "execution_count": 11,
   "id": "5a5bd940",
   "metadata": {
    "tags": [
     "remove-input"
    ]
   },
   "outputs": [
    {
     "data": {
      "text/html": [
       "<table>\n",
       "    <tr>\n",
       "        <th>id</th>\n",
       "        <th>titre</th>\n",
       "        <th>annee</th>\n",
       "        <th>duree</th>\n",
       "        <th>realisateur_id</th>\n",
       "    </tr>\n",
       "    <tr>\n",
       "        <td>16</td>\n",
       "        <td>Twin Peaks : Fire Walk with Me</td>\n",
       "        <td>1992</td>\n",
       "        <td>135</td>\n",
       "        <td>7</td>\n",
       "    </tr>\n",
       "</table>"
      ],
      "text/plain": [
       "[(16, 'Twin Peaks : Fire Walk with Me', 1992, 135, 7)]"
      ]
     },
     "execution_count": 11,
     "metadata": {},
     "output_type": "execute_result"
    }
   ],
   "source": [
    "film"
   ]
  },
  {
   "cell_type": "code",
   "execution_count": 12,
   "id": "8f5a38d5",
   "metadata": {
    "tags": [
     "remove-input"
    ]
   },
   "outputs": [
    {
     "data": {
      "text/html": [
       "<table>\n",
       "    <tr>\n",
       "        <th>id</th>\n",
       "        <th>nom</th>\n",
       "    </tr>\n",
       "    <tr>\n",
       "        <td>3</td>\n",
       "        <td>Roger Martin</td>\n",
       "    </tr>\n",
       "</table>"
      ],
      "text/plain": [
       "[(3, 'Roger Martin')]"
      ]
     },
     "execution_count": 12,
     "metadata": {},
     "output_type": "execute_result"
    }
   ],
   "source": [
    "spectateur"
   ]
  },
  {
   "cell_type": "markdown",
   "id": "eb7355cd",
   "metadata": {},
   "source": [
    "Ceci signifie que le spectateur {glue:}`spectateur_notes` a attribué la note {glue:}`note` au film {glue:}`titre_notes`.\n",
    "\n",
    "## Jointures\n",
    "\n",
    "Les **jointures** permettent de retrouver de l'information sur deux ou plusieurs tables associées."
   ]
  },
  {
   "cell_type": "code",
   "execution_count": 13,
   "id": "6c60616d",
   "metadata": {
    "tags": [
     "remove-stdout",
     "output_scroll"
    ]
   },
   "outputs": [
    {
     "name": "stdout",
     "output_type": "stream",
     "text": [
      " * sqlite:///../../_databases/dummy.db\n",
      "Done.\n"
     ]
    },
    {
     "data": {
      "text/html": [
       "<table>\n",
       "    <tr>\n",
       "        <th>id</th>\n",
       "        <th>titre</th>\n",
       "        <th>annee</th>\n",
       "        <th>duree</th>\n",
       "        <th>realisateur_id</th>\n",
       "        <th>id_1</th>\n",
       "        <th>nom</th>\n",
       "        <th>pays</th>\n",
       "    </tr>\n",
       "    <tr>\n",
       "        <td>1</td>\n",
       "        <td>Beau travail</td>\n",
       "        <td>1999</td>\n",
       "        <td>92</td>\n",
       "        <td>1</td>\n",
       "        <td>1</td>\n",
       "        <td>Claire Denis</td>\n",
       "        <td>France</td>\n",
       "    </tr>\n",
       "    <tr>\n",
       "        <td>2</td>\n",
       "        <td>L&#x27;intrus</td>\n",
       "        <td>2004</td>\n",
       "        <td>130</td>\n",
       "        <td>1</td>\n",
       "        <td>1</td>\n",
       "        <td>Claire Denis</td>\n",
       "        <td>France</td>\n",
       "    </tr>\n",
       "    <tr>\n",
       "        <td>3</td>\n",
       "        <td>Trouble every day</td>\n",
       "        <td>2001</td>\n",
       "        <td>105</td>\n",
       "        <td>1</td>\n",
       "        <td>1</td>\n",
       "        <td>Claire Denis</td>\n",
       "        <td>France</td>\n",
       "    </tr>\n",
       "    <tr>\n",
       "        <td>4</td>\n",
       "        <td>La maman et la putain</td>\n",
       "        <td>1973</td>\n",
       "        <td>217</td>\n",
       "        <td>2</td>\n",
       "        <td>2</td>\n",
       "        <td>Jean Eustache</td>\n",
       "        <td>France</td>\n",
       "    </tr>\n",
       "    <tr>\n",
       "        <td>5</td>\n",
       "        <td>Mes petites amoureuses</td>\n",
       "        <td>1974</td>\n",
       "        <td>123</td>\n",
       "        <td>2</td>\n",
       "        <td>2</td>\n",
       "        <td>Jean Eustache</td>\n",
       "        <td>France</td>\n",
       "    </tr>\n",
       "    <tr>\n",
       "        <td>6</td>\n",
       "        <td>Les idiots</td>\n",
       "        <td>1998</td>\n",
       "        <td>117</td>\n",
       "        <td>3</td>\n",
       "        <td>3</td>\n",
       "        <td>Lars von Trier</td>\n",
       "        <td>Danemark</td>\n",
       "    </tr>\n",
       "    <tr>\n",
       "        <td>7</td>\n",
       "        <td>Element of crime</td>\n",
       "        <td>1984</td>\n",
       "        <td>104</td>\n",
       "        <td>3</td>\n",
       "        <td>3</td>\n",
       "        <td>Lars von Trier</td>\n",
       "        <td>Danemark</td>\n",
       "    </tr>\n",
       "    <tr>\n",
       "        <td>8</td>\n",
       "        <td>Un temps pour vivre, un temps pour mourir</td>\n",
       "        <td>1985</td>\n",
       "        <td>138</td>\n",
       "        <td>4</td>\n",
       "        <td>4</td>\n",
       "        <td>Hou Hsiao-Hsien</td>\n",
       "        <td>Taïwan</td>\n",
       "    </tr>\n",
       "    <tr>\n",
       "        <td>9</td>\n",
       "        <td>Millenium mambo</td>\n",
       "        <td>2001</td>\n",
       "        <td>119</td>\n",
       "        <td>4</td>\n",
       "        <td>4</td>\n",
       "        <td>Hou Hsiao-Hsien</td>\n",
       "        <td>Taïwan</td>\n",
       "    </tr>\n",
       "    <tr>\n",
       "        <td>10</td>\n",
       "        <td>Goodbye south, goodbye</td>\n",
       "        <td>1997</td>\n",
       "        <td>124</td>\n",
       "        <td>4</td>\n",
       "        <td>4</td>\n",
       "        <td>Hou Hsiao-Hsien</td>\n",
       "        <td>Taïwan</td>\n",
       "    </tr>\n",
       "    <tr>\n",
       "        <td>11</td>\n",
       "        <td>Contes cruels de la jeunesse</td>\n",
       "        <td>1960</td>\n",
       "        <td>96</td>\n",
       "        <td>5</td>\n",
       "        <td>5</td>\n",
       "        <td>Nagisa Oshima</td>\n",
       "        <td>Japon</td>\n",
       "    </tr>\n",
       "    <tr>\n",
       "        <td>12</td>\n",
       "        <td>Le jour de l&#x27;éclipse</td>\n",
       "        <td>1992</td>\n",
       "        <td>139</td>\n",
       "        <td>6</td>\n",
       "        <td>6</td>\n",
       "        <td>Alexandre Sokourov</td>\n",
       "        <td>Russie</td>\n",
       "    </tr>\n",
       "    <tr>\n",
       "        <td>13</td>\n",
       "        <td>Père, fils</td>\n",
       "        <td>2003</td>\n",
       "        <td>97</td>\n",
       "        <td>6</td>\n",
       "        <td>6</td>\n",
       "        <td>Alexandre Sokourov</td>\n",
       "        <td>Russie</td>\n",
       "    </tr>\n",
       "    <tr>\n",
       "        <td>14</td>\n",
       "        <td>Blue Velvet</td>\n",
       "        <td>1986</td>\n",
       "        <td>120</td>\n",
       "        <td>7</td>\n",
       "        <td>7</td>\n",
       "        <td>David Lynch</td>\n",
       "        <td>Etats-Unis</td>\n",
       "    </tr>\n",
       "    <tr>\n",
       "        <td>15</td>\n",
       "        <td>Sailor et Lula</td>\n",
       "        <td>1990</td>\n",
       "        <td>124</td>\n",
       "        <td>7</td>\n",
       "        <td>7</td>\n",
       "        <td>David Lynch</td>\n",
       "        <td>Etats-Unis</td>\n",
       "    </tr>\n",
       "    <tr>\n",
       "        <td>16</td>\n",
       "        <td>Twin Peaks : Fire Walk with Me</td>\n",
       "        <td>1992</td>\n",
       "        <td>135</td>\n",
       "        <td>7</td>\n",
       "        <td>7</td>\n",
       "        <td>David Lynch</td>\n",
       "        <td>Etats-Unis</td>\n",
       "    </tr>\n",
       "    <tr>\n",
       "        <td>17</td>\n",
       "        <td>Lost Highway</td>\n",
       "        <td>1997</td>\n",
       "        <td>135</td>\n",
       "        <td>7</td>\n",
       "        <td>7</td>\n",
       "        <td>David Lynch</td>\n",
       "        <td>Etats-Unis</td>\n",
       "    </tr>\n",
       "    <tr>\n",
       "        <td>18</td>\n",
       "        <td>Mulholland Drive</td>\n",
       "        <td>2001</td>\n",
       "        <td>146</td>\n",
       "        <td>7</td>\n",
       "        <td>7</td>\n",
       "        <td>David Lynch</td>\n",
       "        <td>Etats-Unis</td>\n",
       "    </tr>\n",
       "    <tr>\n",
       "        <td>19</td>\n",
       "        <td>Voyage au bout de l&#x27;enfer</td>\n",
       "        <td>1978</td>\n",
       "        <td>182</td>\n",
       "        <td>8</td>\n",
       "        <td>8</td>\n",
       "        <td>Michael Cimino</td>\n",
       "        <td>Etats-Unis</td>\n",
       "    </tr>\n",
       "</table>"
      ],
      "text/plain": [
       "[(1, 'Beau travail', 1999, 92, 1, 1, 'Claire Denis', 'France'),\n",
       " (2, \"L'intrus\", 2004, 130, 1, 1, 'Claire Denis', 'France'),\n",
       " (3, 'Trouble every day', 2001, 105, 1, 1, 'Claire Denis', 'France'),\n",
       " (4, 'La maman et la putain', 1973, 217, 2, 2, 'Jean Eustache', 'France'),\n",
       " (5, 'Mes petites amoureuses', 1974, 123, 2, 2, 'Jean Eustache', 'France'),\n",
       " (6, 'Les idiots', 1998, 117, 3, 3, 'Lars von Trier', 'Danemark'),\n",
       " (7, 'Element of crime', 1984, 104, 3, 3, 'Lars von Trier', 'Danemark'),\n",
       " (8, 'Un temps pour vivre, un temps pour mourir', 1985, 138, 4, 4, 'Hou Hsiao-Hsien', 'Taïwan'),\n",
       " (9, 'Millenium mambo', 2001, 119, 4, 4, 'Hou Hsiao-Hsien', 'Taïwan'),\n",
       " (10, 'Goodbye south, goodbye', 1997, 124, 4, 4, 'Hou Hsiao-Hsien', 'Taïwan'),\n",
       " (11, 'Contes cruels de la jeunesse', 1960, 96, 5, 5, 'Nagisa Oshima', 'Japon'),\n",
       " (12, \"Le jour de l'éclipse\", 1992, 139, 6, 6, 'Alexandre Sokourov', 'Russie'),\n",
       " (13, 'Père, fils', 2003, 97, 6, 6, 'Alexandre Sokourov', 'Russie'),\n",
       " (14, 'Blue Velvet', 1986, 120, 7, 7, 'David Lynch', 'Etats-Unis'),\n",
       " (15, 'Sailor et Lula', 1990, 124, 7, 7, 'David Lynch', 'Etats-Unis'),\n",
       " (16, 'Twin Peaks : Fire Walk with Me', 1992, 135, 7, 7, 'David Lynch', 'Etats-Unis'),\n",
       " (17, 'Lost Highway', 1997, 135, 7, 7, 'David Lynch', 'Etats-Unis'),\n",
       " (18, 'Mulholland Drive', 2001, 146, 7, 7, 'David Lynch', 'Etats-Unis'),\n",
       " (19, \"Voyage au bout de l'enfer\", 1978, 182, 8, 8, 'Michael Cimino', 'Etats-Unis')]"
      ]
     },
     "execution_count": 13,
     "metadata": {},
     "output_type": "execute_result"
    }
   ],
   "source": [
    "%%sql\n",
    "SELECT * FROM films JOIN realisateurs ON films.realisateur_id = realisateurs.id"
   ]
  },
  {
   "cell_type": "markdown",
   "id": "b7440f55",
   "metadata": {},
   "source": [
    "La requête précédente est en fait équivalente à la requête suivante.\n",
    "\n",
    "```sql\n",
    "SELECT * FROM films, realisateurs WHERE films.realisateur_id = realisateurs.id\n",
    "```\n",
    "\n",
    "Néanmoins la première requête est plus rapide que la seconde."
   ]
  },
  {
   "cell_type": "code",
   "execution_count": 14,
   "id": "e7a11ccb",
   "metadata": {
    "tags": [
     "remove-stdout",
     "output_scroll"
    ]
   },
   "outputs": [
    {
     "name": "stdout",
     "output_type": "stream",
     "text": [
      " * sqlite:///../../_databases/dummy.db\n",
      "Done.\n"
     ]
    },
    {
     "data": {
      "text/html": [
       "<table>\n",
       "    <tr>\n",
       "        <th>titre</th>\n",
       "        <th>nom</th>\n",
       "        <th>note</th>\n",
       "    </tr>\n",
       "    <tr>\n",
       "        <td>Beau travail</td>\n",
       "        <td>Alain Dupont</td>\n",
       "        <td>1</td>\n",
       "    </tr>\n",
       "    <tr>\n",
       "        <td>Beau travail</td>\n",
       "        <td>Annie Durand</td>\n",
       "        <td>8</td>\n",
       "    </tr>\n",
       "    <tr>\n",
       "        <td>L&#x27;intrus</td>\n",
       "        <td>Alain Dupont</td>\n",
       "        <td>2</td>\n",
       "    </tr>\n",
       "    <tr>\n",
       "        <td>L&#x27;intrus</td>\n",
       "        <td>Valérie Petit</td>\n",
       "        <td>1</td>\n",
       "    </tr>\n",
       "    <tr>\n",
       "        <td>L&#x27;intrus</td>\n",
       "        <td>Mireille Deschamps</td>\n",
       "        <td>5</td>\n",
       "    </tr>\n",
       "    <tr>\n",
       "        <td>L&#x27;intrus</td>\n",
       "        <td>Gérard Bouchard</td>\n",
       "        <td>2</td>\n",
       "    </tr>\n",
       "    <tr>\n",
       "        <td>Trouble every day</td>\n",
       "        <td>Alain Dupont</td>\n",
       "        <td>5</td>\n",
       "    </tr>\n",
       "    <tr>\n",
       "        <td>Trouble every day</td>\n",
       "        <td>Roger Martin</td>\n",
       "        <td>3</td>\n",
       "    </tr>\n",
       "    <tr>\n",
       "        <td>Trouble every day</td>\n",
       "        <td>Jean Dubois</td>\n",
       "        <td>3</td>\n",
       "    </tr>\n",
       "    <tr>\n",
       "        <td>La maman et la putain</td>\n",
       "        <td>Valérie Petit</td>\n",
       "        <td>5</td>\n",
       "    </tr>\n",
       "    <tr>\n",
       "        <td>Mes petites amoureuses</td>\n",
       "        <td>Alain Dupont</td>\n",
       "        <td>6</td>\n",
       "    </tr>\n",
       "    <tr>\n",
       "        <td>Mes petites amoureuses</td>\n",
       "        <td>Annie Durand</td>\n",
       "        <td>9</td>\n",
       "    </tr>\n",
       "    <tr>\n",
       "        <td>Mes petites amoureuses</td>\n",
       "        <td>Valérie Petit</td>\n",
       "        <td>3</td>\n",
       "    </tr>\n",
       "    <tr>\n",
       "        <td>Mes petites amoureuses</td>\n",
       "        <td>Mireille Deschamps</td>\n",
       "        <td>6</td>\n",
       "    </tr>\n",
       "    <tr>\n",
       "        <td>Mes petites amoureuses</td>\n",
       "        <td>Gérard Bouchard</td>\n",
       "        <td>5</td>\n",
       "    </tr>\n",
       "    <tr>\n",
       "        <td>Les idiots</td>\n",
       "        <td>Alain Dupont</td>\n",
       "        <td>1</td>\n",
       "    </tr>\n",
       "    <tr>\n",
       "        <td>Les idiots</td>\n",
       "        <td>Roger Martin</td>\n",
       "        <td>6</td>\n",
       "    </tr>\n",
       "    <tr>\n",
       "        <td>Element of crime</td>\n",
       "        <td>Alain Dupont</td>\n",
       "        <td>5</td>\n",
       "    </tr>\n",
       "    <tr>\n",
       "        <td>Element of crime</td>\n",
       "        <td>Annie Durand</td>\n",
       "        <td>5</td>\n",
       "    </tr>\n",
       "    <tr>\n",
       "        <td>Element of crime</td>\n",
       "        <td>Roger Martin</td>\n",
       "        <td>5</td>\n",
       "    </tr>\n",
       "    <tr>\n",
       "        <td>Element of crime</td>\n",
       "        <td>Valérie Petit</td>\n",
       "        <td>10</td>\n",
       "    </tr>\n",
       "    <tr>\n",
       "        <td>Un temps pour vivre, un temps pour mourir</td>\n",
       "        <td>Alain Dupont</td>\n",
       "        <td>8</td>\n",
       "    </tr>\n",
       "    <tr>\n",
       "        <td>Un temps pour vivre, un temps pour mourir</td>\n",
       "        <td>Roger Martin</td>\n",
       "        <td>3</td>\n",
       "    </tr>\n",
       "    <tr>\n",
       "        <td>Un temps pour vivre, un temps pour mourir</td>\n",
       "        <td>Valérie Petit</td>\n",
       "        <td>7</td>\n",
       "    </tr>\n",
       "    <tr>\n",
       "        <td>Un temps pour vivre, un temps pour mourir</td>\n",
       "        <td>Jean Dubois</td>\n",
       "        <td>10</td>\n",
       "    </tr>\n",
       "    <tr>\n",
       "        <td>Un temps pour vivre, un temps pour mourir</td>\n",
       "        <td>Mireille Deschamps</td>\n",
       "        <td>5</td>\n",
       "    </tr>\n",
       "    <tr>\n",
       "        <td>Un temps pour vivre, un temps pour mourir</td>\n",
       "        <td>Gérard Bouchard</td>\n",
       "        <td>6</td>\n",
       "    </tr>\n",
       "    <tr>\n",
       "        <td>Millenium mambo</td>\n",
       "        <td>Annie Durand</td>\n",
       "        <td>9</td>\n",
       "    </tr>\n",
       "    <tr>\n",
       "        <td>Millenium mambo</td>\n",
       "        <td>Mireille Deschamps</td>\n",
       "        <td>8</td>\n",
       "    </tr>\n",
       "    <tr>\n",
       "        <td>Millenium mambo</td>\n",
       "        <td>Gérard Bouchard</td>\n",
       "        <td>5</td>\n",
       "    </tr>\n",
       "    <tr>\n",
       "        <td>Goodbye south, goodbye</td>\n",
       "        <td>Alain Dupont</td>\n",
       "        <td>6</td>\n",
       "    </tr>\n",
       "    <tr>\n",
       "        <td>Goodbye south, goodbye</td>\n",
       "        <td>Annie Durand</td>\n",
       "        <td>10</td>\n",
       "    </tr>\n",
       "    <tr>\n",
       "        <td>Goodbye south, goodbye</td>\n",
       "        <td>Roger Martin</td>\n",
       "        <td>4</td>\n",
       "    </tr>\n",
       "    <tr>\n",
       "        <td>Goodbye south, goodbye</td>\n",
       "        <td>Valérie Petit</td>\n",
       "        <td>4</td>\n",
       "    </tr>\n",
       "    <tr>\n",
       "        <td>Goodbye south, goodbye</td>\n",
       "        <td>Gérard Bouchard</td>\n",
       "        <td>3</td>\n",
       "    </tr>\n",
       "    <tr>\n",
       "        <td>Contes cruels de la jeunesse</td>\n",
       "        <td>Alain Dupont</td>\n",
       "        <td>10</td>\n",
       "    </tr>\n",
       "    <tr>\n",
       "        <td>Contes cruels de la jeunesse</td>\n",
       "        <td>Annie Durand</td>\n",
       "        <td>7</td>\n",
       "    </tr>\n",
       "    <tr>\n",
       "        <td>Contes cruels de la jeunesse</td>\n",
       "        <td>Roger Martin</td>\n",
       "        <td>4</td>\n",
       "    </tr>\n",
       "    <tr>\n",
       "        <td>Contes cruels de la jeunesse</td>\n",
       "        <td>Valérie Petit</td>\n",
       "        <td>6</td>\n",
       "    </tr>\n",
       "    <tr>\n",
       "        <td>Contes cruels de la jeunesse</td>\n",
       "        <td>Mireille Deschamps</td>\n",
       "        <td>8</td>\n",
       "    </tr>\n",
       "    <tr>\n",
       "        <td>Le jour de l&#x27;éclipse</td>\n",
       "        <td>Alain Dupont</td>\n",
       "        <td>1</td>\n",
       "    </tr>\n",
       "    <tr>\n",
       "        <td>Le jour de l&#x27;éclipse</td>\n",
       "        <td>Roger Martin</td>\n",
       "        <td>7</td>\n",
       "    </tr>\n",
       "    <tr>\n",
       "        <td>Le jour de l&#x27;éclipse</td>\n",
       "        <td>Valérie Petit</td>\n",
       "        <td>2</td>\n",
       "    </tr>\n",
       "    <tr>\n",
       "        <td>Le jour de l&#x27;éclipse</td>\n",
       "        <td>Jean Dubois</td>\n",
       "        <td>2</td>\n",
       "    </tr>\n",
       "    <tr>\n",
       "        <td>Le jour de l&#x27;éclipse</td>\n",
       "        <td>Mireille Deschamps</td>\n",
       "        <td>4</td>\n",
       "    </tr>\n",
       "    <tr>\n",
       "        <td>Père, fils</td>\n",
       "        <td>Annie Durand</td>\n",
       "        <td>9</td>\n",
       "    </tr>\n",
       "    <tr>\n",
       "        <td>Père, fils</td>\n",
       "        <td>Jean Dubois</td>\n",
       "        <td>8</td>\n",
       "    </tr>\n",
       "    <tr>\n",
       "        <td>Père, fils</td>\n",
       "        <td>Mireille Deschamps</td>\n",
       "        <td>1</td>\n",
       "    </tr>\n",
       "    <tr>\n",
       "        <td>Blue Velvet</td>\n",
       "        <td>Alain Dupont</td>\n",
       "        <td>1</td>\n",
       "    </tr>\n",
       "    <tr>\n",
       "        <td>Blue Velvet</td>\n",
       "        <td>Annie Durand</td>\n",
       "        <td>10</td>\n",
       "    </tr>\n",
       "    <tr>\n",
       "        <td>Blue Velvet</td>\n",
       "        <td>Mireille Deschamps</td>\n",
       "        <td>2</td>\n",
       "    </tr>\n",
       "    <tr>\n",
       "        <td>Sailor et Lula</td>\n",
       "        <td>Alain Dupont</td>\n",
       "        <td>7</td>\n",
       "    </tr>\n",
       "    <tr>\n",
       "        <td>Sailor et Lula</td>\n",
       "        <td>Annie Durand</td>\n",
       "        <td>8</td>\n",
       "    </tr>\n",
       "    <tr>\n",
       "        <td>Sailor et Lula</td>\n",
       "        <td>Roger Martin</td>\n",
       "        <td>10</td>\n",
       "    </tr>\n",
       "    <tr>\n",
       "        <td>Sailor et Lula</td>\n",
       "        <td>Mireille Deschamps</td>\n",
       "        <td>8</td>\n",
       "    </tr>\n",
       "    <tr>\n",
       "        <td>Twin Peaks : Fire Walk with Me</td>\n",
       "        <td>Alain Dupont</td>\n",
       "        <td>2</td>\n",
       "    </tr>\n",
       "    <tr>\n",
       "        <td>Twin Peaks : Fire Walk with Me</td>\n",
       "        <td>Roger Martin</td>\n",
       "        <td>1</td>\n",
       "    </tr>\n",
       "    <tr>\n",
       "        <td>Twin Peaks : Fire Walk with Me</td>\n",
       "        <td>Jean Dubois</td>\n",
       "        <td>8</td>\n",
       "    </tr>\n",
       "    <tr>\n",
       "        <td>Twin Peaks : Fire Walk with Me</td>\n",
       "        <td>Gérard Bouchard</td>\n",
       "        <td>9</td>\n",
       "    </tr>\n",
       "    <tr>\n",
       "        <td>Lost Highway</td>\n",
       "        <td>Alain Dupont</td>\n",
       "        <td>7</td>\n",
       "    </tr>\n",
       "    <tr>\n",
       "        <td>Lost Highway</td>\n",
       "        <td>Annie Durand</td>\n",
       "        <td>8</td>\n",
       "    </tr>\n",
       "    <tr>\n",
       "        <td>Lost Highway</td>\n",
       "        <td>Roger Martin</td>\n",
       "        <td>1</td>\n",
       "    </tr>\n",
       "    <tr>\n",
       "        <td>Lost Highway</td>\n",
       "        <td>Valérie Petit</td>\n",
       "        <td>8</td>\n",
       "    </tr>\n",
       "    <tr>\n",
       "        <td>Lost Highway</td>\n",
       "        <td>Mireille Deschamps</td>\n",
       "        <td>2</td>\n",
       "    </tr>\n",
       "    <tr>\n",
       "        <td>Lost Highway</td>\n",
       "        <td>Gérard Bouchard</td>\n",
       "        <td>9</td>\n",
       "    </tr>\n",
       "    <tr>\n",
       "        <td>Mulholland Drive</td>\n",
       "        <td>Mireille Deschamps</td>\n",
       "        <td>2</td>\n",
       "    </tr>\n",
       "    <tr>\n",
       "        <td>Mulholland Drive</td>\n",
       "        <td>Gérard Bouchard</td>\n",
       "        <td>2</td>\n",
       "    </tr>\n",
       "    <tr>\n",
       "        <td>Voyage au bout de l&#x27;enfer</td>\n",
       "        <td>Mireille Deschamps</td>\n",
       "        <td>9</td>\n",
       "    </tr>\n",
       "</table>"
      ],
      "text/plain": [
       "[('Beau travail', 'Alain Dupont', 1),\n",
       " ('Beau travail', 'Annie Durand', 8),\n",
       " (\"L'intrus\", 'Alain Dupont', 2),\n",
       " (\"L'intrus\", 'Valérie Petit', 1),\n",
       " (\"L'intrus\", 'Mireille Deschamps', 5),\n",
       " (\"L'intrus\", 'Gérard Bouchard', 2),\n",
       " ('Trouble every day', 'Alain Dupont', 5),\n",
       " ('Trouble every day', 'Roger Martin', 3),\n",
       " ('Trouble every day', 'Jean Dubois', 3),\n",
       " ('La maman et la putain', 'Valérie Petit', 5),\n",
       " ('Mes petites amoureuses', 'Alain Dupont', 6),\n",
       " ('Mes petites amoureuses', 'Annie Durand', 9),\n",
       " ('Mes petites amoureuses', 'Valérie Petit', 3),\n",
       " ('Mes petites amoureuses', 'Mireille Deschamps', 6),\n",
       " ('Mes petites amoureuses', 'Gérard Bouchard', 5),\n",
       " ('Les idiots', 'Alain Dupont', 1),\n",
       " ('Les idiots', 'Roger Martin', 6),\n",
       " ('Element of crime', 'Alain Dupont', 5),\n",
       " ('Element of crime', 'Annie Durand', 5),\n",
       " ('Element of crime', 'Roger Martin', 5),\n",
       " ('Element of crime', 'Valérie Petit', 10),\n",
       " ('Un temps pour vivre, un temps pour mourir', 'Alain Dupont', 8),\n",
       " ('Un temps pour vivre, un temps pour mourir', 'Roger Martin', 3),\n",
       " ('Un temps pour vivre, un temps pour mourir', 'Valérie Petit', 7),\n",
       " ('Un temps pour vivre, un temps pour mourir', 'Jean Dubois', 10),\n",
       " ('Un temps pour vivre, un temps pour mourir', 'Mireille Deschamps', 5),\n",
       " ('Un temps pour vivre, un temps pour mourir', 'Gérard Bouchard', 6),\n",
       " ('Millenium mambo', 'Annie Durand', 9),\n",
       " ('Millenium mambo', 'Mireille Deschamps', 8),\n",
       " ('Millenium mambo', 'Gérard Bouchard', 5),\n",
       " ('Goodbye south, goodbye', 'Alain Dupont', 6),\n",
       " ('Goodbye south, goodbye', 'Annie Durand', 10),\n",
       " ('Goodbye south, goodbye', 'Roger Martin', 4),\n",
       " ('Goodbye south, goodbye', 'Valérie Petit', 4),\n",
       " ('Goodbye south, goodbye', 'Gérard Bouchard', 3),\n",
       " ('Contes cruels de la jeunesse', 'Alain Dupont', 10),\n",
       " ('Contes cruels de la jeunesse', 'Annie Durand', 7),\n",
       " ('Contes cruels de la jeunesse', 'Roger Martin', 4),\n",
       " ('Contes cruels de la jeunesse', 'Valérie Petit', 6),\n",
       " ('Contes cruels de la jeunesse', 'Mireille Deschamps', 8),\n",
       " (\"Le jour de l'éclipse\", 'Alain Dupont', 1),\n",
       " (\"Le jour de l'éclipse\", 'Roger Martin', 7),\n",
       " (\"Le jour de l'éclipse\", 'Valérie Petit', 2),\n",
       " (\"Le jour de l'éclipse\", 'Jean Dubois', 2),\n",
       " (\"Le jour de l'éclipse\", 'Mireille Deschamps', 4),\n",
       " ('Père, fils', 'Annie Durand', 9),\n",
       " ('Père, fils', 'Jean Dubois', 8),\n",
       " ('Père, fils', 'Mireille Deschamps', 1),\n",
       " ('Blue Velvet', 'Alain Dupont', 1),\n",
       " ('Blue Velvet', 'Annie Durand', 10),\n",
       " ('Blue Velvet', 'Mireille Deschamps', 2),\n",
       " ('Sailor et Lula', 'Alain Dupont', 7),\n",
       " ('Sailor et Lula', 'Annie Durand', 8),\n",
       " ('Sailor et Lula', 'Roger Martin', 10),\n",
       " ('Sailor et Lula', 'Mireille Deschamps', 8),\n",
       " ('Twin Peaks : Fire Walk with Me', 'Alain Dupont', 2),\n",
       " ('Twin Peaks : Fire Walk with Me', 'Roger Martin', 1),\n",
       " ('Twin Peaks : Fire Walk with Me', 'Jean Dubois', 8),\n",
       " ('Twin Peaks : Fire Walk with Me', 'Gérard Bouchard', 9),\n",
       " ('Lost Highway', 'Alain Dupont', 7),\n",
       " ('Lost Highway', 'Annie Durand', 8),\n",
       " ('Lost Highway', 'Roger Martin', 1),\n",
       " ('Lost Highway', 'Valérie Petit', 8),\n",
       " ('Lost Highway', 'Mireille Deschamps', 2),\n",
       " ('Lost Highway', 'Gérard Bouchard', 9),\n",
       " ('Mulholland Drive', 'Mireille Deschamps', 2),\n",
       " ('Mulholland Drive', 'Gérard Bouchard', 2),\n",
       " (\"Voyage au bout de l'enfer\", 'Mireille Deschamps', 9)]"
      ]
     },
     "execution_count": 14,
     "metadata": {},
     "output_type": "execute_result"
    }
   ],
   "source": [
    "%%sql\n",
    "SELECT titre, nom, note FROM films JOIN notes JOIN spectateurs\n",
    "ON films.id = notes.film_id AND spectateurs.id = notes.spectateur_id"
   ]
  },
  {
   "cell_type": "code",
   "execution_count": 15,
   "id": "6eef22ba",
   "metadata": {
    "tags": [
     "remove-stdout",
     "output_scroll"
    ]
   },
   "outputs": [
    {
     "name": "stdout",
     "output_type": "stream",
     "text": [
      " * sqlite:///../../_databases/dummy.db\n",
      "Done.\n"
     ]
    },
    {
     "data": {
      "text/html": [
       "<table>\n",
       "    <tr>\n",
       "        <th>nom</th>\n",
       "        <th>date_naissance</th>\n",
       "        <th>ville</th>\n",
       "    </tr>\n",
       "    <tr>\n",
       "        <td>Alain Dupont</td>\n",
       "        <td>1972</td>\n",
       "        <td>Melun</td>\n",
       "    </tr>\n",
       "    <tr>\n",
       "        <td>Annie Durand</td>\n",
       "        <td>1985</td>\n",
       "        <td>Troyes</td>\n",
       "    </tr>\n",
       "    <tr>\n",
       "        <td>Roger Martin</td>\n",
       "        <td>2005</td>\n",
       "        <td>Avignon</td>\n",
       "    </tr>\n",
       "    <tr>\n",
       "        <td>Valérie Petit</td>\n",
       "        <td>1972</td>\n",
       "        <td>Brest</td>\n",
       "    </tr>\n",
       "    <tr>\n",
       "        <td>Jean Dubois</td>\n",
       "        <td>1993</td>\n",
       "        <td>Avignon</td>\n",
       "    </tr>\n",
       "    <tr>\n",
       "        <td>Mireille Deschamps</td>\n",
       "        <td>1985</td>\n",
       "        <td>Paris</td>\n",
       "    </tr>\n",
       "    <tr>\n",
       "        <td>Gérard Bouchard</td>\n",
       "        <td>1992</td>\n",
       "        <td>Toulon</td>\n",
       "    </tr>\n",
       "</table>"
      ],
      "text/plain": [
       "[('Alain Dupont', 1972, 'Melun'),\n",
       " ('Annie Durand', 1985, 'Troyes'),\n",
       " ('Roger Martin', 2005, 'Avignon'),\n",
       " ('Valérie Petit', 1972, 'Brest'),\n",
       " ('Jean Dubois', 1993, 'Avignon'),\n",
       " ('Mireille Deschamps', 1985, 'Paris'),\n",
       " ('Gérard Bouchard', 1992, 'Toulon')]"
      ]
     },
     "execution_count": 15,
     "metadata": {},
     "output_type": "execute_result"
    }
   ],
   "source": [
    "%%sql\n",
    "SELECT nom, date_naissance, ville FROM spectateurs JOIN spectateurs_renseignements\n",
    "ON spectateurs.id = spectateurs_renseignements.spectateur_id"
   ]
  }
 ],
 "metadata": {
  "jupytext": {
   "cell_metadata_filter": "-all",
   "formats": "md:myst",
   "text_representation": {
    "extension": ".md",
    "format_name": "myst",
    "format_version": 0.13,
    "jupytext_version": "1.11.5"
   }
  },
  "kernelspec": {
   "display_name": "Python 3",
   "language": "python",
   "name": "python3"
  },
  "language_info": {
   "codemirror_mode": {
    "name": "ipython",
    "version": 3
   },
   "file_extension": ".py",
   "mimetype": "text/x-python",
   "name": "python",
   "nbconvert_exporter": "python",
   "pygments_lexer": "ipython3",
   "version": "3.10.4"
  },
  "source_map": [
   14,
   18,
   22,
   133,
   148,
   152,
   155,
   159,
   162,
   196,
   202,
   208,
   221,
   282,
   292,
   296,
   299,
   303,
   311,
   315,
   320,
   323,
   331,
   335,
   345,
   352
  ]
 },
 "nbformat": 4,
 "nbformat_minor": 5
}