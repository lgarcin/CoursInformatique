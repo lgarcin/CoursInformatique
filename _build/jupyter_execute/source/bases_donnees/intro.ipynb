{
 "cells": [
  {
   "cell_type": "markdown",
   "id": "0d0c7617",
   "metadata": {},
   "source": [
    "# Bases de données\n",
    "\n",
    "Une base de données est un moyen d'organiser des données afin de retrouver efficacement de l'information. Supposons par exemple que je sois gérant d'un supermarché. Je peux par exemple souhaiter disposer des informations suivantes :\n",
    "\n",
    "* le nombre d'articles achetés au rayon bricoloage pendant l'été ;\n",
    "* la dépense moyenne des clients ;\n",
    "* la recette du supermarché pendant l'année précédente.\n",
    "\n",
    "Nous ne nous intéresserons pas à la conception ni à la construction des bases de données mais seulement à la façon dont on peut y récupérer de l'information."
   ]
  }
 ],
 "metadata": {
  "jupytext": {
   "cell_metadata_filter": "-all",
   "formats": "md:myst",
   "text_representation": {
    "extension": ".md",
    "format_name": "myst",
    "format_version": 0.13,
    "jupytext_version": "1.11.5"
   }
  },
  "kernelspec": {
   "display_name": "Python 3",
   "language": "python",
   "name": "python3"
  },
  "language_info": {
   "codemirror_mode": {
    "name": "ipython",
    "version": 3
   },
   "file_extension": ".py",
   "mimetype": "text/x-python",
   "name": "python",
   "nbconvert_exporter": "python",
   "pygments_lexer": "ipython3",
   "version": "3.10.4"
  },
  "source_map": [
   14
  ]
 },
 "nbformat": 4,
 "nbformat_minor": 5
}