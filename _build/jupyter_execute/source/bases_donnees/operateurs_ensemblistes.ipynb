{
 "cells": [
  {
   "cell_type": "markdown",
   "id": "462c5f63",
   "metadata": {},
   "source": [
    "# Opérateurs ensemblistes"
   ]
  },
  {
   "cell_type": "code",
   "execution_count": 1,
   "id": "01f89804",
   "metadata": {
    "tags": [
     "remove-stdout",
     "remove-input"
    ]
   },
   "outputs": [],
   "source": [
    "%load_ext sql\n",
    "%sql sqlite://"
   ]
  },
  {
   "cell_type": "code",
   "execution_count": 2,
   "id": "66c50d25",
   "metadata": {
    "tags": [
     "remove-stdout",
     "remove-input",
     "remove-output"
    ]
   },
   "outputs": [
    {
     "name": "stdout",
     "output_type": "stream",
     "text": [
      " * sqlite://\n",
      "Done.\n",
      "Done.\n",
      "Done.\n",
      "Done.\n",
      "3 rows affected.\n",
      "2 rows affected.\n"
     ]
    },
    {
     "data": {
      "text/plain": [
       "[]"
      ]
     },
     "execution_count": 2,
     "metadata": {},
     "output_type": "execute_result"
    }
   ],
   "source": [
    "%%sql\n",
    "DROP TABLE IF EXISTS t1;\n",
    "DROP TABLE IF EXISTS t2;\n",
    "CREATE TABLE t1 (col_a varchar(10), col_b int);\n",
    "CREATE TABLE t2 (col_c varchar(10), col_d int);\n",
    "INSERT INTO t1 VALUES\n",
    "(\"abc\", 1),\n",
    "(\"def\", 2),\n",
    "(\"ghi\", 3);\n",
    "INSERT INTO t2 VALUES\n",
    "(\"abc\", 3),\n",
    "(\"def\", 2);"
   ]
  },
  {
   "cell_type": "markdown",
   "id": "264327b9",
   "metadata": {},
   "source": [
    "Dans cette section, on considère les deux tables `t1` et `t2` suivantes."
   ]
  },
  {
   "cell_type": "code",
   "execution_count": 3,
   "id": "86c8388c",
   "metadata": {
    "tags": [
     "remove-stdout"
    ]
   },
   "outputs": [
    {
     "name": "stdout",
     "output_type": "stream",
     "text": [
      " * sqlite://\n",
      "Done.\n"
     ]
    },
    {
     "data": {
      "text/html": [
       "<table>\n",
       "    <tr>\n",
       "        <th>col_a</th>\n",
       "        <th>col_b</th>\n",
       "    </tr>\n",
       "    <tr>\n",
       "        <td>abc</td>\n",
       "        <td>1</td>\n",
       "    </tr>\n",
       "    <tr>\n",
       "        <td>def</td>\n",
       "        <td>2</td>\n",
       "    </tr>\n",
       "    <tr>\n",
       "        <td>ghi</td>\n",
       "        <td>3</td>\n",
       "    </tr>\n",
       "</table>"
      ],
      "text/plain": [
       "[('abc', 1), ('def', 2), ('ghi', 3)]"
      ]
     },
     "execution_count": 3,
     "metadata": {},
     "output_type": "execute_result"
    }
   ],
   "source": [
    "%%sql\n",
    "SELECT * FROM t1"
   ]
  },
  {
   "cell_type": "code",
   "execution_count": 4,
   "id": "a7d681fd",
   "metadata": {
    "tags": [
     "remove-stdout"
    ]
   },
   "outputs": [
    {
     "name": "stdout",
     "output_type": "stream",
     "text": [
      " * sqlite://\n",
      "Done.\n"
     ]
    },
    {
     "data": {
      "text/html": [
       "<table>\n",
       "    <tr>\n",
       "        <th>col_c</th>\n",
       "        <th>col_d</th>\n",
       "    </tr>\n",
       "    <tr>\n",
       "        <td>abc</td>\n",
       "        <td>3</td>\n",
       "    </tr>\n",
       "    <tr>\n",
       "        <td>def</td>\n",
       "        <td>2</td>\n",
       "    </tr>\n",
       "</table>"
      ],
      "text/plain": [
       "[('abc', 3), ('def', 2)]"
      ]
     },
     "execution_count": 4,
     "metadata": {},
     "output_type": "execute_result"
    }
   ],
   "source": [
    "%%sql\n",
    "SELECT * FROM t2"
   ]
  },
  {
   "cell_type": "markdown",
   "id": "e20cc10c",
   "metadata": {},
   "source": [
    "## Union, intersection, différence\n",
    "\n",
    "Comme son nom l'indique l'opérateur ensembliste `UNION` permet de créer la **réunion** de deux tables. Plus précisément, cet opérateur crée une table dont les lignes figurent dans l'une des deux tables."
   ]
  },
  {
   "cell_type": "code",
   "execution_count": 5,
   "id": "78d228bc",
   "metadata": {
    "tags": [
     "remove-stdout"
    ]
   },
   "outputs": [
    {
     "name": "stdout",
     "output_type": "stream",
     "text": [
      " * sqlite://\n",
      "Done.\n"
     ]
    },
    {
     "data": {
      "text/html": [
       "<table>\n",
       "    <tr>\n",
       "        <th>col_a</th>\n",
       "        <th>col_b</th>\n",
       "    </tr>\n",
       "    <tr>\n",
       "        <td>abc</td>\n",
       "        <td>1</td>\n",
       "    </tr>\n",
       "    <tr>\n",
       "        <td>abc</td>\n",
       "        <td>3</td>\n",
       "    </tr>\n",
       "    <tr>\n",
       "        <td>def</td>\n",
       "        <td>2</td>\n",
       "    </tr>\n",
       "    <tr>\n",
       "        <td>ghi</td>\n",
       "        <td>3</td>\n",
       "    </tr>\n",
       "</table>"
      ],
      "text/plain": [
       "[('abc', 1), ('abc', 3), ('def', 2), ('ghi', 3)]"
      ]
     },
     "execution_count": 5,
     "metadata": {},
     "output_type": "execute_result"
    }
   ],
   "source": [
    "%%sql\n",
    "SELECT * FROM t1\n",
    "UNION\n",
    "SELECT * FROM t2"
   ]
  },
  {
   "cell_type": "markdown",
   "id": "939c2fee",
   "metadata": {},
   "source": [
    "___\n",
    "\n",
    "L'opérateur `INTERSECT` permet de créer l'**intersection** de deux tables, c'est-à-dire la table dont les lignes figurent dans les deux tables à la fois."
   ]
  },
  {
   "cell_type": "code",
   "execution_count": 6,
   "id": "915ca1f4",
   "metadata": {
    "tags": [
     "remove-stdout"
    ]
   },
   "outputs": [
    {
     "name": "stdout",
     "output_type": "stream",
     "text": [
      " * sqlite://\n",
      "Done.\n"
     ]
    },
    {
     "data": {
      "text/html": [
       "<table>\n",
       "    <tr>\n",
       "        <th>col_a</th>\n",
       "        <th>col_b</th>\n",
       "    </tr>\n",
       "    <tr>\n",
       "        <td>def</td>\n",
       "        <td>2</td>\n",
       "    </tr>\n",
       "</table>"
      ],
      "text/plain": [
       "[('def', 2)]"
      ]
     },
     "execution_count": 6,
     "metadata": {},
     "output_type": "execute_result"
    }
   ],
   "source": [
    "%%sql\n",
    "SELECT * FROM t1\n",
    "INTERSECT\n",
    "SELECT * FROM t2"
   ]
  },
  {
   "cell_type": "markdown",
   "id": "f35c99fd",
   "metadata": {},
   "source": [
    "___\n",
    "\n",
    "Enfin, l'opérateur `EXCEPT` crée la différence de deux tables, c'est-à-dire la table dont les lignes figurent dans la première table mais pas dans la seconde."
   ]
  },
  {
   "cell_type": "code",
   "execution_count": 7,
   "id": "bf6c40f2",
   "metadata": {
    "tags": [
     "remove-stdout"
    ]
   },
   "outputs": [
    {
     "name": "stdout",
     "output_type": "stream",
     "text": [
      " * sqlite://\n",
      "Done.\n"
     ]
    },
    {
     "data": {
      "text/html": [
       "<table>\n",
       "    <tr>\n",
       "        <th>col_a</th>\n",
       "        <th>col_b</th>\n",
       "    </tr>\n",
       "    <tr>\n",
       "        <td>abc</td>\n",
       "        <td>1</td>\n",
       "    </tr>\n",
       "    <tr>\n",
       "        <td>ghi</td>\n",
       "        <td>3</td>\n",
       "    </tr>\n",
       "</table>"
      ],
      "text/plain": [
       "[('abc', 1), ('ghi', 3)]"
      ]
     },
     "execution_count": 7,
     "metadata": {},
     "output_type": "execute_result"
    }
   ],
   "source": [
    "%%sql\n",
    "SELECT * FROM t1\n",
    "EXCEPT\n",
    "SELECT * FROM t2"
   ]
  },
  {
   "cell_type": "markdown",
   "id": "9ee38b11",
   "metadata": {},
   "source": [
    "___\n",
    "\n",
    "```{note}\n",
    "A chaque fois, les noms des colonnes de la table résultante sont les noms de la **première** table.\n",
    "```\n",
    "\n",
    "```{warning}\n",
    "Le nombre de colonnes des deux tables intervenant dans une union, une intersection ou une différence doit être le même.\n",
    "```"
   ]
  },
  {
   "cell_type": "code",
   "execution_count": 8,
   "id": "6b23a36e",
   "metadata": {},
   "outputs": [
    {
     "name": "stdout",
     "output_type": "stream",
     "text": [
      " * sqlite://\n",
      "(sqlite3.OperationalError) SELECTs to the left and right of UNION do not have the same number of result columns\n",
      "[SQL: SELECT col_a FROM t1\n",
      "UNION\n",
      "SELECT col_c, col_d FROM t2]\n",
      "(Background on this error at: https://sqlalche.me/e/14/e3q8)\n"
     ]
    }
   ],
   "source": [
    "%%sql\n",
    "SELECT col_a FROM t1\n",
    "UNION\n",
    "SELECT col_c, col_d FROM t2"
   ]
  },
  {
   "cell_type": "markdown",
   "id": "8befa73e",
   "metadata": {},
   "source": [
    "## Produit cartésien\n",
    "\n",
    "On peut effectuer le produit cartésien de deux tables (ou plus) à l'aide de la commande suivante."
   ]
  },
  {
   "cell_type": "code",
   "execution_count": 9,
   "id": "5abf427c",
   "metadata": {
    "tags": [
     "remove-stdout"
    ]
   },
   "outputs": [
    {
     "name": "stdout",
     "output_type": "stream",
     "text": [
      " * sqlite://\n",
      "Done.\n"
     ]
    },
    {
     "data": {
      "text/html": [
       "<table>\n",
       "    <tr>\n",
       "        <th>col_a</th>\n",
       "        <th>col_b</th>\n",
       "        <th>col_c</th>\n",
       "        <th>col_d</th>\n",
       "    </tr>\n",
       "    <tr>\n",
       "        <td>abc</td>\n",
       "        <td>1</td>\n",
       "        <td>abc</td>\n",
       "        <td>3</td>\n",
       "    </tr>\n",
       "    <tr>\n",
       "        <td>abc</td>\n",
       "        <td>1</td>\n",
       "        <td>def</td>\n",
       "        <td>2</td>\n",
       "    </tr>\n",
       "    <tr>\n",
       "        <td>def</td>\n",
       "        <td>2</td>\n",
       "        <td>abc</td>\n",
       "        <td>3</td>\n",
       "    </tr>\n",
       "    <tr>\n",
       "        <td>def</td>\n",
       "        <td>2</td>\n",
       "        <td>def</td>\n",
       "        <td>2</td>\n",
       "    </tr>\n",
       "    <tr>\n",
       "        <td>ghi</td>\n",
       "        <td>3</td>\n",
       "        <td>abc</td>\n",
       "        <td>3</td>\n",
       "    </tr>\n",
       "    <tr>\n",
       "        <td>ghi</td>\n",
       "        <td>3</td>\n",
       "        <td>def</td>\n",
       "        <td>2</td>\n",
       "    </tr>\n",
       "</table>"
      ],
      "text/plain": [
       "[('abc', 1, 'abc', 3),\n",
       " ('abc', 1, 'def', 2),\n",
       " ('def', 2, 'abc', 3),\n",
       " ('def', 2, 'def', 2),\n",
       " ('ghi', 3, 'abc', 3),\n",
       " ('ghi', 3, 'def', 2)]"
      ]
     },
     "execution_count": 9,
     "metadata": {},
     "output_type": "execute_result"
    }
   ],
   "source": [
    "%%sql\n",
    "SELECT * FROM t1, t2"
   ]
  },
  {
   "cell_type": "markdown",
   "id": "43102cf8",
   "metadata": {},
   "source": [
    "Les lignes de la table résultante sont formées des lignes de la première table appariées à chacune des lignes de la seconde table.\n",
    "\n",
    "On peut sélectionner uniquement certaines colonnes de chacune des deux tables comme le montre l'example suivant."
   ]
  },
  {
   "cell_type": "code",
   "execution_count": 10,
   "id": "ac1812fc",
   "metadata": {
    "tags": [
     "remove-stdout"
    ]
   },
   "outputs": [
    {
     "name": "stdout",
     "output_type": "stream",
     "text": [
      " * sqlite://\n",
      "Done.\n"
     ]
    },
    {
     "data": {
      "text/html": [
       "<table>\n",
       "    <tr>\n",
       "        <th>col_a</th>\n",
       "        <th>col_d</th>\n",
       "    </tr>\n",
       "    <tr>\n",
       "        <td>abc</td>\n",
       "        <td>3</td>\n",
       "    </tr>\n",
       "    <tr>\n",
       "        <td>abc</td>\n",
       "        <td>2</td>\n",
       "    </tr>\n",
       "    <tr>\n",
       "        <td>def</td>\n",
       "        <td>3</td>\n",
       "    </tr>\n",
       "    <tr>\n",
       "        <td>def</td>\n",
       "        <td>2</td>\n",
       "    </tr>\n",
       "    <tr>\n",
       "        <td>ghi</td>\n",
       "        <td>3</td>\n",
       "    </tr>\n",
       "    <tr>\n",
       "        <td>ghi</td>\n",
       "        <td>2</td>\n",
       "    </tr>\n",
       "</table>"
      ],
      "text/plain": [
       "[('abc', 3), ('abc', 2), ('def', 3), ('def', 2), ('ghi', 3), ('ghi', 2)]"
      ]
     },
     "execution_count": 10,
     "metadata": {},
     "output_type": "execute_result"
    }
   ],
   "source": [
    "%%sql\n",
    "SELECT col_a, col_d FROM t1, t2"
   ]
  },
  {
   "cell_type": "markdown",
   "id": "a1e9b86e",
   "metadata": {},
   "source": [
    "<!-- TODO Introduire la syntaxe table.nom en cas d'ambiguïté -->"
   ]
  }
 ],
 "metadata": {
  "jupytext": {
   "cell_metadata_filter": "-all",
   "formats": "md:myst",
   "text_representation": {
    "extension": ".md",
    "format_name": "myst",
    "format_version": 0.13,
    "jupytext_version": "1.11.5"
   }
  },
  "kernelspec": {
   "display_name": "Python 3",
   "language": "python",
   "name": "python3"
  },
  "language_info": {
   "codemirror_mode": {
    "name": "ipython",
    "version": 3
   },
   "file_extension": ".py",
   "mimetype": "text/x-python",
   "name": "python",
   "nbconvert_exporter": "python",
   "pygments_lexer": "ipython3",
   "version": "3.10.4"
  },
  "source_map": [
   14,
   18,
   24,
   38,
   42,
   48,
   52,
   58,
   64,
   70,
   76,
   82,
   88,
   100,
   105,
   111,
   115,
   121,
   125
  ]
 },
 "nbformat": 4,
 "nbformat_minor": 5
}