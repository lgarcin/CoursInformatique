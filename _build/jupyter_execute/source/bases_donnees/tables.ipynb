{
 "cells": [
  {
   "cell_type": "markdown",
   "id": "0e9a69ae",
   "metadata": {},
   "source": [
    "# Tables"
   ]
  },
  {
   "cell_type": "code",
   "execution_count": 1,
   "id": "7515abea",
   "metadata": {
    "tags": [
     "remove-stdout",
     "remove-input"
    ]
   },
   "outputs": [],
   "source": [
    "%load_ext sql\n",
    "%sql sqlite:///../../_databases/dummy.db"
   ]
  },
  {
   "cell_type": "markdown",
   "id": "f0b47a60",
   "metadata": {},
   "source": [
    "On ne traitera que d'un certain type de bases de données appelées bases de données **relationnelles**. Les données y sont stockées sous formes de **tables** (ou **relations**) pouvant avoir des liens entre elles.\n",
    "\n",
    "Dans ce qui suit, on dispose d'une base de données de films. Voici par exemple la table `films` de cette base de données."
   ]
  },
  {
   "cell_type": "code",
   "execution_count": 2,
   "id": "5b98b0c3",
   "metadata": {
    "tags": [
     "remove-stdout",
     "remove-input",
     "output_scroll"
    ]
   },
   "outputs": [
    {
     "name": "stdout",
     "output_type": "stream",
     "text": [
      " * sqlite:///../../_databases/dummy.db\n",
      "Done.\n"
     ]
    },
    {
     "data": {
      "text/html": [
       "<table>\n",
       "    <tr>\n",
       "        <th>id</th>\n",
       "        <th>titre</th>\n",
       "        <th>annee</th>\n",
       "        <th>duree</th>\n",
       "        <th>realisateur_id</th>\n",
       "    </tr>\n",
       "    <tr>\n",
       "        <td>1</td>\n",
       "        <td>Beau travail</td>\n",
       "        <td>1999</td>\n",
       "        <td>92</td>\n",
       "        <td>1</td>\n",
       "    </tr>\n",
       "    <tr>\n",
       "        <td>2</td>\n",
       "        <td>L&#x27;intrus</td>\n",
       "        <td>2004</td>\n",
       "        <td>130</td>\n",
       "        <td>1</td>\n",
       "    </tr>\n",
       "    <tr>\n",
       "        <td>3</td>\n",
       "        <td>Trouble every day</td>\n",
       "        <td>2001</td>\n",
       "        <td>105</td>\n",
       "        <td>1</td>\n",
       "    </tr>\n",
       "    <tr>\n",
       "        <td>4</td>\n",
       "        <td>La maman et la putain</td>\n",
       "        <td>1973</td>\n",
       "        <td>217</td>\n",
       "        <td>2</td>\n",
       "    </tr>\n",
       "    <tr>\n",
       "        <td>5</td>\n",
       "        <td>Mes petites amoureuses</td>\n",
       "        <td>1974</td>\n",
       "        <td>123</td>\n",
       "        <td>2</td>\n",
       "    </tr>\n",
       "    <tr>\n",
       "        <td>6</td>\n",
       "        <td>Les idiots</td>\n",
       "        <td>1998</td>\n",
       "        <td>117</td>\n",
       "        <td>3</td>\n",
       "    </tr>\n",
       "    <tr>\n",
       "        <td>7</td>\n",
       "        <td>Element of crime</td>\n",
       "        <td>1984</td>\n",
       "        <td>104</td>\n",
       "        <td>3</td>\n",
       "    </tr>\n",
       "    <tr>\n",
       "        <td>8</td>\n",
       "        <td>Un temps pour vivre, un temps pour mourir</td>\n",
       "        <td>1985</td>\n",
       "        <td>138</td>\n",
       "        <td>4</td>\n",
       "    </tr>\n",
       "    <tr>\n",
       "        <td>9</td>\n",
       "        <td>Millenium mambo</td>\n",
       "        <td>2001</td>\n",
       "        <td>119</td>\n",
       "        <td>4</td>\n",
       "    </tr>\n",
       "    <tr>\n",
       "        <td>10</td>\n",
       "        <td>Goodbye south, goodbye</td>\n",
       "        <td>1997</td>\n",
       "        <td>124</td>\n",
       "        <td>4</td>\n",
       "    </tr>\n",
       "    <tr>\n",
       "        <td>11</td>\n",
       "        <td>Contes cruels de la jeunesse</td>\n",
       "        <td>1960</td>\n",
       "        <td>96</td>\n",
       "        <td>5</td>\n",
       "    </tr>\n",
       "    <tr>\n",
       "        <td>12</td>\n",
       "        <td>Le jour de l&#x27;éclipse</td>\n",
       "        <td>1992</td>\n",
       "        <td>139</td>\n",
       "        <td>6</td>\n",
       "    </tr>\n",
       "    <tr>\n",
       "        <td>13</td>\n",
       "        <td>Père, fils</td>\n",
       "        <td>2003</td>\n",
       "        <td>97</td>\n",
       "        <td>6</td>\n",
       "    </tr>\n",
       "    <tr>\n",
       "        <td>14</td>\n",
       "        <td>Blue Velvet</td>\n",
       "        <td>1986</td>\n",
       "        <td>120</td>\n",
       "        <td>7</td>\n",
       "    </tr>\n",
       "    <tr>\n",
       "        <td>15</td>\n",
       "        <td>Sailor et Lula</td>\n",
       "        <td>1990</td>\n",
       "        <td>124</td>\n",
       "        <td>7</td>\n",
       "    </tr>\n",
       "    <tr>\n",
       "        <td>16</td>\n",
       "        <td>Twin Peaks : Fire Walk with Me</td>\n",
       "        <td>1992</td>\n",
       "        <td>135</td>\n",
       "        <td>7</td>\n",
       "    </tr>\n",
       "    <tr>\n",
       "        <td>17</td>\n",
       "        <td>Lost Highway</td>\n",
       "        <td>1997</td>\n",
       "        <td>135</td>\n",
       "        <td>7</td>\n",
       "    </tr>\n",
       "    <tr>\n",
       "        <td>18</td>\n",
       "        <td>Mulholland Drive</td>\n",
       "        <td>2001</td>\n",
       "        <td>146</td>\n",
       "        <td>7</td>\n",
       "    </tr>\n",
       "    <tr>\n",
       "        <td>19</td>\n",
       "        <td>Voyage au bout de l&#x27;enfer</td>\n",
       "        <td>1978</td>\n",
       "        <td>182</td>\n",
       "        <td>8</td>\n",
       "    </tr>\n",
       "</table>"
      ],
      "text/plain": [
       "[(1, 'Beau travail', 1999, 92, 1),\n",
       " (2, \"L'intrus\", 2004, 130, 1),\n",
       " (3, 'Trouble every day', 2001, 105, 1),\n",
       " (4, 'La maman et la putain', 1973, 217, 2),\n",
       " (5, 'Mes petites amoureuses', 1974, 123, 2),\n",
       " (6, 'Les idiots', 1998, 117, 3),\n",
       " (7, 'Element of crime', 1984, 104, 3),\n",
       " (8, 'Un temps pour vivre, un temps pour mourir', 1985, 138, 4),\n",
       " (9, 'Millenium mambo', 2001, 119, 4),\n",
       " (10, 'Goodbye south, goodbye', 1997, 124, 4),\n",
       " (11, 'Contes cruels de la jeunesse', 1960, 96, 5),\n",
       " (12, \"Le jour de l'éclipse\", 1992, 139, 6),\n",
       " (13, 'Père, fils', 2003, 97, 6),\n",
       " (14, 'Blue Velvet', 1986, 120, 7),\n",
       " (15, 'Sailor et Lula', 1990, 124, 7),\n",
       " (16, 'Twin Peaks : Fire Walk with Me', 1992, 135, 7),\n",
       " (17, 'Lost Highway', 1997, 135, 7),\n",
       " (18, 'Mulholland Drive', 2001, 146, 7),\n",
       " (19, \"Voyage au bout de l'enfer\", 1978, 182, 8)]"
      ]
     },
     "execution_count": 2,
     "metadata": {},
     "output_type": "execute_result"
    }
   ],
   "source": [
    "%%sql\n",
    "SELECT * FROM films"
   ]
  },
  {
   "cell_type": "markdown",
   "id": "24439ec7",
   "metadata": {},
   "source": [
    "Cette table comporte cinq **colonnes** (ou **attributs**) : `id`, `titre`, `annee`, `duree` et `realisateur_id`. Chaque **ligne** est aussi appelé un **enregistrement**. On a volontairement limité l'affichage aux cinq premiers enregistrements.\n",
    "\n",
    "```{note}\n",
    "La première colonne `id` est un **identifiant** permettant d'identifier chaque ligne de manière unique. La dernière colonne est un également un identifiant faisant référence à une autre table.\n",
    "<!-- TODO Mettre un lien vers la section concernée. -->\n",
    "```\n",
    "\n",
    "Voilà également la table `realisateurs` de cette base de données."
   ]
  },
  {
   "cell_type": "code",
   "execution_count": 3,
   "id": "089674af",
   "metadata": {
    "tags": [
     "remove-stdout",
     "remove-input",
     "output_scroll"
    ]
   },
   "outputs": [
    {
     "name": "stdout",
     "output_type": "stream",
     "text": [
      " * sqlite:///../../_databases/dummy.db\n",
      "Done.\n"
     ]
    },
    {
     "data": {
      "text/html": [
       "<table>\n",
       "    <tr>\n",
       "        <th>id</th>\n",
       "        <th>nom</th>\n",
       "        <th>pays</th>\n",
       "    </tr>\n",
       "    <tr>\n",
       "        <td>1</td>\n",
       "        <td>Claire Denis</td>\n",
       "        <td>France</td>\n",
       "    </tr>\n",
       "    <tr>\n",
       "        <td>2</td>\n",
       "        <td>Jean Eustache</td>\n",
       "        <td>France</td>\n",
       "    </tr>\n",
       "    <tr>\n",
       "        <td>3</td>\n",
       "        <td>Lars von Trier</td>\n",
       "        <td>Danemark</td>\n",
       "    </tr>\n",
       "    <tr>\n",
       "        <td>4</td>\n",
       "        <td>Hou Hsiao-Hsien</td>\n",
       "        <td>Taïwan</td>\n",
       "    </tr>\n",
       "    <tr>\n",
       "        <td>5</td>\n",
       "        <td>Nagisa Oshima</td>\n",
       "        <td>Japon</td>\n",
       "    </tr>\n",
       "    <tr>\n",
       "        <td>6</td>\n",
       "        <td>Alexandre Sokourov</td>\n",
       "        <td>Russie</td>\n",
       "    </tr>\n",
       "    <tr>\n",
       "        <td>7</td>\n",
       "        <td>David Lynch</td>\n",
       "        <td>Etats-Unis</td>\n",
       "    </tr>\n",
       "    <tr>\n",
       "        <td>8</td>\n",
       "        <td>Michael Cimino</td>\n",
       "        <td>Etats-Unis</td>\n",
       "    </tr>\n",
       "</table>"
      ],
      "text/plain": [
       "[(1, 'Claire Denis', 'France'),\n",
       " (2, 'Jean Eustache', 'France'),\n",
       " (3, 'Lars von Trier', 'Danemark'),\n",
       " (4, 'Hou Hsiao-Hsien', 'Taïwan'),\n",
       " (5, 'Nagisa Oshima', 'Japon'),\n",
       " (6, 'Alexandre Sokourov', 'Russie'),\n",
       " (7, 'David Lynch', 'Etats-Unis'),\n",
       " (8, 'Michael Cimino', 'Etats-Unis')]"
      ]
     },
     "execution_count": 3,
     "metadata": {},
     "output_type": "execute_result"
    }
   ],
   "source": [
    "%%sql\n",
    "SELECT * FROM realisateurs"
   ]
  },
  {
   "cell_type": "markdown",
   "id": "c97a9898",
   "metadata": {},
   "source": [
    "On appelle **domaine** d'un attribut l'ensemble des valeurs prises par cet attribut.\n",
    "\n",
    "<!-- TODO Trouver un exemple -->\n",
    "\n",
    "Chaque attribut d'une table possède un **type**. Par exemple, la colonne `titre` de la table `films` est du type *chaîne de caractères* tandis que la colonne `annee` de la table `films` est du type *entier*.\n",
    "\n",
    "On condense les informations sur les tables à l'aide d'un **schéma de tables** faisant apparaître chaque table avec ses attributs et leurs types.\n",
    "\n",
    "```{mermaid}\n",
    "erDiagram\n",
    "  films {\n",
    "    int     id\n",
    "    string  titre\n",
    "    int     annee\n",
    "    int     duree\n",
    "    int     realisateur_id\n",
    "  }\n",
    "\n",
    "  realisateurs {\n",
    "    int     id\n",
    "    string  nom\n",
    "    string  pays\n",
    "  }\n",
    "```"
   ]
  }
 ],
 "metadata": {
  "jupytext": {
   "cell_metadata_filter": "-all",
   "formats": "md:myst",
   "text_representation": {
    "extension": ".md",
    "format_name": "myst",
    "format_version": 0.13,
    "jupytext_version": "1.11.5"
   }
  },
  "kernelspec": {
   "display_name": "Python 3",
   "language": "python",
   "name": "python3"
  },
  "language_info": {
   "codemirror_mode": {
    "name": "ipython",
    "version": 3
   },
   "file_extension": ".py",
   "mimetype": "text/x-python",
   "name": "python",
   "nbconvert_exporter": "python",
   "pygments_lexer": "ipython3",
   "version": "3.10.4"
  },
  "source_map": [
   14,
   18,
   22,
   28,
   32,
   43,
   47
  ]
 },
 "nbformat": 4,
 "nbformat_minor": 5
}