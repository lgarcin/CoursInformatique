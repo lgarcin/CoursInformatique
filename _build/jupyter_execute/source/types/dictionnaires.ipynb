{
 "cells": [
  {
   "cell_type": "markdown",
   "id": "39b4b608",
   "metadata": {},
   "source": [
    "# Dictionnaires\n",
    "\n",
    "## Création de dictionnaires et opérations de base\n",
    "\n",
    "Dans le langage courant, un dictionnaire associe à chaque mot d'une langue une définition. En informatique, un **dictionnaire** est une structure de données associant une **valeur** à chaque élément, appelé **clé**, d'un ensemble donné. Du point de vue des mathématiques, un dictionnaire est tout simplement une **application**.\n",
    "\n",
    "En Python, on déclare un dictionnaire à l'aide d'accolades `{...}`. Par exemple, le dictionnaire suivant associe :\n",
    "\n",
    "* à la clé `'nom'` la valeur `'Toto'`;\n",
    "* à la clé `'age'` la valeur `10`;\n",
    "* à la clé `'taille'` la valeur `135`;"
   ]
  },
  {
   "cell_type": "code",
   "execution_count": 1,
   "id": "fcbefa2a",
   "metadata": {},
   "outputs": [
    {
     "data": {
      "text/plain": [
       "dict"
      ]
     },
     "execution_count": 1,
     "metadata": {},
     "output_type": "execute_result"
    }
   ],
   "source": [
    "personne = {'nom': 'Toto', 'age': 10, 'taille': 135}\n",
    "type(personne)"
   ]
  },
  {
   "cell_type": "markdown",
   "id": "c8018905",
   "metadata": {},
   "source": [
    "Chaque clé est unique."
   ]
  },
  {
   "cell_type": "code",
   "execution_count": 2,
   "id": "d65cb5cc",
   "metadata": {},
   "outputs": [
    {
     "data": {
      "text/plain": [
       "{'nom': 'Toto', 'age': 10, 'taille': 140}"
      ]
     },
     "execution_count": 2,
     "metadata": {},
     "output_type": "execute_result"
    }
   ],
   "source": [
    "{'nom': 'Toto', 'age': 10, 'taille': 135, 'taille': 140}"
   ]
  },
  {
   "cell_type": "markdown",
   "id": "efea88bb",
   "metadata": {},
   "source": [
    "La fonction `len` renvoie la \"taille\" du dictionnaire, autrement dit son nombre de clés."
   ]
  },
  {
   "cell_type": "code",
   "execution_count": 3,
   "id": "44fa5a6f",
   "metadata": {},
   "outputs": [
    {
     "data": {
      "text/plain": [
       "({'nom': 'Toto', 'age': 10, 'taille': 135}, 3)"
      ]
     },
     "execution_count": 3,
     "metadata": {},
     "output_type": "execute_result"
    }
   ],
   "source": [
    "personne, len(personne)"
   ]
  },
  {
   "cell_type": "markdown",
   "id": "0f26c72c",
   "metadata": {},
   "source": [
    "## Accès aux éléments en lecture\n",
    "\n",
    "On peut alors accéder à la valeur associée à une clé à l'aide de l'opérateur `[...]` ou de la méthode `get`."
   ]
  },
  {
   "cell_type": "code",
   "execution_count": 4,
   "id": "e3384ce2",
   "metadata": {},
   "outputs": [
    {
     "data": {
      "text/plain": [
       "('Toto', 10)"
      ]
     },
     "execution_count": 4,
     "metadata": {},
     "output_type": "execute_result"
    }
   ],
   "source": [
    "personne['nom'], personne.get('age')"
   ]
  },
  {
   "cell_type": "markdown",
   "id": "71b1b716",
   "metadata": {},
   "source": [
    "```{note}\n",
    "Les clés ne sont pas nécessairement des chaînes de caractères. N'importe quel type immutable fait l'affaire.\n",
    "```"
   ]
  },
  {
   "cell_type": "code",
   "execution_count": 5,
   "id": "653e7251",
   "metadata": {},
   "outputs": [],
   "source": [
    "d = {'a': 123, 456: 'def', (1,2): 'fgh'}"
   ]
  },
  {
   "cell_type": "code",
   "execution_count": 6,
   "id": "df7021fe",
   "metadata": {},
   "outputs": [
    {
     "data": {
      "text/plain": [
       "(123, 'fgh', 'def')"
      ]
     },
     "execution_count": 6,
     "metadata": {},
     "output_type": "execute_result"
    }
   ],
   "source": [
    "d['a'], d[(1,2)], d.get(456)"
   ]
  },
  {
   "cell_type": "markdown",
   "id": "f508ccb0",
   "metadata": {},
   "source": [
    "On peut accéder à la liste des clés et à la liste des valeurs d'un dictionnaire à l'aide des méthodes `keys` et `values` respectivement."
   ]
  },
  {
   "cell_type": "code",
   "execution_count": 7,
   "id": "e1d7abd5",
   "metadata": {},
   "outputs": [
    {
     "data": {
      "text/plain": [
       "(dict_keys(['a', 456, (1, 2)]), dict_values([123, 'def', 'fgh']))"
      ]
     },
     "execution_count": 7,
     "metadata": {},
     "output_type": "execute_result"
    }
   ],
   "source": [
    "d.keys(), d.values()"
   ]
  },
  {
   "cell_type": "markdown",
   "id": "9a8c8550",
   "metadata": {},
   "source": [
    "L'accès à une clé invalide déclenche une erreur."
   ]
  },
  {
   "cell_type": "code",
   "execution_count": 8,
   "id": "d78e881c",
   "metadata": {},
   "outputs": [
    {
     "ename": "KeyError",
     "evalue": "'amstramgram'",
     "output_type": "error",
     "traceback": [
      "\u001b[1;31m---------------------------------------------------------------------------\u001b[0m",
      "\u001b[1;31mKeyError\u001b[0m                                  Traceback (most recent call last)",
      "Input \u001b[1;32mIn [8]\u001b[0m, in \u001b[0;36m<cell line: 1>\u001b[1;34m()\u001b[0m\n\u001b[1;32m----> 1\u001b[0m \u001b[43md\u001b[49m\u001b[43m[\u001b[49m\u001b[38;5;124;43m'\u001b[39;49m\u001b[38;5;124;43mamstramgram\u001b[39;49m\u001b[38;5;124;43m'\u001b[39;49m\u001b[43m]\u001b[49m, d\u001b[38;5;241m.\u001b[39mget(\u001b[38;5;241m42\u001b[39m)\n",
      "\u001b[1;31mKeyError\u001b[0m: 'amstramgram'"
     ]
    }
   ],
   "source": [
    "d['amstramgram'], d.get(42)"
   ]
  },
  {
   "cell_type": "markdown",
   "id": "bb283666",
   "metadata": {},
   "source": [
    "## Accès aux éléments en écriture\n",
    "\n",
    "L'opérateur `[...]` permet également d'insérer ou de modifier les éléments d'un dictionnaire."
   ]
  },
  {
   "cell_type": "code",
   "execution_count": 9,
   "id": "54b0b512",
   "metadata": {},
   "outputs": [
    {
     "data": {
      "text/plain": [
       "{'nom': 'Toto', 'age': 10, 'taille': 135}"
      ]
     },
     "execution_count": 9,
     "metadata": {},
     "output_type": "execute_result"
    }
   ],
   "source": [
    "personne"
   ]
  },
  {
   "cell_type": "code",
   "execution_count": 10,
   "id": "395eac51",
   "metadata": {},
   "outputs": [
    {
     "data": {
      "text/plain": [
       "{'nom': 'Toto', 'age': 10, 'taille': 135, 'poids': 40}"
      ]
     },
     "execution_count": 10,
     "metadata": {},
     "output_type": "execute_result"
    }
   ],
   "source": [
    "personne['poids'] = 40\n",
    "personne"
   ]
  },
  {
   "cell_type": "code",
   "execution_count": 11,
   "id": "1c214d58",
   "metadata": {},
   "outputs": [
    {
     "data": {
      "text/plain": [
       "{'nom': 'Titi', 'age': 10, 'taille': 135, 'poids': 40}"
      ]
     },
     "execution_count": 11,
     "metadata": {},
     "output_type": "execute_result"
    }
   ],
   "source": [
    "personne['nom'] = 'Titi'\n",
    "personne"
   ]
  }
 ],
 "metadata": {
  "jupytext": {
   "cell_metadata_filter": "-all",
   "formats": "md:myst",
   "text_representation": {
    "extension": ".md",
    "format_name": "myst",
    "format_version": 0.13,
    "jupytext_version": "1.11.5"
   }
  },
  "kernelspec": {
   "display_name": "Python 3",
   "language": "python",
   "name": "python3"
  },
  "language_info": {
   "codemirror_mode": {
    "name": "ipython",
    "version": 3
   },
   "file_extension": ".py",
   "mimetype": "text/x-python",
   "name": "python",
   "nbconvert_exporter": "python",
   "pygments_lexer": "ipython3",
   "version": "3.10.4"
  },
  "source_map": [
   14,
   28,
   31,
   35,
   37,
   41,
   43,
   49,
   51,
   57,
   61,
   63,
   67,
   69,
   73,
   75,
   81,
   85,
   90
  ]
 },
 "nbformat": 4,
 "nbformat_minor": 5
}