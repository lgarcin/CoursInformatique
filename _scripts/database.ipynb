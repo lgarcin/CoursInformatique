{
 "cells": [
  {
   "cell_type": "code",
   "execution_count": 5,
   "id": "94cc6550",
   "metadata": {},
   "outputs": [
    {
     "name": "stdout",
     "output_type": "stream",
     "text": [
      "The sql extension is already loaded. To reload it, use:\n",
      "  %reload_ext sql\n"
     ]
    }
   ],
   "source": [
    "%load_ext sql"
   ]
  },
  {
   "cell_type": "code",
   "execution_count": 9,
   "id": "6bfe542a",
   "metadata": {},
   "outputs": [],
   "source": [
    "%sql sqlite:///../_databases/dummy.db"
   ]
  },
  {
   "cell_type": "code",
   "execution_count": 7,
   "id": "cd5b9954",
   "metadata": {},
   "outputs": [
    {
     "name": "stderr",
     "output_type": "stream",
     "text": [
      "UsageError: Line magic function `%schema` not found.\n"
     ]
    }
   ],
   "source": [
    "%schema --connection_string sqlite:///../_databases/dummy.db"
   ]
  },
  {
   "cell_type": "code",
   "execution_count": 11,
   "id": "f4226408",
   "metadata": {},
   "outputs": [
    {
     "name": "stdout",
     "output_type": "stream",
     "text": [
      " * sqlite:///../_databases/dummy.db\n",
      "Done.\n"
     ]
    },
    {
     "data": {
      "text/html": [
       "<table>\n",
       "    <thead>\n",
       "        <tr>\n",
       "            <th>titre</th>\n",
       "            <th>annee</th>\n",
       "        </tr>\n",
       "    </thead>\n",
       "    <tbody>\n",
       "    </tbody>\n",
       "</table>"
      ],
      "text/plain": [
       "[]"
      ]
     },
     "execution_count": 11,
     "metadata": {},
     "output_type": "execute_result"
    }
   ],
   "source": [
    "%%sql\n",
    "SELECT titre, annee FROM films\n",
    "INTERSECT\n",
    "SELECT ville, date_naissance FROM spectateurs_renseignements"
   ]
  },
  {
   "cell_type": "code",
   "execution_count": 8,
   "id": "2c1a08fc",
   "metadata": {},
   "outputs": [],
   "source": [
    "%sql sqlite://\n"
   ]
  },
  {
   "cell_type": "code",
   "execution_count": 9,
   "id": "a65100fa",
   "metadata": {},
   "outputs": [
    {
     "name": "stdout",
     "output_type": "stream",
     "text": [
      " * sqlite:///../_databases/dummy.db\n",
      "Done.\n",
      "Done.\n",
      "Done.\n",
      "Done.\n"
     ]
    },
    {
     "data": {
      "text/plain": [
       "[]"
      ]
     },
     "execution_count": 9,
     "metadata": {},
     "output_type": "execute_result"
    }
   ],
   "source": [
    "%%sql\n",
    "DROP TABLE IF EXISTS t1;\n",
    "DROP TABLE IF EXISTS t2;\n",
    "CREATE TABLE t1 (a varchar(10), b int);\n",
    "CREATE TABLE t2 (c varchar(10), d int);\n"
   ]
  },
  {
   "cell_type": "code",
   "execution_count": 10,
   "id": "e6e38c2f",
   "metadata": {},
   "outputs": [
    {
     "name": "stdout",
     "output_type": "stream",
     "text": [
      " * sqlite:///../_databases/dummy.db\n",
      "2 rows affected.\n"
     ]
    },
    {
     "data": {
      "text/plain": [
       "[]"
      ]
     },
     "execution_count": 10,
     "metadata": {},
     "output_type": "execute_result"
    }
   ],
   "source": [
    "%%sql\n",
    "INSERT INTO t1(a,b)VALUES\n",
    "(\"abc\", 1),\n",
    "(\"def\", 2);\n"
   ]
  },
  {
   "cell_type": "code",
   "execution_count": 11,
   "id": "65d8d175",
   "metadata": {},
   "outputs": [
    {
     "name": "stdout",
     "output_type": "stream",
     "text": [
      " * sqlite:///../_databases/dummy.db\n",
      "2 rows affected.\n"
     ]
    },
    {
     "data": {
      "text/plain": [
       "[]"
      ]
     },
     "execution_count": 11,
     "metadata": {},
     "output_type": "execute_result"
    }
   ],
   "source": [
    "%%sql\n",
    "INSERT INTO t2(c,d)VALUES\n",
    "(\"abc\", 3),\n",
    "(\"def\", 2);"
   ]
  },
  {
   "cell_type": "code",
   "execution_count": 12,
   "id": "105cf6eb",
   "metadata": {},
   "outputs": [
    {
     "name": "stdout",
     "output_type": "stream",
     "text": [
      " * sqlite:///../_databases/dummy.db\n",
      "Done.\n"
     ]
    },
    {
     "data": {
      "text/html": [
       "<table>\n",
       "    <thead>\n",
       "        <tr>\n",
       "            <th>a</th>\n",
       "            <th>b</th>\n",
       "        </tr>\n",
       "    </thead>\n",
       "    <tbody>\n",
       "        <tr>\n",
       "            <td>def</td>\n",
       "            <td>2</td>\n",
       "        </tr>\n",
       "    </tbody>\n",
       "</table>"
      ],
      "text/plain": [
       "[('def', 2)]"
      ]
     },
     "execution_count": 12,
     "metadata": {},
     "output_type": "execute_result"
    }
   ],
   "source": [
    "%%sql\n",
    "SELECT * FROM t1\n",
    "INTERSECT\n",
    "SELECT * FROM t2"
   ]
  },
  {
   "cell_type": "code",
   "execution_count": 13,
   "id": "60a667f1",
   "metadata": {},
   "outputs": [
    {
     "name": "stdout",
     "output_type": "stream",
     "text": [
      " * sqlite:///../_databases/dummy.db\n",
      "Done.\n",
      "Done.\n",
      "5 rows affected.\n"
     ]
    },
    {
     "data": {
      "text/plain": [
       "[]"
      ]
     },
     "execution_count": 13,
     "metadata": {},
     "output_type": "execute_result"
    }
   ],
   "source": [
    "%%sql\n",
    "DROP TABLE IF EXISTS t;\n",
    "CREATE TABLE t (col_a varchar(10), col_b int);\n",
    "INSERT INTO t VALUES\n",
    "(\"a\", NULL),\n",
    "(\"b\", 2),\n",
    "(\"c\", 3),\n",
    "(NULL, 3),\n",
    "(NULL, 3);"
   ]
  },
  {
   "cell_type": "code",
   "execution_count": 14,
   "id": "a8cf2f7c",
   "metadata": {},
   "outputs": [
    {
     "name": "stdout",
     "output_type": "stream",
     "text": [
      " * sqlite:///../_databases/dummy.db\n",
      "Done.\n"
     ]
    },
    {
     "data": {
      "text/html": [
       "<table>\n",
       "    <thead>\n",
       "        <tr>\n",
       "            <th>COUNT(*)</th>\n",
       "        </tr>\n",
       "    </thead>\n",
       "    <tbody>\n",
       "        <tr>\n",
       "            <td>5</td>\n",
       "        </tr>\n",
       "    </tbody>\n",
       "</table>"
      ],
      "text/plain": [
       "[(5,)]"
      ]
     },
     "execution_count": 14,
     "metadata": {},
     "output_type": "execute_result"
    }
   ],
   "source": [
    "%%sql\n",
    "SELECT COUNT(*) FROM t\n"
   ]
  },
  {
   "cell_type": "code",
   "execution_count": 15,
   "id": "89c3468e",
   "metadata": {},
   "outputs": [
    {
     "name": "stdout",
     "output_type": "stream",
     "text": [
      " * sqlite:///../_databases/dummy.db\n",
      "Done.\n"
     ]
    },
    {
     "data": {
      "text/html": [
       "<table>\n",
       "    <thead>\n",
       "        <tr>\n",
       "            <th>COUNT(col_a)</th>\n",
       "        </tr>\n",
       "    </thead>\n",
       "    <tbody>\n",
       "        <tr>\n",
       "            <td>3</td>\n",
       "        </tr>\n",
       "    </tbody>\n",
       "</table>"
      ],
      "text/plain": [
       "[(3,)]"
      ]
     },
     "execution_count": 15,
     "metadata": {},
     "output_type": "execute_result"
    }
   ],
   "source": [
    "%%sql\n",
    "SELECT COUNT(col_a) FROM t\n"
   ]
  },
  {
   "cell_type": "code",
   "execution_count": 16,
   "id": "9b81c3dc",
   "metadata": {},
   "outputs": [
    {
     "name": "stdout",
     "output_type": "stream",
     "text": [
      " * sqlite:///../_databases/dummy.db\n",
      "Done.\n"
     ]
    },
    {
     "data": {
      "text/html": [
       "<table>\n",
       "    <thead>\n",
       "        <tr>\n",
       "            <th>COUNT(col_b)</th>\n",
       "        </tr>\n",
       "    </thead>\n",
       "    <tbody>\n",
       "        <tr>\n",
       "            <td>4</td>\n",
       "        </tr>\n",
       "    </tbody>\n",
       "</table>"
      ],
      "text/plain": [
       "[(4,)]"
      ]
     },
     "execution_count": 16,
     "metadata": {},
     "output_type": "execute_result"
    }
   ],
   "source": [
    "%%sql\n",
    "SELECT COUNT(col_b) FROM t\n"
   ]
  },
  {
   "cell_type": "code",
   "execution_count": 17,
   "id": "369ca7fd",
   "metadata": {},
   "outputs": [
    {
     "name": "stdout",
     "output_type": "stream",
     "text": [
      " * sqlite:///../_databases/dummy.db\n",
      "Done.\n"
     ]
    },
    {
     "data": {
      "text/html": [
       "<table>\n",
       "    <thead>\n",
       "        <tr>\n",
       "            <th>id</th>\n",
       "            <th>titre</th>\n",
       "            <th>annee</th>\n",
       "            <th>duree</th>\n",
       "            <th>realisateur_id</th>\n",
       "        </tr>\n",
       "    </thead>\n",
       "    <tbody>\n",
       "        <tr>\n",
       "            <td>1</td>\n",
       "            <td>Beau travail</td>\n",
       "            <td>1999</td>\n",
       "            <td>92</td>\n",
       "            <td>1</td>\n",
       "        </tr>\n",
       "        <tr>\n",
       "            <td>2</td>\n",
       "            <td>L&#x27;intrus</td>\n",
       "            <td>2004</td>\n",
       "            <td>130</td>\n",
       "            <td>1</td>\n",
       "        </tr>\n",
       "        <tr>\n",
       "            <td>3</td>\n",
       "            <td>Trouble every day</td>\n",
       "            <td>2001</td>\n",
       "            <td>105</td>\n",
       "            <td>1</td>\n",
       "        </tr>\n",
       "        <tr>\n",
       "            <td>4</td>\n",
       "            <td>La maman et la putain</td>\n",
       "            <td>1973</td>\n",
       "            <td>217</td>\n",
       "            <td>2</td>\n",
       "        </tr>\n",
       "        <tr>\n",
       "            <td>5</td>\n",
       "            <td>Mes petites amoureuses</td>\n",
       "            <td>1974</td>\n",
       "            <td>123</td>\n",
       "            <td>2</td>\n",
       "        </tr>\n",
       "        <tr>\n",
       "            <td>6</td>\n",
       "            <td>Les idiots</td>\n",
       "            <td>1998</td>\n",
       "            <td>117</td>\n",
       "            <td>3</td>\n",
       "        </tr>\n",
       "        <tr>\n",
       "            <td>7</td>\n",
       "            <td>Element of crime</td>\n",
       "            <td>1984</td>\n",
       "            <td>104</td>\n",
       "            <td>3</td>\n",
       "        </tr>\n",
       "        <tr>\n",
       "            <td>8</td>\n",
       "            <td>Un temps pour vivre, un temps pour mourir</td>\n",
       "            <td>1985</td>\n",
       "            <td>138</td>\n",
       "            <td>4</td>\n",
       "        </tr>\n",
       "        <tr>\n",
       "            <td>9</td>\n",
       "            <td>Millenium mambo</td>\n",
       "            <td>2001</td>\n",
       "            <td>119</td>\n",
       "            <td>4</td>\n",
       "        </tr>\n",
       "        <tr>\n",
       "            <td>10</td>\n",
       "            <td>Goodbye south, goodbye</td>\n",
       "            <td>1997</td>\n",
       "            <td>124</td>\n",
       "            <td>4</td>\n",
       "        </tr>\n",
       "        <tr>\n",
       "            <td>11</td>\n",
       "            <td>Contes cruels de la jeunesse</td>\n",
       "            <td>1960</td>\n",
       "            <td>96</td>\n",
       "            <td>5</td>\n",
       "        </tr>\n",
       "        <tr>\n",
       "            <td>12</td>\n",
       "            <td>Le jour de l&#x27;éclipse</td>\n",
       "            <td>1992</td>\n",
       "            <td>139</td>\n",
       "            <td>6</td>\n",
       "        </tr>\n",
       "        <tr>\n",
       "            <td>13</td>\n",
       "            <td>Père, fils</td>\n",
       "            <td>2003</td>\n",
       "            <td>97</td>\n",
       "            <td>6</td>\n",
       "        </tr>\n",
       "        <tr>\n",
       "            <td>14</td>\n",
       "            <td>Blue Velvet</td>\n",
       "            <td>1986</td>\n",
       "            <td>120</td>\n",
       "            <td>7</td>\n",
       "        </tr>\n",
       "        <tr>\n",
       "            <td>15</td>\n",
       "            <td>Sailor et Lula</td>\n",
       "            <td>1990</td>\n",
       "            <td>124</td>\n",
       "            <td>7</td>\n",
       "        </tr>\n",
       "        <tr>\n",
       "            <td>16</td>\n",
       "            <td>Twin Peaks : Fire Walk with Me</td>\n",
       "            <td>1992</td>\n",
       "            <td>135</td>\n",
       "            <td>7</td>\n",
       "        </tr>\n",
       "        <tr>\n",
       "            <td>17</td>\n",
       "            <td>Lost Highway</td>\n",
       "            <td>1997</td>\n",
       "            <td>135</td>\n",
       "            <td>7</td>\n",
       "        </tr>\n",
       "        <tr>\n",
       "            <td>18</td>\n",
       "            <td>Mulholland Drive</td>\n",
       "            <td>2001</td>\n",
       "            <td>146</td>\n",
       "            <td>7</td>\n",
       "        </tr>\n",
       "        <tr>\n",
       "            <td>19</td>\n",
       "            <td>Voyage au bout de l&#x27;enfer</td>\n",
       "            <td>1978</td>\n",
       "            <td>182</td>\n",
       "            <td>8</td>\n",
       "        </tr>\n",
       "    </tbody>\n",
       "</table>"
      ],
      "text/plain": [
       "[(1, 'Beau travail', 1999, 92, 1),\n",
       " (2, \"L'intrus\", 2004, 130, 1),\n",
       " (3, 'Trouble every day', 2001, 105, 1),\n",
       " (4, 'La maman et la putain', 1973, 217, 2),\n",
       " (5, 'Mes petites amoureuses', 1974, 123, 2),\n",
       " (6, 'Les idiots', 1998, 117, 3),\n",
       " (7, 'Element of crime', 1984, 104, 3),\n",
       " (8, 'Un temps pour vivre, un temps pour mourir', 1985, 138, 4),\n",
       " (9, 'Millenium mambo', 2001, 119, 4),\n",
       " (10, 'Goodbye south, goodbye', 1997, 124, 4),\n",
       " (11, 'Contes cruels de la jeunesse', 1960, 96, 5),\n",
       " (12, \"Le jour de l'éclipse\", 1992, 139, 6),\n",
       " (13, 'Père, fils', 2003, 97, 6),\n",
       " (14, 'Blue Velvet', 1986, 120, 7),\n",
       " (15, 'Sailor et Lula', 1990, 124, 7),\n",
       " (16, 'Twin Peaks : Fire Walk with Me', 1992, 135, 7),\n",
       " (17, 'Lost Highway', 1997, 135, 7),\n",
       " (18, 'Mulholland Drive', 2001, 146, 7),\n",
       " (19, \"Voyage au bout de l'enfer\", 1978, 182, 8)]"
      ]
     },
     "execution_count": 17,
     "metadata": {},
     "output_type": "execute_result"
    }
   ],
   "source": [
    "%%sql\n",
    "SELECT * FROM films AS f"
   ]
  },
  {
   "cell_type": "code",
   "execution_count": 18,
   "id": "5b231a82",
   "metadata": {},
   "outputs": [
    {
     "name": "stdout",
     "output_type": "stream",
     "text": [
      " * sqlite:///../_databases/dummy.db\n",
      "Done.\n",
      "Done.\n",
      "5 rows affected.\n"
     ]
    },
    {
     "data": {
      "text/plain": [
       "[]"
      ]
     },
     "execution_count": 18,
     "metadata": {},
     "output_type": "execute_result"
    }
   ],
   "source": [
    "%%sql\n",
    "DROP TABLE IF EXISTS employes;\n",
    "\n",
    "CREATE TABLE employes (\n",
    "  id INT PRIMARY KEY,\n",
    "  nom VARCHAR(50),\n",
    "  responsable_id INT\n",
    ");\n",
    "\n",
    "INSERT INTO employes (id, nom, responsable_id) VALUES \n",
    "  (1, 'Alice', 2),\n",
    "  (2, 'Bertrand', 3),\n",
    "  (3, 'Charles', NULL),\n",
    "  (4, 'David', 2),\n",
    "  (5, 'Eve', 3);\n"
   ]
  },
  {
   "cell_type": "code",
   "execution_count": 19,
   "id": "5a8cc513",
   "metadata": {},
   "outputs": [
    {
     "name": "stdout",
     "output_type": "stream",
     "text": [
      " * sqlite:///../_databases/dummy.db\n",
      "Done.\n"
     ]
    },
    {
     "data": {
      "text/html": [
       "<table>\n",
       "    <thead>\n",
       "        <tr>\n",
       "            <th>nom_employe</th>\n",
       "            <th>nom_responsable</th>\n",
       "        </tr>\n",
       "    </thead>\n",
       "    <tbody>\n",
       "        <tr>\n",
       "            <td>Alice</td>\n",
       "            <td>Bertrand</td>\n",
       "        </tr>\n",
       "        <tr>\n",
       "            <td>Bertrand</td>\n",
       "            <td>Charles</td>\n",
       "        </tr>\n",
       "        <tr>\n",
       "            <td>David</td>\n",
       "            <td>Bertrand</td>\n",
       "        </tr>\n",
       "        <tr>\n",
       "            <td>Eve</td>\n",
       "            <td>Charles</td>\n",
       "        </tr>\n",
       "    </tbody>\n",
       "</table>"
      ],
      "text/plain": [
       "[('Alice', 'Bertrand'),\n",
       " ('Bertrand', 'Charles'),\n",
       " ('David', 'Bertrand'),\n",
       " ('Eve', 'Charles')]"
      ]
     },
     "execution_count": 19,
     "metadata": {},
     "output_type": "execute_result"
    }
   ],
   "source": [
    "%%sql\n",
    "SELECT e.nom AS nom_employe, r.nom AS nom_responsable\n",
    "FROM employes AS e\n",
    "JOIN employes AS r\n",
    "ON e.responsable_id = r.id\n"
   ]
  },
  {
   "cell_type": "code",
   "execution_count": 20,
   "id": "bb06c041",
   "metadata": {},
   "outputs": [
    {
     "name": "stdout",
     "output_type": "stream",
     "text": [
      " * sqlite:///../_databases/dummy.db\n",
      "(sqlite3.OperationalError) no such column: realisateur_id\n",
      "[SQL: SELECT COUNT(realisateur_id) FROM realisateurs GROUP BY pays]\n",
      "(Background on this error at: https://sqlalche.me/e/20/e3q8)\n"
     ]
    }
   ],
   "source": [
    "%%sql\n",
    "SELECT COUNT(realisateur_id) FROM realisateurs GROUP BY pays\n"
   ]
  },
  {
   "cell_type": "code",
   "execution_count": 21,
   "id": "c94f885d",
   "metadata": {},
   "outputs": [
    {
     "name": "stdout",
     "output_type": "stream",
     "text": [
      " * sqlite:///../_databases/dummy.db\n",
      "Done.\n"
     ]
    },
    {
     "data": {
      "text/html": [
       "<table>\n",
       "    <thead>\n",
       "        <tr>\n",
       "            <th>id</th>\n",
       "            <th>nom</th>\n",
       "            <th>pays</th>\n",
       "        </tr>\n",
       "    </thead>\n",
       "    <tbody>\n",
       "        <tr>\n",
       "            <td>1</td>\n",
       "            <td>Claire Denis</td>\n",
       "            <td>France</td>\n",
       "        </tr>\n",
       "        <tr>\n",
       "            <td>2</td>\n",
       "            <td>Jean Eustache</td>\n",
       "            <td>France</td>\n",
       "        </tr>\n",
       "        <tr>\n",
       "            <td>3</td>\n",
       "            <td>Lars von Trier</td>\n",
       "            <td>Danemark</td>\n",
       "        </tr>\n",
       "        <tr>\n",
       "            <td>4</td>\n",
       "            <td>Hou Hsiao-Hsien</td>\n",
       "            <td>Taïwan</td>\n",
       "        </tr>\n",
       "        <tr>\n",
       "            <td>5</td>\n",
       "            <td>Nagisa Oshima</td>\n",
       "            <td>Japon</td>\n",
       "        </tr>\n",
       "        <tr>\n",
       "            <td>6</td>\n",
       "            <td>Alexandre Sokourov</td>\n",
       "            <td>Russie</td>\n",
       "        </tr>\n",
       "        <tr>\n",
       "            <td>7</td>\n",
       "            <td>David Lynch</td>\n",
       "            <td>Etats-Unis</td>\n",
       "        </tr>\n",
       "        <tr>\n",
       "            <td>8</td>\n",
       "            <td>Michael Cimino</td>\n",
       "            <td>Etats-Unis</td>\n",
       "        </tr>\n",
       "    </tbody>\n",
       "</table>"
      ],
      "text/plain": [
       "[(1, 'Claire Denis', 'France'),\n",
       " (2, 'Jean Eustache', 'France'),\n",
       " (3, 'Lars von Trier', 'Danemark'),\n",
       " (4, 'Hou Hsiao-Hsien', 'Taïwan'),\n",
       " (5, 'Nagisa Oshima', 'Japon'),\n",
       " (6, 'Alexandre Sokourov', 'Russie'),\n",
       " (7, 'David Lynch', 'Etats-Unis'),\n",
       " (8, 'Michael Cimino', 'Etats-Unis')]"
      ]
     },
     "execution_count": 21,
     "metadata": {},
     "output_type": "execute_result"
    }
   ],
   "source": [
    "%%sql\n",
    "SELECT * FROM realisateurs"
   ]
  },
  {
   "cell_type": "code",
   "execution_count": 22,
   "id": "706f983d",
   "metadata": {},
   "outputs": [
    {
     "name": "stdout",
     "output_type": "stream",
     "text": [
      " * sqlite:///../_databases/dummy.db\n",
      "Done.\n"
     ]
    },
    {
     "data": {
      "text/html": [
       "<table>\n",
       "    <thead>\n",
       "        <tr>\n",
       "            <th>pays</th>\n",
       "            <th>nb_realisateurs</th>\n",
       "        </tr>\n",
       "    </thead>\n",
       "    <tbody>\n",
       "        <tr>\n",
       "            <td>Danemark</td>\n",
       "            <td>1</td>\n",
       "        </tr>\n",
       "        <tr>\n",
       "            <td>Etats-Unis</td>\n",
       "            <td>2</td>\n",
       "        </tr>\n",
       "        <tr>\n",
       "            <td>France</td>\n",
       "            <td>2</td>\n",
       "        </tr>\n",
       "        <tr>\n",
       "            <td>Japon</td>\n",
       "            <td>1</td>\n",
       "        </tr>\n",
       "        <tr>\n",
       "            <td>Russie</td>\n",
       "            <td>1</td>\n",
       "        </tr>\n",
       "        <tr>\n",
       "            <td>Taïwan</td>\n",
       "            <td>1</td>\n",
       "        </tr>\n",
       "    </tbody>\n",
       "</table>"
      ],
      "text/plain": [
       "[('Danemark', 1),\n",
       " ('Etats-Unis', 2),\n",
       " ('France', 2),\n",
       " ('Japon', 1),\n",
       " ('Russie', 1),\n",
       " ('Taïwan', 1)]"
      ]
     },
     "execution_count": 22,
     "metadata": {},
     "output_type": "execute_result"
    }
   ],
   "source": [
    "%%sql\n",
    "SELECT pays, COUNT(id) AS nb_realisateurs FROM realisateurs GROUP BY pays\n"
   ]
  },
  {
   "cell_type": "code",
   "execution_count": 23,
   "id": "d20ef21b",
   "metadata": {},
   "outputs": [
    {
     "name": "stdout",
     "output_type": "stream",
     "text": [
      " * sqlite:///../_databases/dummy.db\n",
      "Done.\n"
     ]
    },
    {
     "data": {
      "text/html": [
       "<table>\n",
       "    <thead>\n",
       "        <tr>\n",
       "            <th>nom</th>\n",
       "            <th>pays</th>\n",
       "            <th>AVG(note)</th>\n",
       "        </tr>\n",
       "    </thead>\n",
       "    <tbody>\n",
       "        <tr>\n",
       "            <td>Alain Dupont</td>\n",
       "            <td>France</td>\n",
       "            <td>4.428571428571429</td>\n",
       "        </tr>\n",
       "        <tr>\n",
       "            <td>Annie Durand</td>\n",
       "            <td>France</td>\n",
       "            <td>8.3</td>\n",
       "        </tr>\n",
       "        <tr>\n",
       "            <td>Gérard Bouchard</td>\n",
       "            <td>France</td>\n",
       "            <td>5.125</td>\n",
       "        </tr>\n",
       "        <tr>\n",
       "            <td>Jean Dubois</td>\n",
       "            <td>France</td>\n",
       "            <td>6.2</td>\n",
       "        </tr>\n",
       "        <tr>\n",
       "            <td>Mireille Deschamps</td>\n",
       "            <td>France</td>\n",
       "            <td>5.0</td>\n",
       "        </tr>\n",
       "        <tr>\n",
       "            <td>Roger Martin</td>\n",
       "            <td>France</td>\n",
       "            <td>4.4</td>\n",
       "        </tr>\n",
       "        <tr>\n",
       "            <td>Valérie Petit</td>\n",
       "            <td>France</td>\n",
       "            <td>5.111111111111111</td>\n",
       "        </tr>\n",
       "    </tbody>\n",
       "</table>"
      ],
      "text/plain": [
       "[('Alain Dupont', 'France', 4.428571428571429),\n",
       " ('Annie Durand', 'France', 8.3),\n",
       " ('Gérard Bouchard', 'France', 5.125),\n",
       " ('Jean Dubois', 'France', 6.2),\n",
       " ('Mireille Deschamps', 'France', 5.0),\n",
       " ('Roger Martin', 'France', 4.4),\n",
       " ('Valérie Petit', 'France', 5.111111111111111)]"
      ]
     },
     "execution_count": 23,
     "metadata": {},
     "output_type": "execute_result"
    }
   ],
   "source": [
    "%%sql\n",
    "SELECT spectateurs.nom, pays, AVG(note) FROM spectateurs JOIN notes JOIN films JOIN realisateurs\n",
    "ON notes.spectateur_id=spectateurs.id AND notes.film_id=films.id AND films.realisateur_id=realisateurs.id\n",
    "GROUP BY spectateurs.nom"
   ]
  },
  {
   "cell_type": "code",
   "execution_count": 24,
   "id": "dddeaca7",
   "metadata": {},
   "outputs": [
    {
     "name": "stdout",
     "output_type": "stream",
     "text": [
      " * sqlite:///../_databases/dummy.db\n",
      "Done.\n"
     ]
    },
    {
     "data": {
      "text/html": [
       "<table>\n",
       "    <thead>\n",
       "        <tr>\n",
       "            <th>nom</th>\n",
       "            <th>pays</th>\n",
       "            <th>note</th>\n",
       "        </tr>\n",
       "    </thead>\n",
       "    <tbody>\n",
       "        <tr>\n",
       "            <td>Alain Dupont</td>\n",
       "            <td>Danemark</td>\n",
       "            <td>3.0</td>\n",
       "        </tr>\n",
       "        <tr>\n",
       "            <td>Alain Dupont</td>\n",
       "            <td>Etats-Unis</td>\n",
       "            <td>4.25</td>\n",
       "        </tr>\n",
       "        <tr>\n",
       "            <td>Alain Dupont</td>\n",
       "            <td>France</td>\n",
       "            <td>3.5</td>\n",
       "        </tr>\n",
       "        <tr>\n",
       "            <td>Alain Dupont</td>\n",
       "            <td>Japon</td>\n",
       "            <td>10.0</td>\n",
       "        </tr>\n",
       "        <tr>\n",
       "            <td>Alain Dupont</td>\n",
       "            <td>Russie</td>\n",
       "            <td>1.0</td>\n",
       "        </tr>\n",
       "        <tr>\n",
       "            <td>Alain Dupont</td>\n",
       "            <td>Taïwan</td>\n",
       "            <td>7.0</td>\n",
       "        </tr>\n",
       "        <tr>\n",
       "            <td>Annie Durand</td>\n",
       "            <td>Danemark</td>\n",
       "            <td>5.0</td>\n",
       "        </tr>\n",
       "        <tr>\n",
       "            <td>Annie Durand</td>\n",
       "            <td>Etats-Unis</td>\n",
       "            <td>8.666666666666666</td>\n",
       "        </tr>\n",
       "        <tr>\n",
       "            <td>Annie Durand</td>\n",
       "            <td>France</td>\n",
       "            <td>8.5</td>\n",
       "        </tr>\n",
       "        <tr>\n",
       "            <td>Annie Durand</td>\n",
       "            <td>Japon</td>\n",
       "            <td>7.0</td>\n",
       "        </tr>\n",
       "        <tr>\n",
       "            <td>Annie Durand</td>\n",
       "            <td>Russie</td>\n",
       "            <td>9.0</td>\n",
       "        </tr>\n",
       "        <tr>\n",
       "            <td>Annie Durand</td>\n",
       "            <td>Taïwan</td>\n",
       "            <td>9.5</td>\n",
       "        </tr>\n",
       "        <tr>\n",
       "            <td>Gérard Bouchard</td>\n",
       "            <td>Etats-Unis</td>\n",
       "            <td>6.666666666666667</td>\n",
       "        </tr>\n",
       "        <tr>\n",
       "            <td>Gérard Bouchard</td>\n",
       "            <td>France</td>\n",
       "            <td>3.5</td>\n",
       "        </tr>\n",
       "        <tr>\n",
       "            <td>Gérard Bouchard</td>\n",
       "            <td>Taïwan</td>\n",
       "            <td>4.666666666666667</td>\n",
       "        </tr>\n",
       "        <tr>\n",
       "            <td>Jean Dubois</td>\n",
       "            <td>Etats-Unis</td>\n",
       "            <td>8.0</td>\n",
       "        </tr>\n",
       "        <tr>\n",
       "            <td>Jean Dubois</td>\n",
       "            <td>France</td>\n",
       "            <td>3.0</td>\n",
       "        </tr>\n",
       "        <tr>\n",
       "            <td>Jean Dubois</td>\n",
       "            <td>Russie</td>\n",
       "            <td>5.0</td>\n",
       "        </tr>\n",
       "        <tr>\n",
       "            <td>Jean Dubois</td>\n",
       "            <td>Taïwan</td>\n",
       "            <td>10.0</td>\n",
       "        </tr>\n",
       "        <tr>\n",
       "            <td>Mireille Deschamps</td>\n",
       "            <td>Etats-Unis</td>\n",
       "            <td>4.6</td>\n",
       "        </tr>\n",
       "        <tr>\n",
       "            <td>Mireille Deschamps</td>\n",
       "            <td>France</td>\n",
       "            <td>5.5</td>\n",
       "        </tr>\n",
       "        <tr>\n",
       "            <td>Mireille Deschamps</td>\n",
       "            <td>Japon</td>\n",
       "            <td>8.0</td>\n",
       "        </tr>\n",
       "        <tr>\n",
       "            <td>Mireille Deschamps</td>\n",
       "            <td>Russie</td>\n",
       "            <td>2.5</td>\n",
       "        </tr>\n",
       "        <tr>\n",
       "            <td>Mireille Deschamps</td>\n",
       "            <td>Taïwan</td>\n",
       "            <td>6.5</td>\n",
       "        </tr>\n",
       "        <tr>\n",
       "            <td>Roger Martin</td>\n",
       "            <td>Danemark</td>\n",
       "            <td>5.5</td>\n",
       "        </tr>\n",
       "        <tr>\n",
       "            <td>Roger Martin</td>\n",
       "            <td>Etats-Unis</td>\n",
       "            <td>4.0</td>\n",
       "        </tr>\n",
       "        <tr>\n",
       "            <td>Roger Martin</td>\n",
       "            <td>France</td>\n",
       "            <td>3.0</td>\n",
       "        </tr>\n",
       "        <tr>\n",
       "            <td>Roger Martin</td>\n",
       "            <td>Japon</td>\n",
       "            <td>4.0</td>\n",
       "        </tr>\n",
       "        <tr>\n",
       "            <td>Roger Martin</td>\n",
       "            <td>Russie</td>\n",
       "            <td>7.0</td>\n",
       "        </tr>\n",
       "        <tr>\n",
       "            <td>Roger Martin</td>\n",
       "            <td>Taïwan</td>\n",
       "            <td>3.5</td>\n",
       "        </tr>\n",
       "        <tr>\n",
       "            <td>Valérie Petit</td>\n",
       "            <td>Danemark</td>\n",
       "            <td>10.0</td>\n",
       "        </tr>\n",
       "        <tr>\n",
       "            <td>Valérie Petit</td>\n",
       "            <td>Etats-Unis</td>\n",
       "            <td>8.0</td>\n",
       "        </tr>\n",
       "        <tr>\n",
       "            <td>Valérie Petit</td>\n",
       "            <td>France</td>\n",
       "            <td>3.0</td>\n",
       "        </tr>\n",
       "        <tr>\n",
       "            <td>Valérie Petit</td>\n",
       "            <td>Japon</td>\n",
       "            <td>6.0</td>\n",
       "        </tr>\n",
       "        <tr>\n",
       "            <td>Valérie Petit</td>\n",
       "            <td>Russie</td>\n",
       "            <td>2.0</td>\n",
       "        </tr>\n",
       "        <tr>\n",
       "            <td>Valérie Petit</td>\n",
       "            <td>Taïwan</td>\n",
       "            <td>5.5</td>\n",
       "        </tr>\n",
       "    </tbody>\n",
       "</table>"
      ],
      "text/plain": [
       "[('Alain Dupont', 'Danemark', 3.0),\n",
       " ('Alain Dupont', 'Etats-Unis', 4.25),\n",
       " ('Alain Dupont', 'France', 3.5),\n",
       " ('Alain Dupont', 'Japon', 10.0),\n",
       " ('Alain Dupont', 'Russie', 1.0),\n",
       " ('Alain Dupont', 'Taïwan', 7.0),\n",
       " ('Annie Durand', 'Danemark', 5.0),\n",
       " ('Annie Durand', 'Etats-Unis', 8.666666666666666),\n",
       " ('Annie Durand', 'France', 8.5),\n",
       " ('Annie Durand', 'Japon', 7.0),\n",
       " ('Annie Durand', 'Russie', 9.0),\n",
       " ('Annie Durand', 'Taïwan', 9.5),\n",
       " ('Gérard Bouchard', 'Etats-Unis', 6.666666666666667),\n",
       " ('Gérard Bouchard', 'France', 3.5),\n",
       " ('Gérard Bouchard', 'Taïwan', 4.666666666666667),\n",
       " ('Jean Dubois', 'Etats-Unis', 8.0),\n",
       " ('Jean Dubois', 'France', 3.0),\n",
       " ('Jean Dubois', 'Russie', 5.0),\n",
       " ('Jean Dubois', 'Taïwan', 10.0),\n",
       " ('Mireille Deschamps', 'Etats-Unis', 4.6),\n",
       " ('Mireille Deschamps', 'France', 5.5),\n",
       " ('Mireille Deschamps', 'Japon', 8.0),\n",
       " ('Mireille Deschamps', 'Russie', 2.5),\n",
       " ('Mireille Deschamps', 'Taïwan', 6.5),\n",
       " ('Roger Martin', 'Danemark', 5.5),\n",
       " ('Roger Martin', 'Etats-Unis', 4.0),\n",
       " ('Roger Martin', 'France', 3.0),\n",
       " ('Roger Martin', 'Japon', 4.0),\n",
       " ('Roger Martin', 'Russie', 7.0),\n",
       " ('Roger Martin', 'Taïwan', 3.5),\n",
       " ('Valérie Petit', 'Danemark', 10.0),\n",
       " ('Valérie Petit', 'Etats-Unis', 8.0),\n",
       " ('Valérie Petit', 'France', 3.0),\n",
       " ('Valérie Petit', 'Japon', 6.0),\n",
       " ('Valérie Petit', 'Russie', 2.0),\n",
       " ('Valérie Petit', 'Taïwan', 5.5)]"
      ]
     },
     "execution_count": 24,
     "metadata": {},
     "output_type": "execute_result"
    }
   ],
   "source": [
    "%%sql\n",
    "SELECT spectateurs.nom, pays, AVG(note) note FROM spectateurs JOIN notes JOIN films JOIN realisateurs\n",
    "ON notes.spectateur_id=spectateurs.id AND notes.film_id=films.id AND films.realisateur_id=realisateurs.id\n",
    "GROUP BY spectateurs.nom, pays"
   ]
  },
  {
   "cell_type": "code",
   "execution_count": 12,
   "id": "dd2ac5d9",
   "metadata": {},
   "outputs": [
    {
     "name": "stdout",
     "output_type": "stream",
     "text": [
      " * sqlite:///../_databases/dummy.db\n",
      "Done.\n"
     ]
    },
    {
     "data": {
      "text/html": [
       "<table>\n",
       "    <thead>\n",
       "        <tr>\n",
       "            <th>nom</th>\n",
       "            <th>duree_moyenne</th>\n",
       "        </tr>\n",
       "    </thead>\n",
       "    <tbody>\n",
       "        <tr>\n",
       "            <td>David Lynch</td>\n",
       "            <td>132.0</td>\n",
       "        </tr>\n",
       "        <tr>\n",
       "            <td>Hou Hsiao-Hsien</td>\n",
       "            <td>127.0</td>\n",
       "        </tr>\n",
       "        <tr>\n",
       "            <td>Jean Eustache</td>\n",
       "            <td>170.0</td>\n",
       "        </tr>\n",
       "        <tr>\n",
       "            <td>Michael Cimino</td>\n",
       "            <td>182.0</td>\n",
       "        </tr>\n",
       "    </tbody>\n",
       "</table>"
      ],
      "text/plain": [
       "[('David Lynch', 132.0),\n",
       " ('Hou Hsiao-Hsien', 127.0),\n",
       " ('Jean Eustache', 170.0),\n",
       " ('Michael Cimino', 182.0)]"
      ]
     },
     "execution_count": 12,
     "metadata": {},
     "output_type": "execute_result"
    }
   ],
   "source": [
    "%%sql\n",
    "SELECT nom, AVG(duree) AS duree_moyenne\n",
    "FROM realisateurs JOIN films ON films.realisateur_id=realisateurs.id\n",
    "GROUP BY nom\n",
    "HAVING duree_moyenne>120"
   ]
  },
  {
   "cell_type": "code",
   "execution_count": 14,
   "id": "d99405f5",
   "metadata": {},
   "outputs": [
    {
     "name": "stdout",
     "output_type": "stream",
     "text": [
      " * sqlite:///../_databases/dummy.db\n",
      "(sqlite3.OperationalError) HAVING clause on a non-aggregate query\n",
      "[SQL: SELECT * FROM realisateurs HAVINg id>3]\n",
      "(Background on this error at: https://sqlalche.me/e/20/e3q8)\n"
     ]
    }
   ],
   "source": [
    "%%sql\n",
    "SELECT * FROM realisateurs HAVINg id>3"
   ]
  },
  {
   "cell_type": "code",
   "execution_count": null,
   "id": "f2f9c3f3",
   "metadata": {},
   "outputs": [],
   "source": []
  }
 ],
 "metadata": {
  "kernelspec": {
   "display_name": "Python 3.10.4 ('env': venv)",
   "language": "python",
   "name": "python3"
  },
  "language_info": {
   "codemirror_mode": {
    "name": "ipython",
    "version": 3
   },
   "file_extension": ".py",
   "mimetype": "text/x-python",
   "name": "python",
   "nbconvert_exporter": "python",
   "pygments_lexer": "ipython3",
   "version": "3.11.3"
  },
  "vscode": {
   "interpreter": {
    "hash": "f4c8e81a9f0347c6d7a0c9556eec90e1bc8f371f83016d20a0e310206089afb1"
   }
  }
 },
 "nbformat": 4,
 "nbformat_minor": 5
}
