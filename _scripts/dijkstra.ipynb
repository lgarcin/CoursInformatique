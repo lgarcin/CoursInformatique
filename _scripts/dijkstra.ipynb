{
 "cells": [
  {
   "cell_type": "code",
   "execution_count": 1,
   "metadata": {},
   "outputs": [],
   "source": [
    "import networkx as nx\n",
    "from math import inf"
   ]
  },
  {
   "cell_type": "code",
   "execution_count": 2,
   "metadata": {},
   "outputs": [],
   "source": [
    "dod = {'A': {'B': 10, 'C': 20, 'D': 15},\n",
    "       'B': {'A': 10, 'C': 5, 'D': 30},\n",
    "       'C': {'A': 20, 'B': 5, 'E': 20},\n",
    "       'D': {'A': 15, 'B': 30},\n",
    "       'E': {'C': 20}}\n"
   ]
  },
  {
   "cell_type": "code",
   "execution_count": 3,
   "metadata": {},
   "outputs": [],
   "source": [
    "from math import inf\n",
    "\n",
    "\n",
    "def dijkstra(dod, deb):\n",
    "    dist = {s: inf for s in dod}\n",
    "    dist[deb] = 0\n",
    "    sommets_non_traites = {s for s in dod}\n",
    "    while len(sommets_non_traites) != 0:\n",
    "        min_dist = inf\n",
    "        for s in sommets_non_traites:\n",
    "            if dist[s] < min_dist:\n",
    "                min_dist_sommet = s\n",
    "                min_dist = dist[s]\n",
    "        sommets_non_traites.remove(min_dist_sommet)\n",
    "        voisins = dod[min_dist_sommet]\n",
    "        for s in voisins:\n",
    "            if s in sommets_non_traites:\n",
    "                dist[s] = min(dist[s], min_dist+voisins[s])\n",
    "    return dist\n"
   ]
  },
  {
   "cell_type": "code",
   "execution_count": 4,
   "metadata": {},
   "outputs": [
    {
     "data": {
      "text/plain": [
       "{'A': 0, 'B': 10, 'C': 15, 'D': 15, 'E': 35}"
      ]
     },
     "execution_count": 4,
     "metadata": {},
     "output_type": "execute_result"
    }
   ],
   "source": [
    "dijkstra(dod,'A')"
   ]
  },
  {
   "cell_type": "code",
   "execution_count": 5,
   "metadata": {},
   "outputs": [],
   "source": [
    "from math import inf\n",
    "\n",
    "\n",
    "def dijkstra_predecesseurs(dod, deb):\n",
    "    predecesseurs = {s: (inf, None) for s in dod}\n",
    "    predecesseurs[deb] = (0, None)\n",
    "    sommets_non_traites = {s for s in dod}\n",
    "    while len(sommets_non_traites) != 0:\n",
    "        min_dist = inf\n",
    "        for s in sommets_non_traites:\n",
    "            dist, _ = predecesseurs[s]\n",
    "            if dist < min_dist:\n",
    "                min_dist_sommet = s\n",
    "                min_dist = dist\n",
    "        sommets_non_traites.remove(min_dist_sommet)\n",
    "        voisins = dod[min_dist_sommet]\n",
    "        for s in voisins:\n",
    "            if s in sommets_non_traites:\n",
    "                d = min_dist+voisins[s]\n",
    "                dist, _ = predecesseurs[s]\n",
    "                if d < dist:\n",
    "                    predecesseurs[s] = (d, min_dist_sommet)\n",
    "    return predecesseurs\n"
   ]
  },
  {
   "cell_type": "code",
   "execution_count": 6,
   "metadata": {},
   "outputs": [
    {
     "data": {
      "text/plain": [
       "(35,\n",
       " {'A': (0, None),\n",
       "  'B': (10, 'A'),\n",
       "  'C': (15, 'B'),\n",
       "  'D': (15, 'A'),\n",
       "  'E': (35, 'C')})"
      ]
     },
     "execution_count": 6,
     "metadata": {},
     "output_type": "execute_result"
    }
   ],
   "source": [
    "dijkstra_predecesseurs(dod,'A')"
   ]
  },
  {
   "cell_type": "code",
   "execution_count": 7,
   "metadata": {},
   "outputs": [],
   "source": [
    "from math import inf\n",
    "\n",
    "\n",
    "def dijkstra_chemins(dod, deb):\n",
    "    chemins = {s: (inf, None) for s in dod}\n",
    "    chemins[deb] = (0, [])\n",
    "    sommets_non_traites = {s for s in dod}\n",
    "    while len(sommets_non_traites) != 0:\n",
    "        min_dist = inf\n",
    "        for s in sommets_non_traites:\n",
    "            dist, _ = chemins[s]\n",
    "            if dist < min_dist:\n",
    "                min_dist_sommet = s\n",
    "                min_dist = dist\n",
    "        sommets_non_traites.remove(min_dist_sommet)\n",
    "        voisins = dod[min_dist_sommet]\n",
    "        for s in voisins:\n",
    "            if s in sommets_non_traites:\n",
    "                d = min_dist+voisins[s]\n",
    "                dist, _ = chemins[s]\n",
    "                if d < dist:\n",
    "                    _, chemin = chemins[min_dist_sommet]\n",
    "                    chemins[s] = (d, chemin + [min_dist_sommet])\n",
    "    return chemins\n"
   ]
  },
  {
   "cell_type": "code",
   "execution_count": 8,
   "metadata": {},
   "outputs": [
    {
     "data": {
      "text/plain": [
       "{'A': (0, []),\n",
       " 'B': (10, ['A']),\n",
       " 'C': (15, ['A', 'B']),\n",
       " 'D': (15, ['A']),\n",
       " 'E': (35, ['A', 'B', 'C'])}"
      ]
     },
     "execution_count": 8,
     "metadata": {},
     "output_type": "execute_result"
    }
   ],
   "source": [
    "dijkstra_chemins(dod,'A')"
   ]
  },
  {
   "cell_type": "code",
   "execution_count": 9,
   "metadata": {},
   "outputs": [],
   "source": [
    "import heapq as hq\n",
    "\n",
    "\n",
    "def dijkstra_heap(dod, deb):\n",
    "    distances = {}\n",
    "    file = [(0, deb)]\n",
    "\n",
    "    while file:\n",
    "        dist, sommet = hq.heappop(file)\n",
    "        if sommet not in distances:\n",
    "            distances[sommet] = dist\n",
    "            voisins = dod[sommet]\n",
    "            for s in voisins:\n",
    "                if s not in distances:\n",
    "                    hq.heappush(file, (dist + voisins[s], s))\n",
    "\n",
    "    return distances\n"
   ]
  },
  {
   "cell_type": "code",
   "execution_count": 10,
   "metadata": {},
   "outputs": [
    {
     "data": {
      "text/plain": [
       "{'A': 0, 'B': 10, 'C': 15, 'D': 15, 'E': 35}"
      ]
     },
     "execution_count": 10,
     "metadata": {},
     "output_type": "execute_result"
    }
   ],
   "source": [
    "dijkstra_heap(dod,'A')"
   ]
  },
  {
   "cell_type": "code",
   "execution_count": 11,
   "metadata": {},
   "outputs": [],
   "source": [
    "import heapq as hq\n",
    "\n",
    "\n",
    "def dijkstra_heap_chemin(dod, deb):\n",
    "    chemins = {}\n",
    "    file = [(0, deb, [])]\n",
    "\n",
    "    while file:\n",
    "        dist, sommet, chemin = hq.heappop(file)\n",
    "        if sommet not in chemins:\n",
    "            chemins[sommet] = (dist, chemin)\n",
    "            voisins = dod[sommet]\n",
    "            for s in voisins:\n",
    "                if s not in chemins:\n",
    "                    hq.heappush(file, (dist + voisins[s], s, chemin+[sommet]))\n",
    "\n",
    "    return chemins\n"
   ]
  },
  {
   "cell_type": "code",
   "execution_count": 12,
   "metadata": {},
   "outputs": [
    {
     "data": {
      "text/plain": [
       "{'A': (0, []),\n",
       " 'B': (10, ['A']),\n",
       " 'C': (15, ['A', 'B']),\n",
       " 'D': (15, ['A']),\n",
       " 'E': (35, ['A', 'B', 'C'])}"
      ]
     },
     "execution_count": 12,
     "metadata": {},
     "output_type": "execute_result"
    }
   ],
   "source": [
    "dijkstra_heap_chemin(dod,'A')"
   ]
  },
  {
   "cell_type": "code",
   "execution_count": 13,
   "metadata": {},
   "outputs": [],
   "source": [
    "import heapq as hq\n",
    "\n",
    "\n",
    "def dijkstra_heap_predecesseur(dod, deb):\n",
    "    predecesseurs = {}\n",
    "    file = [(0, deb, None)]\n",
    "\n",
    "    while file:\n",
    "        dist, sommet, pred = hq.heappop(file)\n",
    "        if sommet not in predecesseurs:\n",
    "            predecesseurs[sommet] = (dist, pred)\n",
    "            voisins = dod[sommet]\n",
    "            for s in voisins:\n",
    "                if s not in predecesseurs:\n",
    "                    hq.heappush(file, (dist + voisins[s], s, sommet))\n",
    "\n",
    "    return predecesseurs\n"
   ]
  },
  {
   "cell_type": "code",
   "execution_count": 14,
   "metadata": {},
   "outputs": [
    {
     "data": {
      "text/plain": [
       "{'A': (0, None),\n",
       " 'B': (10, 'A'),\n",
       " 'C': (15, 'B'),\n",
       " 'D': (15, 'A'),\n",
       " 'E': (35, 'C')}"
      ]
     },
     "execution_count": 14,
     "metadata": {},
     "output_type": "execute_result"
    }
   ],
   "source": [
    "dijkstra_heap_predecesseur(dod,'A')"
   ]
  },
  {
   "cell_type": "code",
   "execution_count": 15,
   "metadata": {},
   "outputs": [],
   "source": [
    "from math import inf\n",
    "\n",
    "\n",
    "def dijkstra_pile(dod, deb):\n",
    "    dist = {}\n",
    "    file = {(0, deb)}\n",
    "    while len(file) != 0:\n",
    "        min_dist = inf\n",
    "        for d, s in file:\n",
    "            if d < min_dist:\n",
    "                min_dist = d\n",
    "                min_dist_sommet = s\n",
    "        file.remove((min_dist, min_dist_sommet))\n",
    "        if min_dist_sommet not in dist:\n",
    "            dist[min_dist_sommet] = min_dist\n",
    "            voisins = dod[min_dist_sommet]\n",
    "            for s in voisins:\n",
    "                if s not in dist:\n",
    "                    file.add((min_dist+voisins[s], s))\n",
    "    return dist\n"
   ]
  },
  {
   "cell_type": "code",
   "execution_count": 16,
   "metadata": {},
   "outputs": [
    {
     "data": {
      "text/plain": [
       "{'A': 0, 'B': 10, 'D': 15, 'C': 15, 'E': 35}"
      ]
     },
     "execution_count": 16,
     "metadata": {},
     "output_type": "execute_result"
    }
   ],
   "source": [
    "dijkstra_pile(dod,'A')"
   ]
  },
  {
   "cell_type": "code",
   "execution_count": null,
   "metadata": {},
   "outputs": [],
   "source": []
  }
 ],
 "metadata": {
  "kernelspec": {
   "display_name": "env",
   "language": "python",
   "name": "python3"
  },
  "language_info": {
   "codemirror_mode": {
    "name": "ipython",
    "version": 3
   },
   "file_extension": ".py",
   "mimetype": "text/x-python",
   "name": "python",
   "nbconvert_exporter": "python",
   "pygments_lexer": "ipython3",
   "version": "3.11.3"
  },
  "orig_nbformat": 4,
  "vscode": {
   "interpreter": {
    "hash": "f4c8e81a9f0347c6d7a0c9556eec90e1bc8f371f83016d20a0e310206089afb1"
   }
  }
 },
 "nbformat": 4,
 "nbformat_minor": 2
}
