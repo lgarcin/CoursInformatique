{
 "cells": [
  {
   "cell_type": "code",
   "execution_count": 16,
   "metadata": {},
   "outputs": [],
   "source": [
    "from math import inf"
   ]
  },
  {
   "cell_type": "code",
   "execution_count": 3,
   "metadata": {},
   "outputs": [],
   "source": [
    "dod = {'A': {'B': 10, 'C': 20, 'D': 15},\n",
    "       'B': {'A': 10, 'C': 5, 'D': 30},\n",
    "       'C': {'A': 20, 'B': 5, 'E': 20},\n",
    "       'D': {'A': 15, 'B': 30},\n",
    "       'E': {'C': 20}}\n"
   ]
  },
  {
   "cell_type": "code",
   "execution_count": 18,
   "metadata": {},
   "outputs": [],
   "source": [
    "def dijkstra(dod, deb):\n",
    "    dist = {s: inf for s in dod}\n",
    "    dist[deb] = 0\n",
    "    sommets_non_traites = {s for s in dod}\n",
    "    while len(sommets_non_traites) != 0:\n",
    "        min_dist = inf\n",
    "        for s in sommets_non_traites:\n",
    "            if dist[s] < min_dist:\n",
    "                min_dist_sommet = s\n",
    "                min_dist = dist[s]\n",
    "        voisins = dod[min_dist_sommet]\n",
    "        for s in voisins:\n",
    "            if s in sommets_non_traites:\n",
    "                dist[s] = min(dist[s], min_dist+voisins[s])\n",
    "        sommets_non_traites.remove(min_dist_sommet)\n",
    "    return dist\n"
   ]
  },
  {
   "cell_type": "code",
   "execution_count": 19,
   "metadata": {},
   "outputs": [
    {
     "data": {
      "text/plain": [
       "{'A': 0, 'B': 10, 'C': 15, 'D': 15, 'E': 35}"
      ]
     },
     "execution_count": 19,
     "metadata": {},
     "output_type": "execute_result"
    }
   ],
   "source": [
    "dijkstra(dod,'A')"
   ]
  },
  {
   "cell_type": "code",
   "execution_count": 20,
   "metadata": {},
   "outputs": [],
   "source": [
    "from math import inf\n",
    "\n",
    "\n",
    "def dijkstra_predecesseurs(dod, deb):\n",
    "    predecesseurs = {s: (inf, None) for s in dod}\n",
    "    predecesseurs[deb] = (0, None)\n",
    "    sommets_non_traites = {s for s in dod}\n",
    "    while len(sommets_non_traites) != 0:\n",
    "        min_dist = inf\n",
    "        for s in sommets_non_traites:\n",
    "            dist, _ = predecesseurs[s]\n",
    "            if dist < min_dist:\n",
    "                min_dist_sommet = s\n",
    "                min_dist = dist\n",
    "        voisins = dod[min_dist_sommet]\n",
    "        for s in voisins:\n",
    "            if s in sommets_non_traites:\n",
    "                d = min_dist+voisins[s]\n",
    "                dist, _ = predecesseurs[s]\n",
    "                if d < dist:\n",
    "                    predecesseurs[s] = (d, min_dist_sommet)\n",
    "        sommets_non_traites.remove(min_dist_sommet)\n",
    "    return predecesseurs\n"
   ]
  },
  {
   "cell_type": "code",
   "execution_count": 21,
   "metadata": {},
   "outputs": [
    {
     "data": {
      "text/plain": [
       "{'A': (0, None),\n",
       " 'B': (10, 'A'),\n",
       " 'C': (15, 'B'),\n",
       " 'D': (15, 'A'),\n",
       " 'E': (35, 'C')}"
      ]
     },
     "execution_count": 21,
     "metadata": {},
     "output_type": "execute_result"
    }
   ],
   "source": [
    "dijkstra_predecesseurs(dod,'A')"
   ]
  },
  {
   "cell_type": "code",
   "execution_count": 22,
   "metadata": {},
   "outputs": [],
   "source": [
    "from math import inf\n",
    "\n",
    "\n",
    "def dijkstra_chemins(dod, deb):\n",
    "    chemins = {s: (inf, None) for s in dod}\n",
    "    chemins[deb] = (0, [])\n",
    "    sommets_non_traites = {s for s in dod}\n",
    "    while len(sommets_non_traites) != 0:\n",
    "        min_dist = inf\n",
    "        for s in sommets_non_traites:\n",
    "            dist, _ = chemins[s]\n",
    "            if dist < min_dist:\n",
    "                min_dist_sommet = s\n",
    "                min_dist = dist\n",
    "        voisins = dod[min_dist_sommet]\n",
    "        for s in voisins:\n",
    "            if s in sommets_non_traites:\n",
    "                d = min_dist+voisins[s]\n",
    "                dist, _ = chemins[s]\n",
    "                if d < dist:\n",
    "                    _, chemin = chemins[min_dist_sommet]\n",
    "                    chemins[s] = (d, chemin + [min_dist_sommet])\n",
    "        sommets_non_traites.remove(min_dist_sommet)\n",
    "    return chemins\n"
   ]
  },
  {
   "cell_type": "code",
   "execution_count": 23,
   "metadata": {},
   "outputs": [
    {
     "data": {
      "text/plain": [
       "{'A': (0, []),\n",
       " 'B': (10, ['A']),\n",
       " 'C': (15, ['A', 'B']),\n",
       " 'D': (15, ['A']),\n",
       " 'E': (35, ['A', 'B', 'C'])}"
      ]
     },
     "execution_count": 23,
     "metadata": {},
     "output_type": "execute_result"
    }
   ],
   "source": [
    "dijkstra_chemins(dod,'A')"
   ]
  },
  {
   "cell_type": "code",
   "execution_count": 24,
   "metadata": {},
   "outputs": [],
   "source": [
    "import heapq as hq\n",
    "\n",
    "\n",
    "def dijkstra_heap(dod, deb):\n",
    "    distances = {}\n",
    "    sommets_a_traiter = [(0, deb)]\n",
    "    hq.heapify(sommets_a_traiter)\n",
    "\n",
    "    while sommets_a_traiter:\n",
    "        dist, sommet = hq.heappop(sommets_a_traiter)\n",
    "        print(sommets_a_traiter)\n",
    "        if sommet not in distances:\n",
    "            distances[sommet] = dist\n",
    "            voisins = dod[sommet]\n",
    "            for s in voisins:\n",
    "                if s not in distances:\n",
    "                    hq.heappush(sommets_a_traiter, (dist + voisins[s], s))\n",
    "    return distances\n"
   ]
  },
  {
   "cell_type": "code",
   "execution_count": 25,
   "metadata": {},
   "outputs": [
    {
     "name": "stdout",
     "output_type": "stream",
     "text": [
      "[]\n",
      "[(15, 'D'), (20, 'C')]\n",
      "[(15, 'D'), (20, 'C'), (40, 'D')]\n",
      "[(20, 'C'), (35, 'E'), (40, 'D')]\n",
      "[(35, 'E'), (40, 'D')]\n",
      "[(40, 'D')]\n",
      "[]\n"
     ]
    },
    {
     "data": {
      "text/plain": [
       "{'A': 0, 'B': 10, 'C': 15, 'D': 15, 'E': 35}"
      ]
     },
     "execution_count": 25,
     "metadata": {},
     "output_type": "execute_result"
    }
   ],
   "source": [
    "dijkstra_heap(dod,'A')"
   ]
  },
  {
   "cell_type": "code",
   "execution_count": 26,
   "metadata": {},
   "outputs": [],
   "source": [
    "import heapq as hq\n",
    "\n",
    "\n",
    "def dijkstra_heap_predecesseur(dod, deb):\n",
    "    predecesseurs = {}\n",
    "    sommets_a_traiter = [(0, deb,None)]\n",
    "    hq.heapify(sommets_a_traiter)\n",
    "\n",
    "    while sommets_a_traiter:\n",
    "        dist, sommet, pred = hq.heappop(sommets_a_traiter)\n",
    "        if sommet not in predecesseurs:\n",
    "            predecesseurs[sommet] = (dist, pred)\n",
    "            voisins = dod[sommet]\n",
    "            for s in voisins:\n",
    "                if s not in predecesseurs:\n",
    "                    hq.heappush(sommets_a_traiter, (dist + voisins[s], s, sommet))\n",
    "\n",
    "    return predecesseurs\n"
   ]
  },
  {
   "cell_type": "code",
   "execution_count": 27,
   "metadata": {},
   "outputs": [
    {
     "data": {
      "text/plain": [
       "{'A': (0, None),\n",
       " 'B': (10, 'A'),\n",
       " 'C': (15, 'B'),\n",
       " 'D': (15, 'A'),\n",
       " 'E': (35, 'C')}"
      ]
     },
     "execution_count": 27,
     "metadata": {},
     "output_type": "execute_result"
    }
   ],
   "source": [
    "dijkstra_heap_predecesseur(dod,'A')"
   ]
  },
  {
   "cell_type": "code",
   "execution_count": 28,
   "metadata": {},
   "outputs": [],
   "source": [
    "import heapq as hq\n",
    "\n",
    "\n",
    "def dijkstra_heap_chemin(dod, deb):\n",
    "    chemins = {}\n",
    "    sommets_a_traiter = [(0, deb, [])]\n",
    "    hq.heapify(sommets_a_traiter)\n",
    "\n",
    "    while sommets_a_traiter:\n",
    "        dist, sommet, chemin = hq.heappop(sommets_a_traiter)\n",
    "        if sommet not in chemins:\n",
    "            chemins[sommet] = (dist, chemin)\n",
    "            voisins = dod[sommet]\n",
    "            for s in voisins:\n",
    "                if s not in chemins:\n",
    "                    hq.heappush(sommets_a_traiter, (dist + voisins[s], s, chemin+[sommet]))\n",
    "\n",
    "    return chemins\n"
   ]
  },
  {
   "cell_type": "code",
   "execution_count": 29,
   "metadata": {},
   "outputs": [
    {
     "data": {
      "text/plain": [
       "{'A': (0, []),\n",
       " 'B': (10, ['A']),\n",
       " 'C': (15, ['A', 'B']),\n",
       " 'D': (15, ['A']),\n",
       " 'E': (35, ['A', 'B', 'C'])}"
      ]
     },
     "execution_count": 29,
     "metadata": {},
     "output_type": "execute_result"
    }
   ],
   "source": [
    "dijkstra_heap_chemin(dod,'A')"
   ]
  },
  {
   "cell_type": "code",
   "execution_count": 6,
   "metadata": {},
   "outputs": [],
   "source": [
    "import heapq as hq\n",
    "\n",
    "# A faire\n",
    "\n",
    "def dijkstra_heap(dod, deb):\n",
    "    distances = {deb: 0}\n",
    "    sommets_a_traiter = [(0, deb)]\n",
    "    hq.heapify(sommets_a_traiter)\n",
    "\n",
    "    while sommets_a_traiter:\n",
    "        dist, sommet = hq.heappop(sommets_a_traiter)\n",
    "        print(sommets_a_traiter)\n",
    "        voisins = dod[sommet]\n",
    "        for s in voisins:\n",
    "            if s not in distances:\n",
    "                distances[s] = dist+voisins[s]\n",
    "                hq.heappush(sommets_a_traiter, (dist + voisins[s], s))\n",
    "    return distances\n"
   ]
  },
  {
   "cell_type": "code",
   "execution_count": 7,
   "metadata": {},
   "outputs": [
    {
     "name": "stdout",
     "output_type": "stream",
     "text": [
      "[]\n",
      "[(15, 'D'), (20, 'C')]\n",
      "[(20, 'C')]\n",
      "[]\n",
      "[]\n"
     ]
    },
    {
     "data": {
      "text/plain": [
       "{'A': 0, 'B': 10, 'C': 20, 'D': 15, 'E': 40}"
      ]
     },
     "execution_count": 7,
     "metadata": {},
     "output_type": "execute_result"
    }
   ],
   "source": [
    "dijkstra_heap(dod,'A')"
   ]
  },
  {
   "cell_type": "code",
   "execution_count": null,
   "metadata": {},
   "outputs": [],
   "source": []
  }
 ],
 "metadata": {
  "kernelspec": {
   "display_name": "env",
   "language": "python",
   "name": "python3"
  },
  "language_info": {
   "codemirror_mode": {
    "name": "ipython",
    "version": 3
   },
   "file_extension": ".py",
   "mimetype": "text/x-python",
   "name": "python",
   "nbconvert_exporter": "python",
   "pygments_lexer": "ipython3",
   "version": "3.11.3"
  },
  "orig_nbformat": 4,
  "vscode": {
   "interpreter": {
    "hash": "f4c8e81a9f0347c6d7a0c9556eec90e1bc8f371f83016d20a0e310206089afb1"
   }
  }
 },
 "nbformat": 4,
 "nbformat_minor": 2
}
