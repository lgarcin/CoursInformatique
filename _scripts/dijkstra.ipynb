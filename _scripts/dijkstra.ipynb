{
 "cells": [
  {
   "cell_type": "code",
   "execution_count": 9,
   "metadata": {},
   "outputs": [],
   "source": [
    "import networkx as nx\n",
    "from math import inf"
   ]
  },
  {
   "cell_type": "code",
   "execution_count": 22,
   "metadata": {},
   "outputs": [],
   "source": [
    "dod = {\n",
    "    'A': {\n",
    "        'B': 10,\n",
    "        'C': 20\n",
    "    },\n",
    "    'B': {\n",
    "        'A': 5,\n",
    "        'C': 5},\n",
    "    'C': {}\n",
    "}\n"
   ]
  },
  {
   "cell_type": "code",
   "execution_count": 23,
   "metadata": {},
   "outputs": [],
   "source": [
    "def dijkstra(dod, deb):\n",
    "    dist = {s: inf for s in dod}\n",
    "    dist[deb] = 0\n",
    "    Q = {s for s in dod}\n",
    "    while len(Q) != 0:\n",
    "        min_dist = inf\n",
    "        min_dist_sommet = None\n",
    "        for s in Q:\n",
    "            if dist[s] < min_dist:\n",
    "                min_dist_sommet = s\n",
    "                min_dist = dist[s]\n",
    "        Q.remove(min_dist_sommet)\n",
    "        voisins = dod[min_dist_sommet]\n",
    "        for s in voisins:\n",
    "            d = min_dist+voisins[s]\n",
    "            dist[s] = min(dist[s], d)\n",
    "    return dist"
   ]
  },
  {
   "cell_type": "code",
   "execution_count": 24,
   "metadata": {},
   "outputs": [
    {
     "data": {
      "text/plain": [
       "{'A': 0, 'B': 10, 'C': 15}"
      ]
     },
     "execution_count": 24,
     "metadata": {},
     "output_type": "execute_result"
    }
   ],
   "source": [
    "dijkstra(dod,'A')"
   ]
  },
  {
   "cell_type": "code",
   "execution_count": null,
   "metadata": {},
   "outputs": [],
   "source": []
  }
 ],
 "metadata": {
  "kernelspec": {
   "display_name": "env",
   "language": "python",
   "name": "python3"
  },
  "language_info": {
   "codemirror_mode": {
    "name": "ipython",
    "version": 3
   },
   "file_extension": ".py",
   "mimetype": "text/x-python",
   "name": "python",
   "nbconvert_exporter": "python",
   "pygments_lexer": "ipython3",
   "version": "3.11.2"
  },
  "orig_nbformat": 4,
  "vscode": {
   "interpreter": {
    "hash": "f4c8e81a9f0347c6d7a0c9556eec90e1bc8f371f83016d20a0e310206089afb1"
   }
  }
 },
 "nbformat": 4,
 "nbformat_minor": 2
}
