{
 "cells": [
  {
   "cell_type": "code",
   "execution_count": null,
   "metadata": {},
   "outputs": [],
   "source": [
    "def rendu_monnaie(somme, pieces):\n",
    "    pieces_triees = sorted(pieces)\n",
    "    d = {}\n",
    "    r = somme\n",
    "    for piece in pieces_triees:\n",
    "        q, r = divmod(r, piece)\n",
    "        d[piece] = nb\n",
    "    return d, r\n"
   ]
  }
 ],
 "metadata": {
  "language_info": {
   "name": "python"
  },
  "orig_nbformat": 4
 },
 "nbformat": 4,
 "nbformat_minor": 2
}
