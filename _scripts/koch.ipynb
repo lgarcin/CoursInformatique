{
 "cells": [
  {
   "cell_type": "code",
   "execution_count": 3,
   "metadata": {},
   "outputs": [],
   "source": [
    "from math import pi\n",
    "from cmath import exp\n",
    "\n",
    "\n",
    "def step(p1, p2):\n",
    "    l = (p2-p1)/3\n",
    "    pp1 = p1\n",
    "    pp2 = pp1 + l\n",
    "    pp3 = pp2 + l * exp(-1j*pi/3)\n",
    "    pp4 = pp3 + l * exp(1j*pi/3)\n",
    "    return [pp1, pp2, pp3, pp4]\n"
   ]
  },
  {
   "cell_type": "code",
   "execution_count": 4,
   "metadata": {},
   "outputs": [],
   "source": [
    "def recur(pts, level):\n",
    "    if level == 0:\n",
    "        return pts\n",
    "    pts += [pts[0]]\n",
    "    pairs = zip(pts[:-1], pts[1:])\n",
    "    return recur([pp for p in pairs for pp in step(p[0], p[1])], level-1)\n"
   ]
  },
  {
   "cell_type": "code",
   "execution_count": 5,
   "metadata": {},
   "outputs": [],
   "source": [
    "import matplotlib.pyplot as plt\n",
    "\n",
    "\n",
    "def trace(pts):\n",
    "    pp = pts+[pts[0]]\n",
    "    plt.plot([p.real for p in pp], [p.imag for p in pp])\n"
   ]
  },
  {
   "cell_type": "code",
   "execution_count": 6,
   "metadata": {},
   "outputs": [],
   "source": [
    "def koch(level):\n",
    "    plt.axis('equal')\n",
    "    plt.axis('off')\n",
    "    pts = [0, 1, exp(1j*pi/3)]\n",
    "    pts = recur(pts, level)\n",
    "    trace(pts)\n"
   ]
  },
  {
   "cell_type": "code",
   "execution_count": 7,
   "metadata": {},
   "outputs": [
    {
     "data": {
      "image/png": "[encoded data removed]",
      "text/plain": [
       "<Figure size 432x288 with 1 Axes>"
      ]
     },
     "metadata": {
      "needs_background": "light"
     },
     "output_type": "display_data"
    }
   ],
   "source": [
    "koch(10)"
   ]
  },
  {
   "cell_type": "code",
   "execution_count": null,
   "metadata": {},
   "outputs": [],
   "source": []
  }
 ],
 "metadata": {
  "kernelspec": {
   "display_name": "Python 3.10.4 ('env': venv)",
   "language": "python",
   "name": "python3"
  },
  "language_info": {
   "codemirror_mode": {
    "name": "ipython",
    "version": 3
   },
   "file_extension": ".py",
   "mimetype": "text/x-python",
   "name": "python",
   "nbconvert_exporter": "python",
   "pygments_lexer": "ipython3",
   "version": "3.10.4"
  },
  "vscode": {
   "interpreter": {
    "hash": "f4c8e81a9f0347c6d7a0c9556eec90e1bc8f371f83016d20a0e310206089afb1"
   }
  }
 },
 "nbformat": 4,
 "nbformat_minor": 4
}
