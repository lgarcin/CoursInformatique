{
 "cells": [
  {
   "cell_type": "code",
   "execution_count": null,
   "metadata": {},
   "outputs": [],
   "source": [
    "import collections\n"
   ]
  },
  {
   "cell_type": "code",
   "execution_count": 21,
   "metadata": {},
   "outputs": [],
   "source": [
    "def parcours_profondeur(G, sommet_initial):\n",
    "    visites = []\n",
    "    pile = collections.deque()\n",
    "    visites.append(sommet_initial)\n",
    "    pile.append(sommet_initial)\n",
    "    while pile:\n",
    "        sommet = pile.pop()\n",
    "        print(\"Sommet \"+str(sommet)+\" visité\")\n",
    "        for voisin in G[sommet]:\n",
    "            if voisin not in visites:\n",
    "                visites.append(voisin)\n",
    "                pile.append(voisin)\n"
   ]
  },
  {
   "cell_type": "code",
   "execution_count": 22,
   "metadata": {},
   "outputs": [],
   "source": [
    "def parcours_largeur(G, sommet_initial):\n",
    "    visites = []\n",
    "    file = collections.deque()\n",
    "    visites.append(sommet_initial)\n",
    "    file.append(sommet_initial)\n",
    "    while file:\n",
    "        sommet = file.popleft()\n",
    "        print(\"Sommet \"+str(sommet)+\" visité\")\n",
    "        for voisin in G[sommet]:\n",
    "            if voisin not in visites:\n",
    "                visites.append(voisin)\n",
    "                file.append(voisin)\n"
   ]
  },
  {
   "cell_type": "code",
   "execution_count": 23,
   "metadata": {},
   "outputs": [],
   "source": [
    "G = {1: [2, 3, 4], 2: [1, 3, 4], 3: [1, 2, 3, 5], 4: [1, 2], 5: [3]}"
   ]
  },
  {
   "cell_type": "code",
   "execution_count": 24,
   "metadata": {},
   "outputs": [
    {
     "name": "stdout",
     "output_type": "stream",
     "text": [
      "Sommet 1 visité\n",
      "Sommet 4 visité\n",
      "Sommet 3 visité\n",
      "Sommet 5 visité\n",
      "Sommet 2 visité\n"
     ]
    }
   ],
   "source": [
    "parcours_profondeur(G, 1)"
   ]
  },
  {
   "cell_type": "code",
   "execution_count": null,
   "metadata": {},
   "outputs": [],
   "source": [
    "parcours_largeur(G, 1)"
   ]
  }
 ],
 "metadata": {
  "kernelspec": {
   "display_name": "env",
   "language": "python",
   "name": "python3"
  },
  "language_info": {
   "codemirror_mode": {
    "name": "ipython",
    "version": 3
   },
   "file_extension": ".py",
   "mimetype": "text/x-python",
   "name": "python",
   "nbconvert_exporter": "python",
   "pygments_lexer": "ipython3",
   "version": "3.11.3"
  },
  "orig_nbformat": 4
 },
 "nbformat": 4,
 "nbformat_minor": 2
}
