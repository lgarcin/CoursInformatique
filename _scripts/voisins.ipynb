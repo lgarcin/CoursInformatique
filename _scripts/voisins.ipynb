{
 "cells": [
  {
   "cell_type": "code",
   "execution_count": 15,
   "metadata": {},
   "outputs": [],
   "source": [
    "import numpy as np\n",
    "import numpy.linalg as alg\n",
    "\n",
    "\n",
    "def regression_k_voisins(samples, k, input):\n",
    "    toto = sorted(samples, key=lambda sample: alg.norm(sample[0]-input))[:k]\n",
    "    toto = [x[1] for x in toto]\n",
    "    return np.mean(toto)\n",
    "\n",
    "\n",
    "def classification_k_voisins(samples, k, input):\n",
    "    toto = sorted(samples, key=lambda sample: alg.norm(sample[0]-input))[:k]\n",
    "    toto = [x[1] for x in toto]\n",
    "    return np.mean(toto)\n"
   ]
  },
  {
   "cell_type": "code",
   "execution_count": 16,
   "metadata": {},
   "outputs": [
    {
     "data": {
      "text/plain": [
       "[(array([2.00912871, 2.30885074]), 'B'),\n",
       " (array([2.10443421, 2.36001034]), 'A'),\n",
       " (array([1.95346547, 2.53731611]), 'C'),\n",
       " (array([2.18217101, 2.51049975]), 'B'),\n",
       " (array([1.47316218, 1.81279858]), 'A'),\n",
       " (array([1.53520395, 1.38248983]), 'C'),\n",
       " (array([1.20525449, 1.80609337]), 'A'),\n",
       " (array([2.38709457, 1.26906411]), 'C'),\n",
       " (array([1.19274264, 1.47823488]), 'C'),\n",
       " (array([1.64150145, 2.91458545]), 'A')]"
      ]
     },
     "execution_count": 16,
     "metadata": {},
     "output_type": "execute_result"
    }
   ],
   "source": [
    "import numpy.random as rd\n",
    "\n",
    "s1 = [(x, 'A') for x in rd.normal([1., 4.], 1., (50, 2))]\n",
    "s2 = [(x, 'B') for x in rd.normal([4., 3.], 1., (50, 2))]\n",
    "s3 = [(x, 'C') for x in rd.normal([1., 0.], 1., (50, 2))]\n",
    "input = [2, 2]\n",
    "k = 10\n",
    "n = sorted(s1+s2+s3, key=lambda sample: alg.norm(sample[0]-input))[:k]\n",
    "#regression_k_voisins(s1+s2, k, input)\n",
    "n\n"
   ]
  },
  {
   "cell_type": "code",
   "execution_count": 17,
   "metadata": {},
   "outputs": [
    {
     "data": {
      "text/plain": [
       "[(1, 4), (2, 3), (2, 8), (3, 2)]"
      ]
     },
     "execution_count": 17,
     "metadata": {},
     "output_type": "execute_result"
    }
   ],
   "source": [
    "sorted([(1, 4), (3, 2), (2, 3), (2, 8)])\n"
   ]
  },
  {
   "cell_type": "code",
   "execution_count": 18,
   "metadata": {},
   "outputs": [
    {
     "data": {
      "text/plain": [
       "<matplotlib.legend.Legend at 0x1b89ec93640>"
      ]
     },
     "execution_count": 18,
     "metadata": {},
     "output_type": "execute_result"
    },
    {
     "data": {
      "image/png": "[encoded data removed]",
      "text/plain": [
       "<Figure size 720x576 with 1 Axes>"
      ]
     },
     "metadata": {
      "needs_background": "light"
     },
     "output_type": "display_data"
    }
   ],
   "source": [
    "import matplotlib.pyplot as plt\n",
    "plt.figure(figsize=(10, 8))\n",
    "plt.scatter([x[0][0] for x in n], [x[0][1]\n",
    "            for x in n], label='Voisins', alpha=.3, s=150.)\n",
    "plt.scatter([x[0][0] for x in s1], [x[0][1]\n",
    "            for x in s1], label='Classe '+s1[0][1], alpha=.7)\n",
    "plt.scatter([x[0][0] for x in s2], [x[0][1]\n",
    "            for x in s2], label='Classe '+s2[0][1], alpha=.7)\n",
    "plt.scatter([x[0][0] for x in s3], [x[0][1]\n",
    "            for x in s3], label='Classe '+s3[0][1], alpha=.7)\n",
    "plt.scatter(input[0], input[1], label='Entrée', s=100.)\n",
    "plt.legend()\n"
   ]
  },
  {
   "cell_type": "code",
   "execution_count": 19,
   "metadata": {},
   "outputs": [
    {
     "data": {
      "text/plain": [
       "['A', 'C']"
      ]
     },
     "execution_count": 19,
     "metadata": {},
     "output_type": "execute_result"
    }
   ],
   "source": [
    "c = [x[1] for x in n]\n",
    "d = {k: c.count(k) for k in ('A', 'B', 'C')}\n",
    "[k for k in d if d[k] == max(d.values())]\n"
   ]
  },
  {
   "cell_type": "code",
   "execution_count": 20,
   "metadata": {},
   "outputs": [
    {
     "name": "stdout",
     "output_type": "stream",
     "text": [
      "Nombre de voisins de classe A : 4\n",
      "Nombre de voisins de classe B : 2\n",
      "Nombre de voisins de classe C : 4\n"
     ]
    }
   ],
   "source": [
    "c = [x[1] for x in n]\n",
    "for k in 'A', 'B', 'C':\n",
    "    print(\"Nombre de voisins de classe \"+k+\" : \"+str(c.count(k)))\n"
   ]
  },
  {
   "cell_type": "code",
   "execution_count": 21,
   "metadata": {},
   "outputs": [],
   "source": [
    "def voisins(entree, donnees, k):\n",
    "    return sorted(donnees, key=lambda d: alg.norm(d[0]-entree))[:k]\n",
    "\n",
    "\n",
    "def vote(classes):\n",
    "    d = {c: classes.count(c) for c in classes}\n",
    "    return [c for c in d if d[c] == max(d.values())]\n",
    "\n",
    "\n",
    "def classification(entree, donnees, k):\n",
    "    v = voisins(entree, donnees, k)\n",
    "    return vote([x[1] for x in v])\n"
   ]
  },
  {
   "cell_type": "code",
   "execution_count": 22,
   "metadata": {},
   "outputs": [
    {
     "name": "stdout",
     "output_type": "stream",
     "text": [
      "[43, 5, 2]\n",
      "[2, 48, 0]\n",
      "[1, 1, 48]\n"
     ]
    }
   ],
   "source": [
    "classeA = [classification(entree, s1+s2+s3, 15)[0] for entree, _ in s1]\n",
    "classeB = [classification(entree, s1+s2+s3, 15)[0] for entree, _ in s2]\n",
    "classeC = [classification(entree, s1+s2+s3, 15)[0] for entree, _ in s3]\n",
    "for c in classeA, classeB, classeC:\n",
    "    print([c.count(cc) for cc in ('A', 'B', 'C')])\n"
   ]
  },
  {
   "cell_type": "code",
   "execution_count": null,
   "metadata": {},
   "outputs": [],
   "source": []
  }
 ],
 "metadata": {
  "kernelspec": {
   "display_name": "Python 3.10.4 ('env': venv)",
   "language": "python",
   "name": "python3"
  },
  "language_info": {
   "codemirror_mode": {
    "name": "ipython",
    "version": 3
   },
   "file_extension": ".py",
   "mimetype": "text/x-python",
   "name": "python",
   "nbconvert_exporter": "python",
   "pygments_lexer": "ipython3",
   "version": "3.11.2"
  },
  "orig_nbformat": 4,
  "vscode": {
   "interpreter": {
    "hash": "f4c8e81a9f0347c6d7a0c9556eec90e1bc8f371f83016d20a0e310206089afb1"
   }
  }
 },
 "nbformat": 4,
 "nbformat_minor": 2
}
